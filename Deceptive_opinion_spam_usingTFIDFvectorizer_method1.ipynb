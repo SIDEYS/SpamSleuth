{
  "nbformat": 4,
  "nbformat_minor": 0,
  "metadata": {
    "colab": {
      "provenance": []
    },
    "kernelspec": {
      "name": "python3",
      "display_name": "Python 3"
    },
    "language_info": {
      "name": "python"
    }
  },
  "cells": [
    {
      "cell_type": "code",
      "source": [
        "import pandas as pd\n",
        "import numpy as np"
      ],
      "metadata": {
        "id": "0vPxkDRLafVm"
      },
      "execution_count": null,
      "outputs": []
    },
    {
      "cell_type": "code",
      "source": [
        "df=pd.read_csv('/content/deceptive-opinion.csv')"
      ],
      "metadata": {
        "id": "htAO2Gt7aMz6"
      },
      "execution_count": null,
      "outputs": []
    },
    {
      "cell_type": "code",
      "source": [
        "df"
      ],
      "metadata": {
        "colab": {
          "base_uri": "https://localhost:8080/",
          "height": 423
        },
        "id": "VgqG4oefabTY",
        "outputId": "b3e762c5-4473-48f7-be16-dd96ed04abe7"
      },
      "execution_count": null,
      "outputs": [
        {
          "output_type": "execute_result",
          "data": {
            "text/plain": [
              "      deceptive             hotel  polarity       source  \\\n",
              "0      truthful            conrad  positive  TripAdvisor   \n",
              "1      truthful             hyatt  positive  TripAdvisor   \n",
              "2      truthful             hyatt  positive  TripAdvisor   \n",
              "3      truthful              omni  positive  TripAdvisor   \n",
              "4      truthful             hyatt  positive  TripAdvisor   \n",
              "...         ...               ...       ...          ...   \n",
              "1595  deceptive  intercontinental  negative        MTurk   \n",
              "1596  deceptive            amalfi  negative        MTurk   \n",
              "1597  deceptive  intercontinental  negative        MTurk   \n",
              "1598  deceptive            palmer  negative        MTurk   \n",
              "1599  deceptive            amalfi  negative        MTurk   \n",
              "\n",
              "                                                   text  \n",
              "0     We stayed for a one night getaway with family ...  \n",
              "1     Triple A rate with upgrade to view room was le...  \n",
              "2     This comes a little late as I'm finally catchi...  \n",
              "3     The Omni Chicago really delivers on all fronts...  \n",
              "4     I asked for a high floor away from the elevato...  \n",
              "...                                                 ...  \n",
              "1595  Problems started when I booked the InterContin...  \n",
              "1596  The Amalfi Hotel has a beautiful website and i...  \n",
              "1597  The Intercontinental Chicago Magnificent Mile ...  \n",
              "1598  The Palmer House Hilton, while it looks good i...  \n",
              "1599  As a former Chicagoan, I'm appalled at the Ama...  \n",
              "\n",
              "[1600 rows x 5 columns]"
            ],
            "text/html": [
              "\n",
              "  <div id=\"df-c0d66a1d-0f80-4daf-a68b-aa43aa5bba07\" class=\"colab-df-container\">\n",
              "    <div>\n",
              "<style scoped>\n",
              "    .dataframe tbody tr th:only-of-type {\n",
              "        vertical-align: middle;\n",
              "    }\n",
              "\n",
              "    .dataframe tbody tr th {\n",
              "        vertical-align: top;\n",
              "    }\n",
              "\n",
              "    .dataframe thead th {\n",
              "        text-align: right;\n",
              "    }\n",
              "</style>\n",
              "<table border=\"1\" class=\"dataframe\">\n",
              "  <thead>\n",
              "    <tr style=\"text-align: right;\">\n",
              "      <th></th>\n",
              "      <th>deceptive</th>\n",
              "      <th>hotel</th>\n",
              "      <th>polarity</th>\n",
              "      <th>source</th>\n",
              "      <th>text</th>\n",
              "    </tr>\n",
              "  </thead>\n",
              "  <tbody>\n",
              "    <tr>\n",
              "      <th>0</th>\n",
              "      <td>truthful</td>\n",
              "      <td>conrad</td>\n",
              "      <td>positive</td>\n",
              "      <td>TripAdvisor</td>\n",
              "      <td>We stayed for a one night getaway with family ...</td>\n",
              "    </tr>\n",
              "    <tr>\n",
              "      <th>1</th>\n",
              "      <td>truthful</td>\n",
              "      <td>hyatt</td>\n",
              "      <td>positive</td>\n",
              "      <td>TripAdvisor</td>\n",
              "      <td>Triple A rate with upgrade to view room was le...</td>\n",
              "    </tr>\n",
              "    <tr>\n",
              "      <th>2</th>\n",
              "      <td>truthful</td>\n",
              "      <td>hyatt</td>\n",
              "      <td>positive</td>\n",
              "      <td>TripAdvisor</td>\n",
              "      <td>This comes a little late as I'm finally catchi...</td>\n",
              "    </tr>\n",
              "    <tr>\n",
              "      <th>3</th>\n",
              "      <td>truthful</td>\n",
              "      <td>omni</td>\n",
              "      <td>positive</td>\n",
              "      <td>TripAdvisor</td>\n",
              "      <td>The Omni Chicago really delivers on all fronts...</td>\n",
              "    </tr>\n",
              "    <tr>\n",
              "      <th>4</th>\n",
              "      <td>truthful</td>\n",
              "      <td>hyatt</td>\n",
              "      <td>positive</td>\n",
              "      <td>TripAdvisor</td>\n",
              "      <td>I asked for a high floor away from the elevato...</td>\n",
              "    </tr>\n",
              "    <tr>\n",
              "      <th>...</th>\n",
              "      <td>...</td>\n",
              "      <td>...</td>\n",
              "      <td>...</td>\n",
              "      <td>...</td>\n",
              "      <td>...</td>\n",
              "    </tr>\n",
              "    <tr>\n",
              "      <th>1595</th>\n",
              "      <td>deceptive</td>\n",
              "      <td>intercontinental</td>\n",
              "      <td>negative</td>\n",
              "      <td>MTurk</td>\n",
              "      <td>Problems started when I booked the InterContin...</td>\n",
              "    </tr>\n",
              "    <tr>\n",
              "      <th>1596</th>\n",
              "      <td>deceptive</td>\n",
              "      <td>amalfi</td>\n",
              "      <td>negative</td>\n",
              "      <td>MTurk</td>\n",
              "      <td>The Amalfi Hotel has a beautiful website and i...</td>\n",
              "    </tr>\n",
              "    <tr>\n",
              "      <th>1597</th>\n",
              "      <td>deceptive</td>\n",
              "      <td>intercontinental</td>\n",
              "      <td>negative</td>\n",
              "      <td>MTurk</td>\n",
              "      <td>The Intercontinental Chicago Magnificent Mile ...</td>\n",
              "    </tr>\n",
              "    <tr>\n",
              "      <th>1598</th>\n",
              "      <td>deceptive</td>\n",
              "      <td>palmer</td>\n",
              "      <td>negative</td>\n",
              "      <td>MTurk</td>\n",
              "      <td>The Palmer House Hilton, while it looks good i...</td>\n",
              "    </tr>\n",
              "    <tr>\n",
              "      <th>1599</th>\n",
              "      <td>deceptive</td>\n",
              "      <td>amalfi</td>\n",
              "      <td>negative</td>\n",
              "      <td>MTurk</td>\n",
              "      <td>As a former Chicagoan, I'm appalled at the Ama...</td>\n",
              "    </tr>\n",
              "  </tbody>\n",
              "</table>\n",
              "<p>1600 rows × 5 columns</p>\n",
              "</div>\n",
              "    <div class=\"colab-df-buttons\">\n",
              "\n",
              "  <div class=\"colab-df-container\">\n",
              "    <button class=\"colab-df-convert\" onclick=\"convertToInteractive('df-c0d66a1d-0f80-4daf-a68b-aa43aa5bba07')\"\n",
              "            title=\"Convert this dataframe to an interactive table.\"\n",
              "            style=\"display:none;\">\n",
              "\n",
              "  <svg xmlns=\"http://www.w3.org/2000/svg\" height=\"24px\" viewBox=\"0 -960 960 960\">\n",
              "    <path d=\"M120-120v-720h720v720H120Zm60-500h600v-160H180v160Zm220 220h160v-160H400v160Zm0 220h160v-160H400v160ZM180-400h160v-160H180v160Zm440 0h160v-160H620v160ZM180-180h160v-160H180v160Zm440 0h160v-160H620v160Z\"/>\n",
              "  </svg>\n",
              "    </button>\n",
              "\n",
              "  <style>\n",
              "    .colab-df-container {\n",
              "      display:flex;\n",
              "      gap: 12px;\n",
              "    }\n",
              "\n",
              "    .colab-df-convert {\n",
              "      background-color: #E8F0FE;\n",
              "      border: none;\n",
              "      border-radius: 50%;\n",
              "      cursor: pointer;\n",
              "      display: none;\n",
              "      fill: #1967D2;\n",
              "      height: 32px;\n",
              "      padding: 0 0 0 0;\n",
              "      width: 32px;\n",
              "    }\n",
              "\n",
              "    .colab-df-convert:hover {\n",
              "      background-color: #E2EBFA;\n",
              "      box-shadow: 0px 1px 2px rgba(60, 64, 67, 0.3), 0px 1px 3px 1px rgba(60, 64, 67, 0.15);\n",
              "      fill: #174EA6;\n",
              "    }\n",
              "\n",
              "    .colab-df-buttons div {\n",
              "      margin-bottom: 4px;\n",
              "    }\n",
              "\n",
              "    [theme=dark] .colab-df-convert {\n",
              "      background-color: #3B4455;\n",
              "      fill: #D2E3FC;\n",
              "    }\n",
              "\n",
              "    [theme=dark] .colab-df-convert:hover {\n",
              "      background-color: #434B5C;\n",
              "      box-shadow: 0px 1px 3px 1px rgba(0, 0, 0, 0.15);\n",
              "      filter: drop-shadow(0px 1px 2px rgba(0, 0, 0, 0.3));\n",
              "      fill: #FFFFFF;\n",
              "    }\n",
              "  </style>\n",
              "\n",
              "    <script>\n",
              "      const buttonEl =\n",
              "        document.querySelector('#df-c0d66a1d-0f80-4daf-a68b-aa43aa5bba07 button.colab-df-convert');\n",
              "      buttonEl.style.display =\n",
              "        google.colab.kernel.accessAllowed ? 'block' : 'none';\n",
              "\n",
              "      async function convertToInteractive(key) {\n",
              "        const element = document.querySelector('#df-c0d66a1d-0f80-4daf-a68b-aa43aa5bba07');\n",
              "        const dataTable =\n",
              "          await google.colab.kernel.invokeFunction('convertToInteractive',\n",
              "                                                    [key], {});\n",
              "        if (!dataTable) return;\n",
              "\n",
              "        const docLinkHtml = 'Like what you see? Visit the ' +\n",
              "          '<a target=\"_blank\" href=https://colab.research.google.com/notebooks/data_table.ipynb>data table notebook</a>'\n",
              "          + ' to learn more about interactive tables.';\n",
              "        element.innerHTML = '';\n",
              "        dataTable['output_type'] = 'display_data';\n",
              "        await google.colab.output.renderOutput(dataTable, element);\n",
              "        const docLink = document.createElement('div');\n",
              "        docLink.innerHTML = docLinkHtml;\n",
              "        element.appendChild(docLink);\n",
              "      }\n",
              "    </script>\n",
              "  </div>\n",
              "\n",
              "\n",
              "<div id=\"df-2ecbd931-46a9-46ac-b432-01ee80593bda\">\n",
              "  <button class=\"colab-df-quickchart\" onclick=\"quickchart('df-2ecbd931-46a9-46ac-b432-01ee80593bda')\"\n",
              "            title=\"Suggest charts\"\n",
              "            style=\"display:none;\">\n",
              "\n",
              "<svg xmlns=\"http://www.w3.org/2000/svg\" height=\"24px\"viewBox=\"0 0 24 24\"\n",
              "     width=\"24px\">\n",
              "    <g>\n",
              "        <path d=\"M19 3H5c-1.1 0-2 .9-2 2v14c0 1.1.9 2 2 2h14c1.1 0 2-.9 2-2V5c0-1.1-.9-2-2-2zM9 17H7v-7h2v7zm4 0h-2V7h2v10zm4 0h-2v-4h2v4z\"/>\n",
              "    </g>\n",
              "</svg>\n",
              "  </button>\n",
              "\n",
              "<style>\n",
              "  .colab-df-quickchart {\n",
              "      --bg-color: #E8F0FE;\n",
              "      --fill-color: #1967D2;\n",
              "      --hover-bg-color: #E2EBFA;\n",
              "      --hover-fill-color: #174EA6;\n",
              "      --disabled-fill-color: #AAA;\n",
              "      --disabled-bg-color: #DDD;\n",
              "  }\n",
              "\n",
              "  [theme=dark] .colab-df-quickchart {\n",
              "      --bg-color: #3B4455;\n",
              "      --fill-color: #D2E3FC;\n",
              "      --hover-bg-color: #434B5C;\n",
              "      --hover-fill-color: #FFFFFF;\n",
              "      --disabled-bg-color: #3B4455;\n",
              "      --disabled-fill-color: #666;\n",
              "  }\n",
              "\n",
              "  .colab-df-quickchart {\n",
              "    background-color: var(--bg-color);\n",
              "    border: none;\n",
              "    border-radius: 50%;\n",
              "    cursor: pointer;\n",
              "    display: none;\n",
              "    fill: var(--fill-color);\n",
              "    height: 32px;\n",
              "    padding: 0;\n",
              "    width: 32px;\n",
              "  }\n",
              "\n",
              "  .colab-df-quickchart:hover {\n",
              "    background-color: var(--hover-bg-color);\n",
              "    box-shadow: 0 1px 2px rgba(60, 64, 67, 0.3), 0 1px 3px 1px rgba(60, 64, 67, 0.15);\n",
              "    fill: var(--button-hover-fill-color);\n",
              "  }\n",
              "\n",
              "  .colab-df-quickchart-complete:disabled,\n",
              "  .colab-df-quickchart-complete:disabled:hover {\n",
              "    background-color: var(--disabled-bg-color);\n",
              "    fill: var(--disabled-fill-color);\n",
              "    box-shadow: none;\n",
              "  }\n",
              "\n",
              "  .colab-df-spinner {\n",
              "    border: 2px solid var(--fill-color);\n",
              "    border-color: transparent;\n",
              "    border-bottom-color: var(--fill-color);\n",
              "    animation:\n",
              "      spin 1s steps(1) infinite;\n",
              "  }\n",
              "\n",
              "  @keyframes spin {\n",
              "    0% {\n",
              "      border-color: transparent;\n",
              "      border-bottom-color: var(--fill-color);\n",
              "      border-left-color: var(--fill-color);\n",
              "    }\n",
              "    20% {\n",
              "      border-color: transparent;\n",
              "      border-left-color: var(--fill-color);\n",
              "      border-top-color: var(--fill-color);\n",
              "    }\n",
              "    30% {\n",
              "      border-color: transparent;\n",
              "      border-left-color: var(--fill-color);\n",
              "      border-top-color: var(--fill-color);\n",
              "      border-right-color: var(--fill-color);\n",
              "    }\n",
              "    40% {\n",
              "      border-color: transparent;\n",
              "      border-right-color: var(--fill-color);\n",
              "      border-top-color: var(--fill-color);\n",
              "    }\n",
              "    60% {\n",
              "      border-color: transparent;\n",
              "      border-right-color: var(--fill-color);\n",
              "    }\n",
              "    80% {\n",
              "      border-color: transparent;\n",
              "      border-right-color: var(--fill-color);\n",
              "      border-bottom-color: var(--fill-color);\n",
              "    }\n",
              "    90% {\n",
              "      border-color: transparent;\n",
              "      border-bottom-color: var(--fill-color);\n",
              "    }\n",
              "  }\n",
              "</style>\n",
              "\n",
              "  <script>\n",
              "    async function quickchart(key) {\n",
              "      const quickchartButtonEl =\n",
              "        document.querySelector('#' + key + ' button');\n",
              "      quickchartButtonEl.disabled = true;  // To prevent multiple clicks.\n",
              "      quickchartButtonEl.classList.add('colab-df-spinner');\n",
              "      try {\n",
              "        const charts = await google.colab.kernel.invokeFunction(\n",
              "            'suggestCharts', [key], {});\n",
              "      } catch (error) {\n",
              "        console.error('Error during call to suggestCharts:', error);\n",
              "      }\n",
              "      quickchartButtonEl.classList.remove('colab-df-spinner');\n",
              "      quickchartButtonEl.classList.add('colab-df-quickchart-complete');\n",
              "    }\n",
              "    (() => {\n",
              "      let quickchartButtonEl =\n",
              "        document.querySelector('#df-2ecbd931-46a9-46ac-b432-01ee80593bda button');\n",
              "      quickchartButtonEl.style.display =\n",
              "        google.colab.kernel.accessAllowed ? 'block' : 'none';\n",
              "    })();\n",
              "  </script>\n",
              "</div>\n",
              "\n",
              "  <div id=\"id_e2d77e11-84ce-4ca1-92da-03ad7790027f\">\n",
              "    <style>\n",
              "      .colab-df-generate {\n",
              "        background-color: #E8F0FE;\n",
              "        border: none;\n",
              "        border-radius: 50%;\n",
              "        cursor: pointer;\n",
              "        display: none;\n",
              "        fill: #1967D2;\n",
              "        height: 32px;\n",
              "        padding: 0 0 0 0;\n",
              "        width: 32px;\n",
              "      }\n",
              "\n",
              "      .colab-df-generate:hover {\n",
              "        background-color: #E2EBFA;\n",
              "        box-shadow: 0px 1px 2px rgba(60, 64, 67, 0.3), 0px 1px 3px 1px rgba(60, 64, 67, 0.15);\n",
              "        fill: #174EA6;\n",
              "      }\n",
              "\n",
              "      [theme=dark] .colab-df-generate {\n",
              "        background-color: #3B4455;\n",
              "        fill: #D2E3FC;\n",
              "      }\n",
              "\n",
              "      [theme=dark] .colab-df-generate:hover {\n",
              "        background-color: #434B5C;\n",
              "        box-shadow: 0px 1px 3px 1px rgba(0, 0, 0, 0.15);\n",
              "        filter: drop-shadow(0px 1px 2px rgba(0, 0, 0, 0.3));\n",
              "        fill: #FFFFFF;\n",
              "      }\n",
              "    </style>\n",
              "    <button class=\"colab-df-generate\" onclick=\"generateWithVariable('df')\"\n",
              "            title=\"Generate code using this dataframe.\"\n",
              "            style=\"display:none;\">\n",
              "\n",
              "  <svg xmlns=\"http://www.w3.org/2000/svg\" height=\"24px\"viewBox=\"0 0 24 24\"\n",
              "       width=\"24px\">\n",
              "    <path d=\"M7,19H8.4L18.45,9,17,7.55,7,17.6ZM5,21V16.75L18.45,3.32a2,2,0,0,1,2.83,0l1.4,1.43a1.91,1.91,0,0,1,.58,1.4,1.91,1.91,0,0,1-.58,1.4L9.25,21ZM18.45,9,17,7.55Zm-12,3A5.31,5.31,0,0,0,4.9,8.1,5.31,5.31,0,0,0,1,6.5,5.31,5.31,0,0,0,4.9,4.9,5.31,5.31,0,0,0,6.5,1,5.31,5.31,0,0,0,8.1,4.9,5.31,5.31,0,0,0,12,6.5,5.46,5.46,0,0,0,6.5,12Z\"/>\n",
              "  </svg>\n",
              "    </button>\n",
              "    <script>\n",
              "      (() => {\n",
              "      const buttonEl =\n",
              "        document.querySelector('#id_e2d77e11-84ce-4ca1-92da-03ad7790027f button.colab-df-generate');\n",
              "      buttonEl.style.display =\n",
              "        google.colab.kernel.accessAllowed ? 'block' : 'none';\n",
              "\n",
              "      buttonEl.onclick = () => {\n",
              "        google.colab.notebook.generateWithVariable('df');\n",
              "      }\n",
              "      })();\n",
              "    </script>\n",
              "  </div>\n",
              "\n",
              "    </div>\n",
              "  </div>\n"
            ],
            "application/vnd.google.colaboratory.intrinsic+json": {
              "type": "dataframe",
              "variable_name": "df",
              "summary": "{\n  \"name\": \"df\",\n  \"rows\": 1600,\n  \"fields\": [\n    {\n      \"column\": \"deceptive\",\n      \"properties\": {\n        \"dtype\": \"category\",\n        \"samples\": [\n          \"deceptive\",\n          \"truthful\"\n        ],\n        \"num_unique_values\": 2,\n        \"semantic_type\": \"\",\n        \"description\": \"\"\n      }\n    },\n    {\n      \"column\": \"hotel\",\n      \"properties\": {\n        \"dtype\": \"category\",\n        \"samples\": [\n          \"conrad\",\n          \"intercontinental\"\n        ],\n        \"num_unique_values\": 20,\n        \"semantic_type\": \"\",\n        \"description\": \"\"\n      }\n    },\n    {\n      \"column\": \"polarity\",\n      \"properties\": {\n        \"dtype\": \"category\",\n        \"samples\": [\n          \"negative\",\n          \"positive\"\n        ],\n        \"num_unique_values\": 2,\n        \"semantic_type\": \"\",\n        \"description\": \"\"\n      }\n    },\n    {\n      \"column\": \"source\",\n      \"properties\": {\n        \"dtype\": \"category\",\n        \"samples\": [\n          \"TripAdvisor\",\n          \"MTurk\"\n        ],\n        \"num_unique_values\": 3,\n        \"semantic_type\": \"\",\n        \"description\": \"\"\n      }\n    },\n    {\n      \"column\": \"text\",\n      \"properties\": {\n        \"dtype\": \"string\",\n        \"samples\": [\n          \"We booked thru hotwire which we have a high percentage of positive outcomes. I was very happy when we saw that we would be staying at The Knickerbocker-as I had stayed when I was younger. We reserved a King Non-Smoker. Upon arriving we were told that they did not have that and we only had the choice of a Smoking room. When argued they stated 'well you booked thru hotwire so you do not have priority'. As we entered the room I noticed the bathroom door was off track and the bathroom light did not turn on. We called the front desk and they fixed the door but not the light. Later that eveing as I took a shower the seal around the shower was so poor water got all over the floor and towels. Also, I must add the room reaked of smoke. The next day when we checked the front desk clerk asked how our stay was and when we told him the problems, he told us the total and had not concern of our issues. We also checked in our bags for the day, and the bellmen came quickly and made very rude comments about us hurrying up so he could get on with his day. We realized a bit later that we forgot something in one of the bags and was told they would not get them back out. STAY AWAY-even if you get a good deal!!\\n\",\n          \"This hotel is rather stupid to be frank. It's a horrible attempt to be retro-sheek but ends up looking similar to that Saturday Night live skit where things are so sheek that they are not functional. The rooms are about the size of a shoe box and there isn't much in them. I actually like the Pedestal in the bathroom but there is no sink. I had to put my make-up on using the toliet for 5-days. It also took me 10-minutes to figure out how to turn on the shower and the bathroom is more like a closet then anything. I had guests over one evening and everyone could hear everyone pee b/c the bathroom doors aren't doors at all and there is no bathroom fan! It was just over the top for me and lots of costruction nearby to keep you up at night. On a good note, the staff are really friendly and the place is really clean. That's about the only good thing I can say about this place. I would not go back.\\n\"\n        ],\n        \"num_unique_values\": 1596,\n        \"semantic_type\": \"\",\n        \"description\": \"\"\n      }\n    }\n  ]\n}"
            }
          },
          "metadata": {},
          "execution_count": 3
        }
      ]
    },
    {
      "cell_type": "code",
      "source": [
        "df.isnull().sum()"
      ],
      "metadata": {
        "colab": {
          "base_uri": "https://localhost:8080/"
        },
        "id": "aQ3FdkZxapKQ",
        "outputId": "bfcb7c96-ad33-403d-db70-f2cf2b1dad9f"
      },
      "execution_count": null,
      "outputs": [
        {
          "output_type": "execute_result",
          "data": {
            "text/plain": [
              "deceptive    0\n",
              "hotel        0\n",
              "polarity     0\n",
              "source       0\n",
              "text         0\n",
              "dtype: int64"
            ]
          },
          "metadata": {},
          "execution_count": 4
        }
      ]
    },
    {
      "cell_type": "code",
      "source": [
        "df['hotel'].unique()"
      ],
      "metadata": {
        "colab": {
          "base_uri": "https://localhost:8080/"
        },
        "id": "DH4Y-0wzayLD",
        "outputId": "5c16196f-a4fc-45a6-c3b8-15a562b1ab72"
      },
      "execution_count": null,
      "outputs": [
        {
          "output_type": "execute_result",
          "data": {
            "text/plain": [
              "array(['conrad', 'hyatt', 'omni', 'fairmont', 'sheraton', 'knickerbocker',\n",
              "       'homewood', 'swissotel', 'ambassador', 'affinia', 'hardrock',\n",
              "       'talbott', 'hilton', 'james', 'monaco', 'sofitel', 'palmer',\n",
              "       'intercontinental', 'allegro', 'amalfi'], dtype=object)"
            ]
          },
          "metadata": {},
          "execution_count": 5
        }
      ]
    },
    {
      "cell_type": "code",
      "source": [
        "df['source'].unique()"
      ],
      "metadata": {
        "colab": {
          "base_uri": "https://localhost:8080/"
        },
        "id": "rpnDySIMa0Uw",
        "outputId": "31deeef2-73cb-499b-cd36-d7047a694da5"
      },
      "execution_count": null,
      "outputs": [
        {
          "output_type": "execute_result",
          "data": {
            "text/plain": [
              "array(['TripAdvisor', 'MTurk', 'Web'], dtype=object)"
            ]
          },
          "metadata": {},
          "execution_count": 6
        }
      ]
    },
    {
      "cell_type": "code",
      "source": [
        "import seaborn as sns\n",
        "import matplotlib.pyplot as plt\n",
        "sns.countplot(x=df['deceptive'],hue='polarity',data=df)"
      ],
      "metadata": {
        "colab": {
          "base_uri": "https://localhost:8080/",
          "height": 467
        },
        "id": "X8ke1Z7Da36q",
        "outputId": "da9bb463-ec05-40c9-995a-92aa9c7b111f"
      },
      "execution_count": null,
      "outputs": [
        {
          "output_type": "execute_result",
          "data": {
            "text/plain": [
              "<Axes: xlabel='deceptive', ylabel='count'>"
            ]
          },
          "metadata": {},
          "execution_count": 7
        },
        {
          "output_type": "display_data",
          "data": {
            "text/plain": [
              "<Figure size 640x480 with 1 Axes>"
            ],
            "image/png": "[encoded data removed]"
          },
          "metadata": {}
        }
      ]
    },
    {
      "cell_type": "code",
      "source": [
        "sns.countplot(x=df['deceptive'],hue='source',data=df)"
      ],
      "metadata": {
        "colab": {
          "base_uri": "https://localhost:8080/",
          "height": 467
        },
        "id": "Uw6n_b14a6JV",
        "outputId": "a15aeb9e-e73c-4964-999e-4aa3f301f61b"
      },
      "execution_count": null,
      "outputs": [
        {
          "output_type": "execute_result",
          "data": {
            "text/plain": [
              "<Axes: xlabel='deceptive', ylabel='count'>"
            ]
          },
          "metadata": {},
          "execution_count": 8
        },
        {
          "output_type": "display_data",
          "data": {
            "text/plain": [
              "<Figure size 640x480 with 1 Axes>"
            ],
            "image/png": "[encoded data removed]"
          },
          "metadata": {}
        }
      ]
    },
    {
      "cell_type": "code",
      "source": [
        "sns.countplot(x=df['deceptive'],hue='hotel',data=df)"
      ],
      "metadata": {
        "colab": {
          "base_uri": "https://localhost:8080/",
          "height": 549
        },
        "id": "tVqPjY4ubDur",
        "outputId": "f072ef0d-a3e0-4c37-e390-358e69dff98a"
      },
      "execution_count": null,
      "outputs": [
        {
          "output_type": "execute_result",
          "data": {
            "text/plain": [
              "<Axes: xlabel='deceptive', ylabel='count'>"
            ]
          },
          "metadata": {},
          "execution_count": 9
        },
        {
          "output_type": "display_data",
          "data": {
            "text/plain": [
              "<Figure size 640x480 with 1 Axes>"
            ],
            "image/png": "[encoded data removed]"
          },
          "metadata": {}
        }
      ]
    },
    {
      "cell_type": "code",
      "source": [
        "#drop the feature hotel\n",
        "df=df.drop(['hotel'],axis=1)"
      ],
      "metadata": {
        "id": "CErMDx-HbJvM"
      },
      "execution_count": null,
      "outputs": []
    },
    {
      "cell_type": "code",
      "source": [
        "df"
      ],
      "metadata": {
        "colab": {
          "base_uri": "https://localhost:8080/",
          "height": 423
        },
        "id": "NLBQUs56bMU6",
        "outputId": "9110f1c0-861d-47f2-c664-cbe51d96747f"
      },
      "execution_count": null,
      "outputs": [
        {
          "output_type": "execute_result",
          "data": {
            "text/plain": [
              "      deceptive  polarity       source  \\\n",
              "0      truthful  positive  TripAdvisor   \n",
              "1      truthful  positive  TripAdvisor   \n",
              "2      truthful  positive  TripAdvisor   \n",
              "3      truthful  positive  TripAdvisor   \n",
              "4      truthful  positive  TripAdvisor   \n",
              "...         ...       ...          ...   \n",
              "1595  deceptive  negative        MTurk   \n",
              "1596  deceptive  negative        MTurk   \n",
              "1597  deceptive  negative        MTurk   \n",
              "1598  deceptive  negative        MTurk   \n",
              "1599  deceptive  negative        MTurk   \n",
              "\n",
              "                                                   text  \n",
              "0     We stayed for a one night getaway with family ...  \n",
              "1     Triple A rate with upgrade to view room was le...  \n",
              "2     This comes a little late as I'm finally catchi...  \n",
              "3     The Omni Chicago really delivers on all fronts...  \n",
              "4     I asked for a high floor away from the elevato...  \n",
              "...                                                 ...  \n",
              "1595  Problems started when I booked the InterContin...  \n",
              "1596  The Amalfi Hotel has a beautiful website and i...  \n",
              "1597  The Intercontinental Chicago Magnificent Mile ...  \n",
              "1598  The Palmer House Hilton, while it looks good i...  \n",
              "1599  As a former Chicagoan, I'm appalled at the Ama...  \n",
              "\n",
              "[1600 rows x 4 columns]"
            ],
            "text/html": [
              "\n",
              "  <div id=\"df-fd4251e4-e21d-474b-b0eb-5a51e7f0f919\" class=\"colab-df-container\">\n",
              "    <div>\n",
              "<style scoped>\n",
              "    .dataframe tbody tr th:only-of-type {\n",
              "        vertical-align: middle;\n",
              "    }\n",
              "\n",
              "    .dataframe tbody tr th {\n",
              "        vertical-align: top;\n",
              "    }\n",
              "\n",
              "    .dataframe thead th {\n",
              "        text-align: right;\n",
              "    }\n",
              "</style>\n",
              "<table border=\"1\" class=\"dataframe\">\n",
              "  <thead>\n",
              "    <tr style=\"text-align: right;\">\n",
              "      <th></th>\n",
              "      <th>deceptive</th>\n",
              "      <th>polarity</th>\n",
              "      <th>source</th>\n",
              "      <th>text</th>\n",
              "    </tr>\n",
              "  </thead>\n",
              "  <tbody>\n",
              "    <tr>\n",
              "      <th>0</th>\n",
              "      <td>truthful</td>\n",
              "      <td>positive</td>\n",
              "      <td>TripAdvisor</td>\n",
              "      <td>We stayed for a one night getaway with family ...</td>\n",
              "    </tr>\n",
              "    <tr>\n",
              "      <th>1</th>\n",
              "      <td>truthful</td>\n",
              "      <td>positive</td>\n",
              "      <td>TripAdvisor</td>\n",
              "      <td>Triple A rate with upgrade to view room was le...</td>\n",
              "    </tr>\n",
              "    <tr>\n",
              "      <th>2</th>\n",
              "      <td>truthful</td>\n",
              "      <td>positive</td>\n",
              "      <td>TripAdvisor</td>\n",
              "      <td>This comes a little late as I'm finally catchi...</td>\n",
              "    </tr>\n",
              "    <tr>\n",
              "      <th>3</th>\n",
              "      <td>truthful</td>\n",
              "      <td>positive</td>\n",
              "      <td>TripAdvisor</td>\n",
              "      <td>The Omni Chicago really delivers on all fronts...</td>\n",
              "    </tr>\n",
              "    <tr>\n",
              "      <th>4</th>\n",
              "      <td>truthful</td>\n",
              "      <td>positive</td>\n",
              "      <td>TripAdvisor</td>\n",
              "      <td>I asked for a high floor away from the elevato...</td>\n",
              "    </tr>\n",
              "    <tr>\n",
              "      <th>...</th>\n",
              "      <td>...</td>\n",
              "      <td>...</td>\n",
              "      <td>...</td>\n",
              "      <td>...</td>\n",
              "    </tr>\n",
              "    <tr>\n",
              "      <th>1595</th>\n",
              "      <td>deceptive</td>\n",
              "      <td>negative</td>\n",
              "      <td>MTurk</td>\n",
              "      <td>Problems started when I booked the InterContin...</td>\n",
              "    </tr>\n",
              "    <tr>\n",
              "      <th>1596</th>\n",
              "      <td>deceptive</td>\n",
              "      <td>negative</td>\n",
              "      <td>MTurk</td>\n",
              "      <td>The Amalfi Hotel has a beautiful website and i...</td>\n",
              "    </tr>\n",
              "    <tr>\n",
              "      <th>1597</th>\n",
              "      <td>deceptive</td>\n",
              "      <td>negative</td>\n",
              "      <td>MTurk</td>\n",
              "      <td>The Intercontinental Chicago Magnificent Mile ...</td>\n",
              "    </tr>\n",
              "    <tr>\n",
              "      <th>1598</th>\n",
              "      <td>deceptive</td>\n",
              "      <td>negative</td>\n",
              "      <td>MTurk</td>\n",
              "      <td>The Palmer House Hilton, while it looks good i...</td>\n",
              "    </tr>\n",
              "    <tr>\n",
              "      <th>1599</th>\n",
              "      <td>deceptive</td>\n",
              "      <td>negative</td>\n",
              "      <td>MTurk</td>\n",
              "      <td>As a former Chicagoan, I'm appalled at the Ama...</td>\n",
              "    </tr>\n",
              "  </tbody>\n",
              "</table>\n",
              "<p>1600 rows × 4 columns</p>\n",
              "</div>\n",
              "    <div class=\"colab-df-buttons\">\n",
              "\n",
              "  <div class=\"colab-df-container\">\n",
              "    <button class=\"colab-df-convert\" onclick=\"convertToInteractive('df-fd4251e4-e21d-474b-b0eb-5a51e7f0f919')\"\n",
              "            title=\"Convert this dataframe to an interactive table.\"\n",
              "            style=\"display:none;\">\n",
              "\n",
              "  <svg xmlns=\"http://www.w3.org/2000/svg\" height=\"24px\" viewBox=\"0 -960 960 960\">\n",
              "    <path d=\"M120-120v-720h720v720H120Zm60-500h600v-160H180v160Zm220 220h160v-160H400v160Zm0 220h160v-160H400v160ZM180-400h160v-160H180v160Zm440 0h160v-160H620v160ZM180-180h160v-160H180v160Zm440 0h160v-160H620v160Z\"/>\n",
              "  </svg>\n",
              "    </button>\n",
              "\n",
              "  <style>\n",
              "    .colab-df-container {\n",
              "      display:flex;\n",
              "      gap: 12px;\n",
              "    }\n",
              "\n",
              "    .colab-df-convert {\n",
              "      background-color: #E8F0FE;\n",
              "      border: none;\n",
              "      border-radius: 50%;\n",
              "      cursor: pointer;\n",
              "      display: none;\n",
              "      fill: #1967D2;\n",
              "      height: 32px;\n",
              "      padding: 0 0 0 0;\n",
              "      width: 32px;\n",
              "    }\n",
              "\n",
              "    .colab-df-convert:hover {\n",
              "      background-color: #E2EBFA;\n",
              "      box-shadow: 0px 1px 2px rgba(60, 64, 67, 0.3), 0px 1px 3px 1px rgba(60, 64, 67, 0.15);\n",
              "      fill: #174EA6;\n",
              "    }\n",
              "\n",
              "    .colab-df-buttons div {\n",
              "      margin-bottom: 4px;\n",
              "    }\n",
              "\n",
              "    [theme=dark] .colab-df-convert {\n",
              "      background-color: #3B4455;\n",
              "      fill: #D2E3FC;\n",
              "    }\n",
              "\n",
              "    [theme=dark] .colab-df-convert:hover {\n",
              "      background-color: #434B5C;\n",
              "      box-shadow: 0px 1px 3px 1px rgba(0, 0, 0, 0.15);\n",
              "      filter: drop-shadow(0px 1px 2px rgba(0, 0, 0, 0.3));\n",
              "      fill: #FFFFFF;\n",
              "    }\n",
              "  </style>\n",
              "\n",
              "    <script>\n",
              "      const buttonEl =\n",
              "        document.querySelector('#df-fd4251e4-e21d-474b-b0eb-5a51e7f0f919 button.colab-df-convert');\n",
              "      buttonEl.style.display =\n",
              "        google.colab.kernel.accessAllowed ? 'block' : 'none';\n",
              "\n",
              "      async function convertToInteractive(key) {\n",
              "        const element = document.querySelector('#df-fd4251e4-e21d-474b-b0eb-5a51e7f0f919');\n",
              "        const dataTable =\n",
              "          await google.colab.kernel.invokeFunction('convertToInteractive',\n",
              "                                                    [key], {});\n",
              "        if (!dataTable) return;\n",
              "\n",
              "        const docLinkHtml = 'Like what you see? Visit the ' +\n",
              "          '<a target=\"_blank\" href=https://colab.research.google.com/notebooks/data_table.ipynb>data table notebook</a>'\n",
              "          + ' to learn more about interactive tables.';\n",
              "        element.innerHTML = '';\n",
              "        dataTable['output_type'] = 'display_data';\n",
              "        await google.colab.output.renderOutput(dataTable, element);\n",
              "        const docLink = document.createElement('div');\n",
              "        docLink.innerHTML = docLinkHtml;\n",
              "        element.appendChild(docLink);\n",
              "      }\n",
              "    </script>\n",
              "  </div>\n",
              "\n",
              "\n",
              "<div id=\"df-97945b15-3577-4507-b1bb-7b7f1b06b37c\">\n",
              "  <button class=\"colab-df-quickchart\" onclick=\"quickchart('df-97945b15-3577-4507-b1bb-7b7f1b06b37c')\"\n",
              "            title=\"Suggest charts\"\n",
              "            style=\"display:none;\">\n",
              "\n",
              "<svg xmlns=\"http://www.w3.org/2000/svg\" height=\"24px\"viewBox=\"0 0 24 24\"\n",
              "     width=\"24px\">\n",
              "    <g>\n",
              "        <path d=\"M19 3H5c-1.1 0-2 .9-2 2v14c0 1.1.9 2 2 2h14c1.1 0 2-.9 2-2V5c0-1.1-.9-2-2-2zM9 17H7v-7h2v7zm4 0h-2V7h2v10zm4 0h-2v-4h2v4z\"/>\n",
              "    </g>\n",
              "</svg>\n",
              "  </button>\n",
              "\n",
              "<style>\n",
              "  .colab-df-quickchart {\n",
              "      --bg-color: #E8F0FE;\n",
              "      --fill-color: #1967D2;\n",
              "      --hover-bg-color: #E2EBFA;\n",
              "      --hover-fill-color: #174EA6;\n",
              "      --disabled-fill-color: #AAA;\n",
              "      --disabled-bg-color: #DDD;\n",
              "  }\n",
              "\n",
              "  [theme=dark] .colab-df-quickchart {\n",
              "      --bg-color: #3B4455;\n",
              "      --fill-color: #D2E3FC;\n",
              "      --hover-bg-color: #434B5C;\n",
              "      --hover-fill-color: #FFFFFF;\n",
              "      --disabled-bg-color: #3B4455;\n",
              "      --disabled-fill-color: #666;\n",
              "  }\n",
              "\n",
              "  .colab-df-quickchart {\n",
              "    background-color: var(--bg-color);\n",
              "    border: none;\n",
              "    border-radius: 50%;\n",
              "    cursor: pointer;\n",
              "    display: none;\n",
              "    fill: var(--fill-color);\n",
              "    height: 32px;\n",
              "    padding: 0;\n",
              "    width: 32px;\n",
              "  }\n",
              "\n",
              "  .colab-df-quickchart:hover {\n",
              "    background-color: var(--hover-bg-color);\n",
              "    box-shadow: 0 1px 2px rgba(60, 64, 67, 0.3), 0 1px 3px 1px rgba(60, 64, 67, 0.15);\n",
              "    fill: var(--button-hover-fill-color);\n",
              "  }\n",
              "\n",
              "  .colab-df-quickchart-complete:disabled,\n",
              "  .colab-df-quickchart-complete:disabled:hover {\n",
              "    background-color: var(--disabled-bg-color);\n",
              "    fill: var(--disabled-fill-color);\n",
              "    box-shadow: none;\n",
              "  }\n",
              "\n",
              "  .colab-df-spinner {\n",
              "    border: 2px solid var(--fill-color);\n",
              "    border-color: transparent;\n",
              "    border-bottom-color: var(--fill-color);\n",
              "    animation:\n",
              "      spin 1s steps(1) infinite;\n",
              "  }\n",
              "\n",
              "  @keyframes spin {\n",
              "    0% {\n",
              "      border-color: transparent;\n",
              "      border-bottom-color: var(--fill-color);\n",
              "      border-left-color: var(--fill-color);\n",
              "    }\n",
              "    20% {\n",
              "      border-color: transparent;\n",
              "      border-left-color: var(--fill-color);\n",
              "      border-top-color: var(--fill-color);\n",
              "    }\n",
              "    30% {\n",
              "      border-color: transparent;\n",
              "      border-left-color: var(--fill-color);\n",
              "      border-top-color: var(--fill-color);\n",
              "      border-right-color: var(--fill-color);\n",
              "    }\n",
              "    40% {\n",
              "      border-color: transparent;\n",
              "      border-right-color: var(--fill-color);\n",
              "      border-top-color: var(--fill-color);\n",
              "    }\n",
              "    60% {\n",
              "      border-color: transparent;\n",
              "      border-right-color: var(--fill-color);\n",
              "    }\n",
              "    80% {\n",
              "      border-color: transparent;\n",
              "      border-right-color: var(--fill-color);\n",
              "      border-bottom-color: var(--fill-color);\n",
              "    }\n",
              "    90% {\n",
              "      border-color: transparent;\n",
              "      border-bottom-color: var(--fill-color);\n",
              "    }\n",
              "  }\n",
              "</style>\n",
              "\n",
              "  <script>\n",
              "    async function quickchart(key) {\n",
              "      const quickchartButtonEl =\n",
              "        document.querySelector('#' + key + ' button');\n",
              "      quickchartButtonEl.disabled = true;  // To prevent multiple clicks.\n",
              "      quickchartButtonEl.classList.add('colab-df-spinner');\n",
              "      try {\n",
              "        const charts = await google.colab.kernel.invokeFunction(\n",
              "            'suggestCharts', [key], {});\n",
              "      } catch (error) {\n",
              "        console.error('Error during call to suggestCharts:', error);\n",
              "      }\n",
              "      quickchartButtonEl.classList.remove('colab-df-spinner');\n",
              "      quickchartButtonEl.classList.add('colab-df-quickchart-complete');\n",
              "    }\n",
              "    (() => {\n",
              "      let quickchartButtonEl =\n",
              "        document.querySelector('#df-97945b15-3577-4507-b1bb-7b7f1b06b37c button');\n",
              "      quickchartButtonEl.style.display =\n",
              "        google.colab.kernel.accessAllowed ? 'block' : 'none';\n",
              "    })();\n",
              "  </script>\n",
              "</div>\n",
              "\n",
              "  <div id=\"id_28063e91-bef7-4b4b-9b85-c51f1967e9a6\">\n",
              "    <style>\n",
              "      .colab-df-generate {\n",
              "        background-color: #E8F0FE;\n",
              "        border: none;\n",
              "        border-radius: 50%;\n",
              "        cursor: pointer;\n",
              "        display: none;\n",
              "        fill: #1967D2;\n",
              "        height: 32px;\n",
              "        padding: 0 0 0 0;\n",
              "        width: 32px;\n",
              "      }\n",
              "\n",
              "      .colab-df-generate:hover {\n",
              "        background-color: #E2EBFA;\n",
              "        box-shadow: 0px 1px 2px rgba(60, 64, 67, 0.3), 0px 1px 3px 1px rgba(60, 64, 67, 0.15);\n",
              "        fill: #174EA6;\n",
              "      }\n",
              "\n",
              "      [theme=dark] .colab-df-generate {\n",
              "        background-color: #3B4455;\n",
              "        fill: #D2E3FC;\n",
              "      }\n",
              "\n",
              "      [theme=dark] .colab-df-generate:hover {\n",
              "        background-color: #434B5C;\n",
              "        box-shadow: 0px 1px 3px 1px rgba(0, 0, 0, 0.15);\n",
              "        filter: drop-shadow(0px 1px 2px rgba(0, 0, 0, 0.3));\n",
              "        fill: #FFFFFF;\n",
              "      }\n",
              "    </style>\n",
              "    <button class=\"colab-df-generate\" onclick=\"generateWithVariable('df')\"\n",
              "            title=\"Generate code using this dataframe.\"\n",
              "            style=\"display:none;\">\n",
              "\n",
              "  <svg xmlns=\"http://www.w3.org/2000/svg\" height=\"24px\"viewBox=\"0 0 24 24\"\n",
              "       width=\"24px\">\n",
              "    <path d=\"M7,19H8.4L18.45,9,17,7.55,7,17.6ZM5,21V16.75L18.45,3.32a2,2,0,0,1,2.83,0l1.4,1.43a1.91,1.91,0,0,1,.58,1.4,1.91,1.91,0,0,1-.58,1.4L9.25,21ZM18.45,9,17,7.55Zm-12,3A5.31,5.31,0,0,0,4.9,8.1,5.31,5.31,0,0,0,1,6.5,5.31,5.31,0,0,0,4.9,4.9,5.31,5.31,0,0,0,6.5,1,5.31,5.31,0,0,0,8.1,4.9,5.31,5.31,0,0,0,12,6.5,5.46,5.46,0,0,0,6.5,12Z\"/>\n",
              "  </svg>\n",
              "    </button>\n",
              "    <script>\n",
              "      (() => {\n",
              "      const buttonEl =\n",
              "        document.querySelector('#id_28063e91-bef7-4b4b-9b85-c51f1967e9a6 button.colab-df-generate');\n",
              "      buttonEl.style.display =\n",
              "        google.colab.kernel.accessAllowed ? 'block' : 'none';\n",
              "\n",
              "      buttonEl.onclick = () => {\n",
              "        google.colab.notebook.generateWithVariable('df');\n",
              "      }\n",
              "      })();\n",
              "    </script>\n",
              "  </div>\n",
              "\n",
              "    </div>\n",
              "  </div>\n"
            ],
            "application/vnd.google.colaboratory.intrinsic+json": {
              "type": "dataframe",
              "variable_name": "df",
              "summary": "{\n  \"name\": \"df\",\n  \"rows\": 1600,\n  \"fields\": [\n    {\n      \"column\": \"deceptive\",\n      \"properties\": {\n        \"dtype\": \"category\",\n        \"samples\": [\n          \"deceptive\",\n          \"truthful\"\n        ],\n        \"num_unique_values\": 2,\n        \"semantic_type\": \"\",\n        \"description\": \"\"\n      }\n    },\n    {\n      \"column\": \"polarity\",\n      \"properties\": {\n        \"dtype\": \"category\",\n        \"samples\": [\n          \"negative\",\n          \"positive\"\n        ],\n        \"num_unique_values\": 2,\n        \"semantic_type\": \"\",\n        \"description\": \"\"\n      }\n    },\n    {\n      \"column\": \"source\",\n      \"properties\": {\n        \"dtype\": \"category\",\n        \"samples\": [\n          \"TripAdvisor\",\n          \"MTurk\"\n        ],\n        \"num_unique_values\": 3,\n        \"semantic_type\": \"\",\n        \"description\": \"\"\n      }\n    },\n    {\n      \"column\": \"text\",\n      \"properties\": {\n        \"dtype\": \"string\",\n        \"samples\": [\n          \"We booked thru hotwire which we have a high percentage of positive outcomes. I was very happy when we saw that we would be staying at The Knickerbocker-as I had stayed when I was younger. We reserved a King Non-Smoker. Upon arriving we were told that they did not have that and we only had the choice of a Smoking room. When argued they stated 'well you booked thru hotwire so you do not have priority'. As we entered the room I noticed the bathroom door was off track and the bathroom light did not turn on. We called the front desk and they fixed the door but not the light. Later that eveing as I took a shower the seal around the shower was so poor water got all over the floor and towels. Also, I must add the room reaked of smoke. The next day when we checked the front desk clerk asked how our stay was and when we told him the problems, he told us the total and had not concern of our issues. We also checked in our bags for the day, and the bellmen came quickly and made very rude comments about us hurrying up so he could get on with his day. We realized a bit later that we forgot something in one of the bags and was told they would not get them back out. STAY AWAY-even if you get a good deal!!\\n\",\n          \"This hotel is rather stupid to be frank. It's a horrible attempt to be retro-sheek but ends up looking similar to that Saturday Night live skit where things are so sheek that they are not functional. The rooms are about the size of a shoe box and there isn't much in them. I actually like the Pedestal in the bathroom but there is no sink. I had to put my make-up on using the toliet for 5-days. It also took me 10-minutes to figure out how to turn on the shower and the bathroom is more like a closet then anything. I had guests over one evening and everyone could hear everyone pee b/c the bathroom doors aren't doors at all and there is no bathroom fan! It was just over the top for me and lots of costruction nearby to keep you up at night. On a good note, the staff are really friendly and the place is really clean. That's about the only good thing I can say about this place. I would not go back.\\n\"\n        ],\n        \"num_unique_values\": 1596,\n        \"semantic_type\": \"\",\n        \"description\": \"\"\n      }\n    }\n  ]\n}"
            }
          },
          "metadata": {},
          "execution_count": 11
        }
      ]
    },
    {
      "cell_type": "code",
      "source": [
        "import nltk\n",
        "from nltk.stem import PorterStemmer\n",
        "from nltk.tokenize import sent_tokenize, word_tokenize\n",
        "import re\n",
        "import string\n",
        "def text_cleaning(text):\n",
        "    '''\n",
        "    Make text lowercase, remove text in square brackets,remove links,remove special characters\n",
        "    and remove words containing numbers.\n",
        "    '''\n",
        "    text = text.lower()\n",
        "    text = re.sub('\\[.*?\\]', '', text)\n",
        "    text = re.sub(\"\\\\W\",\" \",text) # remove special chars\n",
        "    text = re.sub('https?://\\S+|www\\.\\S+', '', text)\n",
        "    text = re.sub('<.*?>+', '', text)\n",
        "    text = re.sub('[%s]' % re.escape(string.punctuation), '', text)\n",
        "    text = re.sub('\\n', '', text)\n",
        "    text = re.sub('\\w*\\d\\w*', '', text)\n",
        "\n",
        "    return text"
      ],
      "metadata": {
        "id": "eov6joCubQBD"
      },
      "execution_count": null,
      "outputs": []
    },
    {
      "cell_type": "code",
      "source": [
        "df['text']=df['text'].apply(text_cleaning)"
      ],
      "metadata": {
        "id": "hTG5KsR6bQ8k"
      },
      "execution_count": null,
      "outputs": []
    },
    {
      "cell_type": "code",
      "source": [
        "df"
      ],
      "metadata": {
        "colab": {
          "base_uri": "https://localhost:8080/",
          "height": 423
        },
        "id": "wLU-YK5JbUvu",
        "outputId": "7fafec19-0d4e-4b54-88cf-f2b4a5306a1e"
      },
      "execution_count": null,
      "outputs": [
        {
          "output_type": "execute_result",
          "data": {
            "text/plain": [
              "      deceptive  polarity       source  \\\n",
              "0      truthful  positive  TripAdvisor   \n",
              "1      truthful  positive  TripAdvisor   \n",
              "2      truthful  positive  TripAdvisor   \n",
              "3      truthful  positive  TripAdvisor   \n",
              "4      truthful  positive  TripAdvisor   \n",
              "...         ...       ...          ...   \n",
              "1595  deceptive  negative        MTurk   \n",
              "1596  deceptive  negative        MTurk   \n",
              "1597  deceptive  negative        MTurk   \n",
              "1598  deceptive  negative        MTurk   \n",
              "1599  deceptive  negative        MTurk   \n",
              "\n",
              "                                                   text  \n",
              "0     we stayed for a one night getaway with family ...  \n",
              "1     triple a rate with upgrade to view room was le...  \n",
              "2     this comes a little late as i m finally catchi...  \n",
              "3     the omni chicago really delivers on all fronts...  \n",
              "4     i asked for a high floor away from the elevato...  \n",
              "...                                                 ...  \n",
              "1595  problems started when i booked the intercontin...  \n",
              "1596  the amalfi hotel has a beautiful website and i...  \n",
              "1597  the intercontinental chicago magnificent mile ...  \n",
              "1598  the palmer house hilton  while it looks good i...  \n",
              "1599  as a former chicagoan  i m appalled at the ama...  \n",
              "\n",
              "[1600 rows x 4 columns]"
            ],
            "text/html": [
              "\n",
              "  <div id=\"df-8c619c7a-7d72-4fcd-8b41-59d56a472fbd\" class=\"colab-df-container\">\n",
              "    <div>\n",
              "<style scoped>\n",
              "    .dataframe tbody tr th:only-of-type {\n",
              "        vertical-align: middle;\n",
              "    }\n",
              "\n",
              "    .dataframe tbody tr th {\n",
              "        vertical-align: top;\n",
              "    }\n",
              "\n",
              "    .dataframe thead th {\n",
              "        text-align: right;\n",
              "    }\n",
              "</style>\n",
              "<table border=\"1\" class=\"dataframe\">\n",
              "  <thead>\n",
              "    <tr style=\"text-align: right;\">\n",
              "      <th></th>\n",
              "      <th>deceptive</th>\n",
              "      <th>polarity</th>\n",
              "      <th>source</th>\n",
              "      <th>text</th>\n",
              "    </tr>\n",
              "  </thead>\n",
              "  <tbody>\n",
              "    <tr>\n",
              "      <th>0</th>\n",
              "      <td>truthful</td>\n",
              "      <td>positive</td>\n",
              "      <td>TripAdvisor</td>\n",
              "      <td>we stayed for a one night getaway with family ...</td>\n",
              "    </tr>\n",
              "    <tr>\n",
              "      <th>1</th>\n",
              "      <td>truthful</td>\n",
              "      <td>positive</td>\n",
              "      <td>TripAdvisor</td>\n",
              "      <td>triple a rate with upgrade to view room was le...</td>\n",
              "    </tr>\n",
              "    <tr>\n",
              "      <th>2</th>\n",
              "      <td>truthful</td>\n",
              "      <td>positive</td>\n",
              "      <td>TripAdvisor</td>\n",
              "      <td>this comes a little late as i m finally catchi...</td>\n",
              "    </tr>\n",
              "    <tr>\n",
              "      <th>3</th>\n",
              "      <td>truthful</td>\n",
              "      <td>positive</td>\n",
              "      <td>TripAdvisor</td>\n",
              "      <td>the omni chicago really delivers on all fronts...</td>\n",
              "    </tr>\n",
              "    <tr>\n",
              "      <th>4</th>\n",
              "      <td>truthful</td>\n",
              "      <td>positive</td>\n",
              "      <td>TripAdvisor</td>\n",
              "      <td>i asked for a high floor away from the elevato...</td>\n",
              "    </tr>\n",
              "    <tr>\n",
              "      <th>...</th>\n",
              "      <td>...</td>\n",
              "      <td>...</td>\n",
              "      <td>...</td>\n",
              "      <td>...</td>\n",
              "    </tr>\n",
              "    <tr>\n",
              "      <th>1595</th>\n",
              "      <td>deceptive</td>\n",
              "      <td>negative</td>\n",
              "      <td>MTurk</td>\n",
              "      <td>problems started when i booked the intercontin...</td>\n",
              "    </tr>\n",
              "    <tr>\n",
              "      <th>1596</th>\n",
              "      <td>deceptive</td>\n",
              "      <td>negative</td>\n",
              "      <td>MTurk</td>\n",
              "      <td>the amalfi hotel has a beautiful website and i...</td>\n",
              "    </tr>\n",
              "    <tr>\n",
              "      <th>1597</th>\n",
              "      <td>deceptive</td>\n",
              "      <td>negative</td>\n",
              "      <td>MTurk</td>\n",
              "      <td>the intercontinental chicago magnificent mile ...</td>\n",
              "    </tr>\n",
              "    <tr>\n",
              "      <th>1598</th>\n",
              "      <td>deceptive</td>\n",
              "      <td>negative</td>\n",
              "      <td>MTurk</td>\n",
              "      <td>the palmer house hilton  while it looks good i...</td>\n",
              "    </tr>\n",
              "    <tr>\n",
              "      <th>1599</th>\n",
              "      <td>deceptive</td>\n",
              "      <td>negative</td>\n",
              "      <td>MTurk</td>\n",
              "      <td>as a former chicagoan  i m appalled at the ama...</td>\n",
              "    </tr>\n",
              "  </tbody>\n",
              "</table>\n",
              "<p>1600 rows × 4 columns</p>\n",
              "</div>\n",
              "    <div class=\"colab-df-buttons\">\n",
              "\n",
              "  <div class=\"colab-df-container\">\n",
              "    <button class=\"colab-df-convert\" onclick=\"convertToInteractive('df-8c619c7a-7d72-4fcd-8b41-59d56a472fbd')\"\n",
              "            title=\"Convert this dataframe to an interactive table.\"\n",
              "            style=\"display:none;\">\n",
              "\n",
              "  <svg xmlns=\"http://www.w3.org/2000/svg\" height=\"24px\" viewBox=\"0 -960 960 960\">\n",
              "    <path d=\"M120-120v-720h720v720H120Zm60-500h600v-160H180v160Zm220 220h160v-160H400v160Zm0 220h160v-160H400v160ZM180-400h160v-160H180v160Zm440 0h160v-160H620v160ZM180-180h160v-160H180v160Zm440 0h160v-160H620v160Z\"/>\n",
              "  </svg>\n",
              "    </button>\n",
              "\n",
              "  <style>\n",
              "    .colab-df-container {\n",
              "      display:flex;\n",
              "      gap: 12px;\n",
              "    }\n",
              "\n",
              "    .colab-df-convert {\n",
              "      background-color: #E8F0FE;\n",
              "      border: none;\n",
              "      border-radius: 50%;\n",
              "      cursor: pointer;\n",
              "      display: none;\n",
              "      fill: #1967D2;\n",
              "      height: 32px;\n",
              "      padding: 0 0 0 0;\n",
              "      width: 32px;\n",
              "    }\n",
              "\n",
              "    .colab-df-convert:hover {\n",
              "      background-color: #E2EBFA;\n",
              "      box-shadow: 0px 1px 2px rgba(60, 64, 67, 0.3), 0px 1px 3px 1px rgba(60, 64, 67, 0.15);\n",
              "      fill: #174EA6;\n",
              "    }\n",
              "\n",
              "    .colab-df-buttons div {\n",
              "      margin-bottom: 4px;\n",
              "    }\n",
              "\n",
              "    [theme=dark] .colab-df-convert {\n",
              "      background-color: #3B4455;\n",
              "      fill: #D2E3FC;\n",
              "    }\n",
              "\n",
              "    [theme=dark] .colab-df-convert:hover {\n",
              "      background-color: #434B5C;\n",
              "      box-shadow: 0px 1px 3px 1px rgba(0, 0, 0, 0.15);\n",
              "      filter: drop-shadow(0px 1px 2px rgba(0, 0, 0, 0.3));\n",
              "      fill: #FFFFFF;\n",
              "    }\n",
              "  </style>\n",
              "\n",
              "    <script>\n",
              "      const buttonEl =\n",
              "        document.querySelector('#df-8c619c7a-7d72-4fcd-8b41-59d56a472fbd button.colab-df-convert');\n",
              "      buttonEl.style.display =\n",
              "        google.colab.kernel.accessAllowed ? 'block' : 'none';\n",
              "\n",
              "      async function convertToInteractive(key) {\n",
              "        const element = document.querySelector('#df-8c619c7a-7d72-4fcd-8b41-59d56a472fbd');\n",
              "        const dataTable =\n",
              "          await google.colab.kernel.invokeFunction('convertToInteractive',\n",
              "                                                    [key], {});\n",
              "        if (!dataTable) return;\n",
              "\n",
              "        const docLinkHtml = 'Like what you see? Visit the ' +\n",
              "          '<a target=\"_blank\" href=https://colab.research.google.com/notebooks/data_table.ipynb>data table notebook</a>'\n",
              "          + ' to learn more about interactive tables.';\n",
              "        element.innerHTML = '';\n",
              "        dataTable['output_type'] = 'display_data';\n",
              "        await google.colab.output.renderOutput(dataTable, element);\n",
              "        const docLink = document.createElement('div');\n",
              "        docLink.innerHTML = docLinkHtml;\n",
              "        element.appendChild(docLink);\n",
              "      }\n",
              "    </script>\n",
              "  </div>\n",
              "\n",
              "\n",
              "<div id=\"df-8564657c-ee1c-4f80-bc02-916404bb55be\">\n",
              "  <button class=\"colab-df-quickchart\" onclick=\"quickchart('df-8564657c-ee1c-4f80-bc02-916404bb55be')\"\n",
              "            title=\"Suggest charts\"\n",
              "            style=\"display:none;\">\n",
              "\n",
              "<svg xmlns=\"http://www.w3.org/2000/svg\" height=\"24px\"viewBox=\"0 0 24 24\"\n",
              "     width=\"24px\">\n",
              "    <g>\n",
              "        <path d=\"M19 3H5c-1.1 0-2 .9-2 2v14c0 1.1.9 2 2 2h14c1.1 0 2-.9 2-2V5c0-1.1-.9-2-2-2zM9 17H7v-7h2v7zm4 0h-2V7h2v10zm4 0h-2v-4h2v4z\"/>\n",
              "    </g>\n",
              "</svg>\n",
              "  </button>\n",
              "\n",
              "<style>\n",
              "  .colab-df-quickchart {\n",
              "      --bg-color: #E8F0FE;\n",
              "      --fill-color: #1967D2;\n",
              "      --hover-bg-color: #E2EBFA;\n",
              "      --hover-fill-color: #174EA6;\n",
              "      --disabled-fill-color: #AAA;\n",
              "      --disabled-bg-color: #DDD;\n",
              "  }\n",
              "\n",
              "  [theme=dark] .colab-df-quickchart {\n",
              "      --bg-color: #3B4455;\n",
              "      --fill-color: #D2E3FC;\n",
              "      --hover-bg-color: #434B5C;\n",
              "      --hover-fill-color: #FFFFFF;\n",
              "      --disabled-bg-color: #3B4455;\n",
              "      --disabled-fill-color: #666;\n",
              "  }\n",
              "\n",
              "  .colab-df-quickchart {\n",
              "    background-color: var(--bg-color);\n",
              "    border: none;\n",
              "    border-radius: 50%;\n",
              "    cursor: pointer;\n",
              "    display: none;\n",
              "    fill: var(--fill-color);\n",
              "    height: 32px;\n",
              "    padding: 0;\n",
              "    width: 32px;\n",
              "  }\n",
              "\n",
              "  .colab-df-quickchart:hover {\n",
              "    background-color: var(--hover-bg-color);\n",
              "    box-shadow: 0 1px 2px rgba(60, 64, 67, 0.3), 0 1px 3px 1px rgba(60, 64, 67, 0.15);\n",
              "    fill: var(--button-hover-fill-color);\n",
              "  }\n",
              "\n",
              "  .colab-df-quickchart-complete:disabled,\n",
              "  .colab-df-quickchart-complete:disabled:hover {\n",
              "    background-color: var(--disabled-bg-color);\n",
              "    fill: var(--disabled-fill-color);\n",
              "    box-shadow: none;\n",
              "  }\n",
              "\n",
              "  .colab-df-spinner {\n",
              "    border: 2px solid var(--fill-color);\n",
              "    border-color: transparent;\n",
              "    border-bottom-color: var(--fill-color);\n",
              "    animation:\n",
              "      spin 1s steps(1) infinite;\n",
              "  }\n",
              "\n",
              "  @keyframes spin {\n",
              "    0% {\n",
              "      border-color: transparent;\n",
              "      border-bottom-color: var(--fill-color);\n",
              "      border-left-color: var(--fill-color);\n",
              "    }\n",
              "    20% {\n",
              "      border-color: transparent;\n",
              "      border-left-color: var(--fill-color);\n",
              "      border-top-color: var(--fill-color);\n",
              "    }\n",
              "    30% {\n",
              "      border-color: transparent;\n",
              "      border-left-color: var(--fill-color);\n",
              "      border-top-color: var(--fill-color);\n",
              "      border-right-color: var(--fill-color);\n",
              "    }\n",
              "    40% {\n",
              "      border-color: transparent;\n",
              "      border-right-color: var(--fill-color);\n",
              "      border-top-color: var(--fill-color);\n",
              "    }\n",
              "    60% {\n",
              "      border-color: transparent;\n",
              "      border-right-color: var(--fill-color);\n",
              "    }\n",
              "    80% {\n",
              "      border-color: transparent;\n",
              "      border-right-color: var(--fill-color);\n",
              "      border-bottom-color: var(--fill-color);\n",
              "    }\n",
              "    90% {\n",
              "      border-color: transparent;\n",
              "      border-bottom-color: var(--fill-color);\n",
              "    }\n",
              "  }\n",
              "</style>\n",
              "\n",
              "  <script>\n",
              "    async function quickchart(key) {\n",
              "      const quickchartButtonEl =\n",
              "        document.querySelector('#' + key + ' button');\n",
              "      quickchartButtonEl.disabled = true;  // To prevent multiple clicks.\n",
              "      quickchartButtonEl.classList.add('colab-df-spinner');\n",
              "      try {\n",
              "        const charts = await google.colab.kernel.invokeFunction(\n",
              "            'suggestCharts', [key], {});\n",
              "      } catch (error) {\n",
              "        console.error('Error during call to suggestCharts:', error);\n",
              "      }\n",
              "      quickchartButtonEl.classList.remove('colab-df-spinner');\n",
              "      quickchartButtonEl.classList.add('colab-df-quickchart-complete');\n",
              "    }\n",
              "    (() => {\n",
              "      let quickchartButtonEl =\n",
              "        document.querySelector('#df-8564657c-ee1c-4f80-bc02-916404bb55be button');\n",
              "      quickchartButtonEl.style.display =\n",
              "        google.colab.kernel.accessAllowed ? 'block' : 'none';\n",
              "    })();\n",
              "  </script>\n",
              "</div>\n",
              "\n",
              "  <div id=\"id_e48fc8e2-1d6c-4d79-a1da-d85b10813707\">\n",
              "    <style>\n",
              "      .colab-df-generate {\n",
              "        background-color: #E8F0FE;\n",
              "        border: none;\n",
              "        border-radius: 50%;\n",
              "        cursor: pointer;\n",
              "        display: none;\n",
              "        fill: #1967D2;\n",
              "        height: 32px;\n",
              "        padding: 0 0 0 0;\n",
              "        width: 32px;\n",
              "      }\n",
              "\n",
              "      .colab-df-generate:hover {\n",
              "        background-color: #E2EBFA;\n",
              "        box-shadow: 0px 1px 2px rgba(60, 64, 67, 0.3), 0px 1px 3px 1px rgba(60, 64, 67, 0.15);\n",
              "        fill: #174EA6;\n",
              "      }\n",
              "\n",
              "      [theme=dark] .colab-df-generate {\n",
              "        background-color: #3B4455;\n",
              "        fill: #D2E3FC;\n",
              "      }\n",
              "\n",
              "      [theme=dark] .colab-df-generate:hover {\n",
              "        background-color: #434B5C;\n",
              "        box-shadow: 0px 1px 3px 1px rgba(0, 0, 0, 0.15);\n",
              "        filter: drop-shadow(0px 1px 2px rgba(0, 0, 0, 0.3));\n",
              "        fill: #FFFFFF;\n",
              "      }\n",
              "    </style>\n",
              "    <button class=\"colab-df-generate\" onclick=\"generateWithVariable('df')\"\n",
              "            title=\"Generate code using this dataframe.\"\n",
              "            style=\"display:none;\">\n",
              "\n",
              "  <svg xmlns=\"http://www.w3.org/2000/svg\" height=\"24px\"viewBox=\"0 0 24 24\"\n",
              "       width=\"24px\">\n",
              "    <path d=\"M7,19H8.4L18.45,9,17,7.55,7,17.6ZM5,21V16.75L18.45,3.32a2,2,0,0,1,2.83,0l1.4,1.43a1.91,1.91,0,0,1,.58,1.4,1.91,1.91,0,0,1-.58,1.4L9.25,21ZM18.45,9,17,7.55Zm-12,3A5.31,5.31,0,0,0,4.9,8.1,5.31,5.31,0,0,0,1,6.5,5.31,5.31,0,0,0,4.9,4.9,5.31,5.31,0,0,0,6.5,1,5.31,5.31,0,0,0,8.1,4.9,5.31,5.31,0,0,0,12,6.5,5.46,5.46,0,0,0,6.5,12Z\"/>\n",
              "  </svg>\n",
              "    </button>\n",
              "    <script>\n",
              "      (() => {\n",
              "      const buttonEl =\n",
              "        document.querySelector('#id_e48fc8e2-1d6c-4d79-a1da-d85b10813707 button.colab-df-generate');\n",
              "      buttonEl.style.display =\n",
              "        google.colab.kernel.accessAllowed ? 'block' : 'none';\n",
              "\n",
              "      buttonEl.onclick = () => {\n",
              "        google.colab.notebook.generateWithVariable('df');\n",
              "      }\n",
              "      })();\n",
              "    </script>\n",
              "  </div>\n",
              "\n",
              "    </div>\n",
              "  </div>\n"
            ],
            "application/vnd.google.colaboratory.intrinsic+json": {
              "type": "dataframe",
              "variable_name": "df",
              "summary": "{\n  \"name\": \"df\",\n  \"rows\": 1600,\n  \"fields\": [\n    {\n      \"column\": \"deceptive\",\n      \"properties\": {\n        \"dtype\": \"category\",\n        \"samples\": [\n          \"deceptive\",\n          \"truthful\"\n        ],\n        \"num_unique_values\": 2,\n        \"semantic_type\": \"\",\n        \"description\": \"\"\n      }\n    },\n    {\n      \"column\": \"polarity\",\n      \"properties\": {\n        \"dtype\": \"category\",\n        \"samples\": [\n          \"negative\",\n          \"positive\"\n        ],\n        \"num_unique_values\": 2,\n        \"semantic_type\": \"\",\n        \"description\": \"\"\n      }\n    },\n    {\n      \"column\": \"source\",\n      \"properties\": {\n        \"dtype\": \"category\",\n        \"samples\": [\n          \"TripAdvisor\",\n          \"MTurk\"\n        ],\n        \"num_unique_values\": 3,\n        \"semantic_type\": \"\",\n        \"description\": \"\"\n      }\n    },\n    {\n      \"column\": \"text\",\n      \"properties\": {\n        \"dtype\": \"string\",\n        \"samples\": [\n          \"we booked thru hotwire which we have a high percentage of positive outcomes  i was very happy when we saw that we would be staying at the knickerbocker as i had stayed when i was younger  we reserved a king non smoker  upon arriving we were told that they did not have that and we only had the choice of a smoking room  when argued they stated  well you booked thru hotwire so you do not have priority   as we entered the room i noticed the bathroom door was off track and the bathroom light did not turn on  we called the front desk and they fixed the door but not the light  later that eveing as i took a shower the seal around the shower was so poor water got all over the floor and towels  also  i must add the room reaked of smoke  the next day when we checked the front desk clerk asked how our stay was and when we told him the problems  he told us the total and had not concern of our issues  we also checked in our bags for the day  and the bellmen came quickly and made very rude comments about us hurrying up so he could get on with his day  we realized a bit later that we forgot something in one of the bags and was told they would not get them back out  stay away even if you get a good deal   \",\n          \"this hotel is rather stupid to be frank  it s a horrible attempt to be retro sheek but ends up looking similar to that saturday night live skit where things are so sheek that they are not functional  the rooms are about the size of a shoe box and there isn t much in them  i actually like the pedestal in the bathroom but there is no sink  i had to put my make up on using the toliet for  days  it also took me  minutes to figure out how to turn on the shower and the bathroom is more like a closet then anything  i had guests over one evening and everyone could hear everyone pee b c the bathroom doors aren t doors at all and there is no bathroom fan  it was just over the top for me and lots of costruction nearby to keep you up at night  on a good note  the staff are really friendly and the place is really clean  that s about the only good thing i can say about this place  i would not go back  \"\n        ],\n        \"num_unique_values\": 1596,\n        \"semantic_type\": \"\",\n        \"description\": \"\"\n      }\n    }\n  ]\n}"
            }
          },
          "metadata": {},
          "execution_count": 14
        }
      ]
    },
    {
      "cell_type": "code",
      "source": [
        "df['complete_text']=df['source'] + '' +df['text']"
      ],
      "metadata": {
        "id": "W3QbuPaCbaA1"
      },
      "execution_count": null,
      "outputs": []
    },
    {
      "cell_type": "code",
      "source": [
        "x=df['complete_text']\n",
        "y=df['deceptive']"
      ],
      "metadata": {
        "id": "8ZlGFUzoba4l"
      },
      "execution_count": null,
      "outputs": []
    },
    {
      "cell_type": "code",
      "source": [
        "x.head()"
      ],
      "metadata": {
        "colab": {
          "base_uri": "https://localhost:8080/"
        },
        "id": "vSSGMKrKQQd_",
        "outputId": "601eceaa-e7aa-4e07-8f8c-73bd9e351635"
      },
      "execution_count": null,
      "outputs": [
        {
          "output_type": "execute_result",
          "data": {
            "text/plain": [
              "0    TripAdvisorwe stayed for a one night getaway w...\n",
              "1    TripAdvisortriple a rate with upgrade to view ...\n",
              "2    TripAdvisorthis comes a little late as i m fin...\n",
              "3    TripAdvisorthe omni chicago really delivers on...\n",
              "4    TripAdvisori asked for a high floor away from ...\n",
              "Name: complete_text, dtype: object"
            ]
          },
          "metadata": {},
          "execution_count": 17
        }
      ]
    },
    {
      "cell_type": "code",
      "source": [
        "# prompt: in x.head() i want to drop the sr no field and only keep text\n",
        "\n",
        "x.head()[1:]\n"
      ],
      "metadata": {
        "colab": {
          "base_uri": "https://localhost:8080/"
        },
        "id": "ySjVglOFQU8r",
        "outputId": "1a3e7e39-19c4-4568-95a9-a0e8c83fee39"
      },
      "execution_count": null,
      "outputs": [
        {
          "output_type": "execute_result",
          "data": {
            "text/plain": [
              "1    TripAdvisortriple a rate with upgrade to view ...\n",
              "2    TripAdvisorthis comes a little late as i m fin...\n",
              "3    TripAdvisorthe omni chicago really delivers on...\n",
              "4    TripAdvisori asked for a high floor away from ...\n",
              "Name: complete_text, dtype: object"
            ]
          },
          "metadata": {},
          "execution_count": 18
        }
      ]
    },
    {
      "cell_type": "code",
      "source": [
        "print(x)"
      ],
      "metadata": {
        "colab": {
          "base_uri": "https://localhost:8080/"
        },
        "id": "ux6udc_qO813",
        "outputId": "7d255889-e72c-4851-f23e-f8eecbb7c699"
      },
      "execution_count": null,
      "outputs": [
        {
          "output_type": "stream",
          "name": "stdout",
          "text": [
            "0       TripAdvisorwe stayed for a one night getaway w...\n",
            "1       TripAdvisortriple a rate with upgrade to view ...\n",
            "2       TripAdvisorthis comes a little late as i m fin...\n",
            "3       TripAdvisorthe omni chicago really delivers on...\n",
            "4       TripAdvisori asked for a high floor away from ...\n",
            "                              ...                        \n",
            "1595    MTurkproblems started when i booked the interc...\n",
            "1596    MTurkthe amalfi hotel has a beautiful website ...\n",
            "1597    MTurkthe intercontinental chicago magnificent ...\n",
            "1598    MTurkthe palmer house hilton  while it looks g...\n",
            "1599    MTurkas a former chicagoan  i m appalled at th...\n",
            "Name: complete_text, Length: 1600, dtype: object\n"
          ]
        }
      ]
    },
    {
      "cell_type": "code",
      "source": [
        "# Assuming your DataFrame is named 'df' and the column containing text is named 'text_column'\n",
        "print(x.iloc[1595])\n"
      ],
      "metadata": {
        "colab": {
          "base_uri": "https://localhost:8080/"
        },
        "id": "1-UzWEFNAtfI",
        "outputId": "7dcad24c-de36-4524-f063-e35d6af1afc6"
      },
      "execution_count": null,
      "outputs": [
        {
          "output_type": "stream",
          "name": "stdout",
          "text": [
            "MTurkproblems started when i booked the intercontinental chicago online at the hotel s site  and got a server error  somehow i managed to get my reservation  and wish i had looked elsewhere on this great chicago street  filled with plenty of other options  the server errors continued at check in and didn t let up  i was on a holiday weekend  but far too many others must have been pushy conventioneers  and i had trouble getting served  the hotel is enormous and doesn t give a sense of comfort  the health facilities are also just too big  so noisy and crowded  and internet access was   a day  kind of surprising when i can go around the corner to a starbucks  next time  i ll pick a more intimate place nearby  without so many  server errors   \n"
          ]
        }
      ]
    },
    {
      "cell_type": "code",
      "source": [
        "from sklearn.preprocessing import LabelEncoder\n",
        "from sklearn.model_selection import train_test_split\n",
        "le=LabelEncoder()\n",
        "y=le.fit_transform(y)"
      ],
      "metadata": {
        "id": "kdKITMQCbf_g"
      },
      "execution_count": null,
      "outputs": []
    },
    {
      "cell_type": "code",
      "source": [
        "x_train,x_test,y_train,y_test=train_test_split(x,y,random_state=0,test_size=0.2)"
      ],
      "metadata": {
        "id": "MuisQFYBbigE"
      },
      "execution_count": null,
      "outputs": []
    },
    {
      "cell_type": "code",
      "source": [
        "from sklearn.feature_extraction.text import TfidfVectorizer\n",
        "vectorizer = TfidfVectorizer()\n",
        "Processed_Text = vectorizer.fit_transform(df['complete_text'])\n"
      ],
      "metadata": {
        "id": "mQhkWefmFZbR"
      },
      "execution_count": null,
      "outputs": []
    },
    {
      "cell_type": "code",
      "source": [
        "from sklearn.feature_extraction.text import CountVectorizer\n",
        "cv=CountVectorizer(ngram_range=(1,3))"
      ],
      "metadata": {
        "id": "uHp86niKbk_g"
      },
      "execution_count": null,
      "outputs": []
    },
    {
      "cell_type": "code",
      "source": [
        "print(x_train)"
      ],
      "metadata": {
        "colab": {
          "base_uri": "https://localhost:8080/"
        },
        "id": "vBEqVIKHOsW3",
        "outputId": "9ab0e7db-4c17-4053-f687-e99ecd15fa6f"
      },
      "execution_count": null,
      "outputs": [
        {
          "output_type": "stream",
          "name": "stdout",
          "text": [
            "728     MTurkif you have the money  amalfi hotel is th...\n",
            "48      TripAdvisorfor the price of the marriott we sp...\n",
            "644     MTurki traveled to chicago with my husband for...\n",
            "615     MTurki recently stayed in the talbott hotel in...\n",
            "757     MTurkamalfi hotel chicago has several factors ...\n",
            "                              ...                        \n",
            "763     MTurkthe intercontinental chicago is convenien...\n",
            "835     Webseriously overpriced the room was clean and...\n",
            "1216    MTurka friend and i stayed at the hyatt regenc...\n",
            "559     MTurki stayed at this hotel for a weekend and ...\n",
            "684     MTurki have heard friends talking about the ho...\n",
            "Name: complete_text, Length: 1280, dtype: object\n"
          ]
        }
      ]
    },
    {
      "cell_type": "code",
      "source": [
        "x_train=vectorizer.fit_transform(x_train)"
      ],
      "metadata": {
        "id": "-mJGrLGobnP1"
      },
      "execution_count": null,
      "outputs": []
    },
    {
      "cell_type": "code",
      "source": [
        "print(x_train)"
      ],
      "metadata": {
        "colab": {
          "base_uri": "https://localhost:8080/"
        },
        "id": "HtUZM46HM-g1",
        "outputId": "662e11ca-7bd1-49bd-d95d-af3850bff29a"
      },
      "execution_count": null,
      "outputs": [
        {
          "output_type": "stream",
          "name": "stdout",
          "text": [
            "  (0, 6975)\t0.10405170579000558\n",
            "  (0, 8212)\t0.03907080286822884\n",
            "  (0, 580)\t0.05851833252498208\n",
            "  (0, 1448)\t0.09738342897572781\n",
            "  (0, 5513)\t0.10679685182488996\n",
            "  (0, 7647)\t0.05295872659416652\n",
            "  (0, 3214)\t0.05904236442864933\n",
            "  (0, 4335)\t0.07402509924458443\n",
            "  (0, 6783)\t0.15962232906998\n",
            "  (0, 8653)\t0.12477792618343267\n",
            "  (0, 5738)\t0.15962232906998\n",
            "  (0, 5146)\t0.04800601483039219\n",
            "  (0, 332)\t0.0685700861507649\n",
            "  (0, 5965)\t0.06136675866236855\n",
            "  (0, 8472)\t0.060978428114900896\n",
            "  (0, 439)\t0.045492979583646224\n",
            "  (0, 3272)\t0.0474170663250412\n",
            "  (0, 6609)\t0.04578611153252176\n",
            "  (0, 5237)\t0.06663560034452007\n",
            "  (0, 2910)\t0.06897765931855722\n",
            "  (0, 2355)\t0.09302000614527033\n",
            "  (0, 929)\t0.06939271130897594\n",
            "  (0, 1511)\t0.09466580082602256\n",
            "  (0, 3147)\t0.053853991343732935\n",
            "  (0, 627)\t0.07221455730367106\n",
            "  :\t:\n",
            "  (1279, 5513)\t0.09220577863394115\n",
            "  (1279, 7647)\t0.04572326372582342\n",
            "  (1279, 3214)\t0.15292718160247504\n",
            "  (1279, 5146)\t0.04144721404153993\n",
            "  (1279, 8472)\t0.10529455406470806\n",
            "  (1279, 439)\t0.03927752113672767\n",
            "  (1279, 3272)\t0.04093873036825502\n",
            "  (1279, 6609)\t0.07906120812247999\n",
            "  (1279, 485)\t0.10431610084477273\n",
            "  (1279, 4974)\t0.0452055202040883\n",
            "  (1279, 4329)\t0.1312214460858896\n",
            "  (1279, 3739)\t0.11050038301402637\n",
            "  (1279, 296)\t0.21905613736527843\n",
            "  (1279, 8555)\t0.029043339710969018\n",
            "  (1279, 7596)\t0.05893963038884163\n",
            "  (1279, 7665)\t0.08453266576980538\n",
            "  (1279, 3959)\t0.0262288396955265\n",
            "  (1279, 3043)\t0.07137798242775562\n",
            "  (1279, 224)\t0.07603949787278662\n",
            "  (1279, 2956)\t0.0736854667476081\n",
            "  (1279, 5506)\t0.05215491585302202\n",
            "  (1279, 3952)\t0.05838559862116929\n",
            "  (1279, 3609)\t0.09123351519951445\n",
            "  (1279, 7552)\t0.19651637587202742\n",
            "  (1279, 3428)\t0.13723635011551794\n"
          ]
        }
      ]
    },
    {
      "cell_type": "code",
      "source": [
        "from sklearn.linear_model import LogisticRegression\n",
        "lr=LogisticRegression(max_iter=100000)\n",
        "lr.fit(x_train,y_train)\n",
        "pred_1=lr.predict(vectorizer.transform(x_test))"
      ],
      "metadata": {
        "id": "85gczGNQbqZq"
      },
      "execution_count": null,
      "outputs": []
    },
    {
      "cell_type": "code",
      "source": [
        "from sklearn.preprocessing import LabelEncoder\n",
        "\n",
        "# Assuming 'y' contains the class labels (truthful and deceptive)\n",
        "y = ['truthful', 'deceptive', 'truthful', 'deceptive', 'truthful']\n",
        "\n",
        "# Initialize and fit the LabelEncoder\n",
        "le = LabelEncoder()\n",
        "y_encoded = le.fit_transform(y)\n",
        "\n",
        "# Check the mapping of classes to labels\n",
        "print(\"Classes:\", le.classes_)\n",
        "# Output: Classes: ['deceptive' 'truthful']\n",
        "\n",
        "# Now, y_encoded contains the encoded labels\n",
        "print(\"Encoded labels:\", y_encoded)\n",
        "# Output: Encoded labels: [1 0 1 0 1]\n"
      ],
      "metadata": {
        "colab": {
          "base_uri": "https://localhost:8080/"
        },
        "id": "g8AsVE2GpJmW",
        "outputId": "2c117017-bd4c-4ae7-9163-8aef44150a51"
      },
      "execution_count": null,
      "outputs": [
        {
          "output_type": "stream",
          "name": "stdout",
          "text": [
            "Classes: ['deceptive' 'truthful']\n",
            "Encoded labels: [1 0 1 0 1]\n"
          ]
        }
      ]
    },
    {
      "cell_type": "code",
      "source": [
        "from sklearn.metrics import accuracy_score\n",
        "score_1=accuracy_score(y_test,pred_1)"
      ],
      "metadata": {
        "id": "LzhwTFTNbtsW"
      },
      "execution_count": null,
      "outputs": []
    },
    {
      "cell_type": "code",
      "source": [
        "print(x_test)"
      ],
      "metadata": {
        "colab": {
          "base_uri": "https://localhost:8080/"
        },
        "id": "ZhdnAdAQv0Xa",
        "outputId": "03195cfe-31a0-4646-8cac-afd594ca77c5"
      },
      "execution_count": null,
      "outputs": [
        {
          "output_type": "stream",
          "name": "stdout",
          "text": [
            "1073    Webi never write these reviews  but felt that ...\n",
            "326     TripAdvisorwe stayed at the palmer house hilto...\n",
            "1557    MTurkmy experience at the amalfi hotel in chic...\n",
            "918     Webthis review has two parts     i advise read...\n",
            "974     Webwe chose to stay at a small hotel because w...\n",
            "                              ...                        \n",
            "583     MTurk classy   decent  and  serene   these wor...\n",
            "1       TripAdvisortriple a rate with upgrade to view ...\n",
            "1566    MTurkthe pictures on this website sure are dec...\n",
            "554     MTurki just spent a week at the millennium kni...\n",
            "1323    MTurki had wanted to stay in this hotel since ...\n",
            "Name: complete_text, Length: 320, dtype: object\n"
          ]
        }
      ]
    },
    {
      "cell_type": "code",
      "source": [
        "print(y_test)"
      ],
      "metadata": {
        "colab": {
          "base_uri": "https://localhost:8080/"
        },
        "id": "LlAvRBy_v52H",
        "outputId": "47dacc1e-db51-4595-cab0-8f8072a1eeeb"
      },
      "execution_count": null,
      "outputs": [
        {
          "output_type": "stream",
          "name": "stdout",
          "text": [
            "[1 1 0 1 1 0 1 0 0 1 0 0 0 1 1 1 1 1 0 1 1 1 1 1 1 0 1 1 0 0 0 0 1 1 0 1 0\n",
            " 0 1 1 0 0 0 0 1 0 0 0 0 0 1 0 0 1 1 0 0 0 1 0 1 0 0 0 1 1 0 0 0 0 0 1 1 1\n",
            " 1 0 0 1 0 1 0 1 1 1 0 1 1 0 0 1 0 1 1 0 0 1 0 1 1 0 0 0 1 0 1 0 1 0 1 0 0\n",
            " 0 0 0 0 0 1 1 1 0 0 0 0 1 1 0 0 1 1 0 1 1 1 0 0 1 1 0 0 0 0 1 0 0 1 0 1 1\n",
            " 0 1 1 1 0 0 1 0 1 0 0 0 0 1 1 1 0 0 1 0 1 0 0 1 1 1 1 1 1 1 1 0 1 0 0 1 1\n",
            " 1 0 0 1 0 0 1 0 0 1 1 0 0 0 1 1 1 1 0 1 1 0 1 0 1 0 0 0 0 1 0 1 1 0 0 1 1\n",
            " 1 0 1 0 1 0 1 1 0 1 1 0 1 1 0 1 0 0 0 0 0 1 1 1 0 0 1 0 0 1 0 0 1 0 1 1 1\n",
            " 1 0 0 1 1 0 0 1 1 1 0 0 1 0 1 0 1 0 0 0 0 0 0 1 0 1 1 0 1 0 1 1 1 1 0 0 1\n",
            " 1 0 1 0 1 0 0 1 0 0 0 1 1 1 1 0 1 0 0 0 1 0 0 0]\n"
          ]
        }
      ]
    },
    {
      "cell_type": "code",
      "source": [
        "score_1"
      ],
      "metadata": {
        "colab": {
          "base_uri": "https://localhost:8080/"
        },
        "id": "X8EpMaOYb0l7",
        "outputId": "8440bb28-ac48-4d2d-cd7a-bbb9b35ea365"
      },
      "execution_count": null,
      "outputs": [
        {
          "output_type": "execute_result",
          "data": {
            "text/plain": [
              "0.909375"
            ]
          },
          "metadata": {},
          "execution_count": 33
        }
      ]
    },
    {
      "cell_type": "code",
      "source": [
        "from sklearn.metrics import confusion_matrix\n",
        "import matplotlib.pyplot as plt\n",
        "import seaborn as sns\n",
        "from sklearn.metrics import classification_report\n",
        "\n",
        "pred_1 = lr.predict(vectorizer.transform(x_test))\n",
        "print(classification_report(y_test, pred_1))\n",
        "\n",
        "# Generate the confusion matrix\n",
        "cm = confusion_matrix(y_test, pred_1)\n",
        "\n",
        "# Plot the confusion matrix\n",
        "sns.heatmap(cm, annot=True, fmt=\"d\", cmap=\"Blues\")\n",
        "plt.xlabel(\"Predicted label\")\n",
        "plt.ylabel(\"True label\")\n",
        "plt.title(\"Confusion Matrix\")\n",
        "plt.show()\n"
      ],
      "metadata": {
        "colab": {
          "base_uri": "https://localhost:8080/",
          "height": 636
        },
        "id": "fFINNPK_ncqf",
        "outputId": "d5336137-44ce-43ca-f112-aad293e5eae8"
      },
      "execution_count": null,
      "outputs": [
        {
          "output_type": "stream",
          "name": "stdout",
          "text": [
            "              precision    recall  f1-score   support\n",
            "\n",
            "           0       0.90      0.92      0.91       165\n",
            "           1       0.91      0.90      0.91       155\n",
            "\n",
            "    accuracy                           0.91       320\n",
            "   macro avg       0.91      0.91      0.91       320\n",
            "weighted avg       0.91      0.91      0.91       320\n",
            "\n"
          ]
        },
        {
          "output_type": "display_data",
          "data": {
            "text/plain": [
              "<Figure size 640x480 with 2 Axes>"
            ],
            "image/png": "[encoded data removed]"
          },
          "metadata": {}
        }
      ]
    },
    {
      "cell_type": "code",
      "source": [
        "from sklearn.svm import SVC\n",
        "svm=SVC()\n",
        "svm.fit(x_train,y_train)\n",
        "pred_2=svm.predict(vectorizer.transform(x_test))\n",
        "score_2=accuracy_score(y_test,pred_2)"
      ],
      "metadata": {
        "id": "jo2VUzvob1kq"
      },
      "execution_count": null,
      "outputs": []
    },
    {
      "cell_type": "code",
      "source": [
        "score_2"
      ],
      "metadata": {
        "id": "VXH5uEXPb476",
        "colab": {
          "base_uri": "https://localhost:8080/"
        },
        "outputId": "5daeffd8-d3c3-4359-bb99-cbaac7a9fb5d"
      },
      "execution_count": null,
      "outputs": [
        {
          "output_type": "execute_result",
          "data": {
            "text/plain": [
              "0.93125"
            ]
          },
          "metadata": {},
          "execution_count": 36
        }
      ]
    },
    {
      "cell_type": "code",
      "source": [
        "from sklearn.metrics import classification_report, confusion_matrix\n",
        "import seaborn as sns\n",
        "import matplotlib.pyplot as plt\n",
        "\n",
        "# Generate the classification report\n",
        "print(classification_report(y_test, pred_2))\n",
        "\n",
        "# Generate the confusion matrix\n",
        "cm = confusion_matrix(y_test, pred_2)\n",
        "\n",
        "# Plot the confusion matrix\n",
        "sns.heatmap(cm, annot=True, fmt=\"d\", cmap=\"Blues\")\n",
        "plt.xlabel(\"Predicted label\")\n",
        "plt.ylabel(\"True label\")\n",
        "plt.title(\"Confusion Matrix\")\n",
        "plt.show()\n"
      ],
      "metadata": {
        "colab": {
          "base_uri": "https://localhost:8080/",
          "height": 636
        },
        "id": "eCOt0KCNoAml",
        "outputId": "0b59a6e3-d184-418e-dd01-e4571d9fefb7"
      },
      "execution_count": null,
      "outputs": [
        {
          "output_type": "stream",
          "name": "stdout",
          "text": [
            "              precision    recall  f1-score   support\n",
            "\n",
            "           0       0.93      0.94      0.93       165\n",
            "           1       0.93      0.92      0.93       155\n",
            "\n",
            "    accuracy                           0.93       320\n",
            "   macro avg       0.93      0.93      0.93       320\n",
            "weighted avg       0.93      0.93      0.93       320\n",
            "\n"
          ]
        },
        {
          "output_type": "display_data",
          "data": {
            "text/plain": [
              "<Figure size 640x480 with 2 Axes>"
            ],
            "image/png": "[encoded data removed]"
          },
          "metadata": {}
        }
      ]
    },
    {
      "cell_type": "code",
      "source": [
        "from sklearn.naive_bayes import MultinomialNB\n",
        "nb=MultinomialNB()\n",
        "nb.fit(x_train,y_train)\n",
        "pred_3=nb.predict(vectorizer.transform(x_test))\n",
        "score_3=accuracy_score(y_test,pred_3)"
      ],
      "metadata": {
        "id": "g2kQL4MLb73u"
      },
      "execution_count": null,
      "outputs": []
    },
    {
      "cell_type": "code",
      "source": [
        "score_3"
      ],
      "metadata": {
        "id": "ia_lYBt4b9xo",
        "colab": {
          "base_uri": "https://localhost:8080/"
        },
        "outputId": "4cbe9599-9c33-42f4-bf94-875b3f238000"
      },
      "execution_count": null,
      "outputs": [
        {
          "output_type": "execute_result",
          "data": {
            "text/plain": [
              "0.9125"
            ]
          },
          "metadata": {},
          "execution_count": 39
        }
      ]
    },
    {
      "cell_type": "code",
      "source": [
        "from sklearn.metrics import classification_report, confusion_matrix\n",
        "import seaborn as sns\n",
        "import matplotlib.pyplot as plt\n",
        "\n",
        "# Generate the classification report\n",
        "print(classification_report(y_test, pred_3))\n",
        "\n",
        "# Generate the confusion matrix\n",
        "cm = confusion_matrix(y_test, pred_3)\n",
        "\n",
        "# Plot the confusion matrix\n",
        "sns.heatmap(cm, annot=True, fmt=\"d\", cmap=\"Blues\")\n",
        "plt.xlabel(\"Predicted label\")\n",
        "plt.ylabel(\"True label\")\n",
        "plt.title(\"Confusion Matrix\")\n",
        "plt.show()"
      ],
      "metadata": {
        "colab": {
          "base_uri": "https://localhost:8080/",
          "height": 636
        },
        "id": "4H6dRN_roqTC",
        "outputId": "9e93a84f-3d8f-41d4-f8d6-065b6f4fcce4"
      },
      "execution_count": null,
      "outputs": [
        {
          "output_type": "stream",
          "name": "stdout",
          "text": [
            "              precision    recall  f1-score   support\n",
            "\n",
            "           0       0.88      0.96      0.92       165\n",
            "           1       0.96      0.86      0.90       155\n",
            "\n",
            "    accuracy                           0.91       320\n",
            "   macro avg       0.92      0.91      0.91       320\n",
            "weighted avg       0.92      0.91      0.91       320\n",
            "\n"
          ]
        },
        {
          "output_type": "display_data",
          "data": {
            "text/plain": [
              "<Figure size 640x480 with 2 Axes>"
            ],
            "image/png": "[encoded data removed]"
          },
          "metadata": {}
        }
      ]
    },
    {
      "cell_type": "markdown",
      "source": [
        "# **Save the model**"
      ],
      "metadata": {
        "id": "ocUPoMN5HzHH"
      }
    },
    {
      "cell_type": "code",
      "source": [
        "filename = \"Deceptive_Opinion_model.sav\"\n",
        "countvectorizer = \"Count_Vectorizer_model.sav\""
      ],
      "metadata": {
        "id": "YJgvY9zYz-WK"
      },
      "execution_count": null,
      "outputs": []
    },
    {
      "cell_type": "code",
      "source": [
        "import pickle"
      ],
      "metadata": {
        "id": "Giy9gBRNIfbK"
      },
      "execution_count": null,
      "outputs": []
    },
    {
      "cell_type": "code",
      "source": [
        "pickle.dump(lr, open(filename, \"wb\"))\n",
        "pickle.dump(cv, open(countvectorizer, \"wb\"))"
      ],
      "metadata": {
        "id": "Z_XZTiQTI5ct"
      },
      "execution_count": null,
      "outputs": []
    },
    {
      "cell_type": "code",
      "source": [
        "from sklearn.feature_extraction.text import CountVectorizer\n",
        "\n",
        "# Load the models\n",
        "loaded_model = pickle.load(open('Deceptive_Opinion_model.sav', 'rb'))\n",
        "cv_model = pickle.load(open('Count_Vectorizer_model.sav', 'rb'))\n",
        "\n",
        "# Define the input data\n",
        "input_data = [\"triple a rate with upgrade to view room was\"]\n",
        "\n",
        "# Transform the input data using the Count Vectorizer\n",
        "input_data_transformed = cv_model.transform(input_data)\n",
        "\n",
        "# Make predictions using the loaded model\n",
        "predictions = loaded_model.predict(input_data_transformed)\n",
        "print(predictions)\n",
        "# Output the predic\n",
        "\n",
        "if(predictions == 1):\n",
        "  print(\"The review is Truthful\")\n",
        "else:\n",
        "  print(\"The review is Deceptive\")\n"
      ],
      "metadata": {
        "colab": {
          "base_uri": "https://localhost:8080/",
          "height": 371
        },
        "id": "Mu_QW8POogQ2",
        "outputId": "5917ec26-7a33-4a06-c71b-916025e15c20"
      },
      "execution_count": null,
      "outputs": [
        {
          "output_type": "error",
          "ename": "NotFittedError",
          "evalue": "Vocabulary not fitted or provided",
          "traceback": [
            "\u001b[0;31m---------------------------------------------------------------------------\u001b[0m",
            "\u001b[0;31mNotFittedError\u001b[0m                            Traceback (most recent call last)",
            "\u001b[0;32m<ipython-input-45-5d404d9d25e4>\u001b[0m in \u001b[0;36m<cell line: 11>\u001b[0;34m()\u001b[0m\n\u001b[1;32m      9\u001b[0m \u001b[0;34m\u001b[0m\u001b[0m\n\u001b[1;32m     10\u001b[0m \u001b[0;31m# Transform the input data using the Count Vectorizer\u001b[0m\u001b[0;34m\u001b[0m\u001b[0;34m\u001b[0m\u001b[0m\n\u001b[0;32m---> 11\u001b[0;31m \u001b[0minput_data_transformed\u001b[0m \u001b[0;34m=\u001b[0m \u001b[0mcv_model\u001b[0m\u001b[0;34m.\u001b[0m\u001b[0mtransform\u001b[0m\u001b[0;34m(\u001b[0m\u001b[0minput_data\u001b[0m\u001b[0;34m)\u001b[0m\u001b[0;34m\u001b[0m\u001b[0;34m\u001b[0m\u001b[0m\n\u001b[0m\u001b[1;32m     12\u001b[0m \u001b[0;34m\u001b[0m\u001b[0m\n\u001b[1;32m     13\u001b[0m \u001b[0;31m# Make predictions using the loaded model\u001b[0m\u001b[0;34m\u001b[0m\u001b[0;34m\u001b[0m\u001b[0m\n",
            "\u001b[0;32m/usr/local/lib/python3.10/dist-packages/sklearn/feature_extraction/text.py\u001b[0m in \u001b[0;36mtransform\u001b[0;34m(self, raw_documents)\u001b[0m\n\u001b[1;32m   1428\u001b[0m                 \u001b[0;34m\"Iterable over raw text documents expected, string object received.\"\u001b[0m\u001b[0;34m\u001b[0m\u001b[0;34m\u001b[0m\u001b[0m\n\u001b[1;32m   1429\u001b[0m             )\n\u001b[0;32m-> 1430\u001b[0;31m         \u001b[0mself\u001b[0m\u001b[0;34m.\u001b[0m\u001b[0m_check_vocabulary\u001b[0m\u001b[0;34m(\u001b[0m\u001b[0;34m)\u001b[0m\u001b[0;34m\u001b[0m\u001b[0;34m\u001b[0m\u001b[0m\n\u001b[0m\u001b[1;32m   1431\u001b[0m \u001b[0;34m\u001b[0m\u001b[0m\n\u001b[1;32m   1432\u001b[0m         \u001b[0;31m# use the same matrix-building strategy as fit_transform\u001b[0m\u001b[0;34m\u001b[0m\u001b[0;34m\u001b[0m\u001b[0m\n",
            "\u001b[0;32m/usr/local/lib/python3.10/dist-packages/sklearn/feature_extraction/text.py\u001b[0m in \u001b[0;36m_check_vocabulary\u001b[0;34m(self)\u001b[0m\n\u001b[1;32m    508\u001b[0m             \u001b[0mself\u001b[0m\u001b[0;34m.\u001b[0m\u001b[0m_validate_vocabulary\u001b[0m\u001b[0;34m(\u001b[0m\u001b[0;34m)\u001b[0m\u001b[0;34m\u001b[0m\u001b[0;34m\u001b[0m\u001b[0m\n\u001b[1;32m    509\u001b[0m             \u001b[0;32mif\u001b[0m \u001b[0;32mnot\u001b[0m \u001b[0mself\u001b[0m\u001b[0;34m.\u001b[0m\u001b[0mfixed_vocabulary_\u001b[0m\u001b[0;34m:\u001b[0m\u001b[0;34m\u001b[0m\u001b[0;34m\u001b[0m\u001b[0m\n\u001b[0;32m--> 510\u001b[0;31m                 \u001b[0;32mraise\u001b[0m \u001b[0mNotFittedError\u001b[0m\u001b[0;34m(\u001b[0m\u001b[0;34m\"Vocabulary not fitted or provided\"\u001b[0m\u001b[0;34m)\u001b[0m\u001b[0;34m\u001b[0m\u001b[0;34m\u001b[0m\u001b[0m\n\u001b[0m\u001b[1;32m    511\u001b[0m \u001b[0;34m\u001b[0m\u001b[0m\n\u001b[1;32m    512\u001b[0m         \u001b[0;32mif\u001b[0m \u001b[0mlen\u001b[0m\u001b[0;34m(\u001b[0m\u001b[0mself\u001b[0m\u001b[0;34m.\u001b[0m\u001b[0mvocabulary_\u001b[0m\u001b[0;34m)\u001b[0m \u001b[0;34m==\u001b[0m \u001b[0;36m0\u001b[0m\u001b[0;34m:\u001b[0m\u001b[0;34m\u001b[0m\u001b[0;34m\u001b[0m\u001b[0m\n",
            "\u001b[0;31mNotFittedError\u001b[0m: Vocabulary not fitted or provided"
          ]
        }
      ]
    },
    {
      "cell_type": "code",
      "source": [
        "from sklearn.ensemble import VotingClassifier\n",
        "\n",
        "# Create a list of base models\n",
        "estimators = list()\n",
        "\n",
        "estimators.append(('Logistic', lr))\n",
        "estimators.append(('SVM', svm))\n",
        "estimators.append(('Naive Bayes', nb))\n",
        "\n",
        "# Create the ensemble model\n",
        "ensemble = VotingClassifier(estimators)\n",
        "\n",
        "# Train the ensemble model\n",
        "ensemble.fit(x_train, y_train)\n",
        "\n",
        "x_test_transformed = vectorizer.transform(x_test)\n",
        "\n",
        "# Make predictions on the test set\n",
        "predictions = ensemble.predict(x_test_transformed)\n",
        "\n",
        "# Evaluate the ensemble model\n",
        "accuracy = accuracy_score(y_test, predictions)\n",
        "print('Ensemble Accuracy:', accuracy)\n",
        "\n",
        "# Generate the classification report\n",
        "print(classification_report(y_test, predictions))\n",
        "\n",
        "# Generate the confusion matrix\n",
        "cm = confusion_matrix(y_test, predictions)\n",
        "\n",
        "# Plot the confusion matrix\n",
        "sns.heatmap(cm, annot=True, fmt=\"d\", cmap=\"Blues\")\n",
        "plt.xlabel(\"Predicted label\")\n",
        "plt.ylabel(\"True label\")\n",
        "plt.title(\"Confusion Matrix\")\n",
        "plt.show()\n"
      ],
      "metadata": {
        "colab": {
          "base_uri": "https://localhost:8080/",
          "height": 654
        },
        "id": "akQAJaJFxnqZ",
        "outputId": "750992d8-f77c-49f4-bc27-79c14f6c4b01"
      },
      "execution_count": null,
      "outputs": [
        {
          "output_type": "stream",
          "name": "stdout",
          "text": [
            "Ensemble Accuracy: 0.925\n",
            "              precision    recall  f1-score   support\n",
            "\n",
            "           0       0.92      0.93      0.93       165\n",
            "           1       0.93      0.92      0.92       155\n",
            "\n",
            "    accuracy                           0.93       320\n",
            "   macro avg       0.93      0.92      0.92       320\n",
            "weighted avg       0.93      0.93      0.92       320\n",
            "\n"
          ]
        },
        {
          "output_type": "display_data",
          "data": {
            "text/plain": [
              "<Figure size 640x480 with 2 Axes>"
            ],
            "image/png": "[encoded data removed]"
          },
          "metadata": {}
        }
      ]
    },
    {
      "cell_type": "code",
      "source": [],
      "metadata": {
        "id": "66EdvwurGC7S"
      },
      "execution_count": null,
      "outputs": []
    }
  ]
}