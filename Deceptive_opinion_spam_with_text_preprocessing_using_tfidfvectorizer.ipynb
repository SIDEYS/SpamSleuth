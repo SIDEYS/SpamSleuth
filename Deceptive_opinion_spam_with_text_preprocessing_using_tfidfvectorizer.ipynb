{
  "nbformat": 4,
  "nbformat_minor": 0,
  "metadata": {
    "colab": {
      "provenance": []
    },
    "kernelspec": {
      "name": "python3",
      "display_name": "Python 3"
    },
    "language_info": {
      "name": "python"
    }
  },
  "cells": [
    {
      "cell_type": "code",
      "source": [
        "import pandas as pd\n",
        "import numpy as np"
      ],
      "metadata": {
        "id": "0vPxkDRLafVm"
      },
      "execution_count": null,
      "outputs": []
    },
    {
      "cell_type": "code",
      "source": [
        "df=pd.read_csv('/content/deceptive-opinion.csv')"
      ],
      "metadata": {
        "id": "htAO2Gt7aMz6"
      },
      "execution_count": null,
      "outputs": []
    },
    {
      "cell_type": "code",
      "source": [
        "df"
      ],
      "metadata": {
        "colab": {
          "base_uri": "https://localhost:8080/",
          "height": 423
        },
        "id": "VgqG4oefabTY",
        "outputId": "0c56761c-73ab-4126-bd66-38f647a2b77e"
      },
      "execution_count": null,
      "outputs": [
        {
          "output_type": "execute_result",
          "data": {
            "text/plain": [
              "      deceptive             hotel  polarity       source  \\\n",
              "0      truthful            conrad  positive  TripAdvisor   \n",
              "1      truthful             hyatt  positive  TripAdvisor   \n",
              "2      truthful             hyatt  positive  TripAdvisor   \n",
              "3      truthful              omni  positive  TripAdvisor   \n",
              "4      truthful             hyatt  positive  TripAdvisor   \n",
              "...         ...               ...       ...          ...   \n",
              "1595  deceptive  intercontinental  negative        MTurk   \n",
              "1596  deceptive            amalfi  negative        MTurk   \n",
              "1597  deceptive  intercontinental  negative        MTurk   \n",
              "1598  deceptive            palmer  negative        MTurk   \n",
              "1599  deceptive            amalfi  negative        MTurk   \n",
              "\n",
              "                                                   text  \n",
              "0     We stayed for a one night getaway with family ...  \n",
              "1     Triple A rate with upgrade to view room was le...  \n",
              "2     This comes a little late as I'm finally catchi...  \n",
              "3     The Omni Chicago really delivers on all fronts...  \n",
              "4     I asked for a high floor away from the elevato...  \n",
              "...                                                 ...  \n",
              "1595  Problems started when I booked the InterContin...  \n",
              "1596  The Amalfi Hotel has a beautiful website and i...  \n",
              "1597  The Intercontinental Chicago Magnificent Mile ...  \n",
              "1598  The Palmer House Hilton, while it looks good i...  \n",
              "1599  As a former Chicagoan, I'm appalled at the Ama...  \n",
              "\n",
              "[1600 rows x 5 columns]"
            ],
            "text/html": [
              "\n",
              "  <div id=\"df-00c1af00-a402-4847-b62c-6d3ce788f41b\" class=\"colab-df-container\">\n",
              "    <div>\n",
              "<style scoped>\n",
              "    .dataframe tbody tr th:only-of-type {\n",
              "        vertical-align: middle;\n",
              "    }\n",
              "\n",
              "    .dataframe tbody tr th {\n",
              "        vertical-align: top;\n",
              "    }\n",
              "\n",
              "    .dataframe thead th {\n",
              "        text-align: right;\n",
              "    }\n",
              "</style>\n",
              "<table border=\"1\" class=\"dataframe\">\n",
              "  <thead>\n",
              "    <tr style=\"text-align: right;\">\n",
              "      <th></th>\n",
              "      <th>deceptive</th>\n",
              "      <th>hotel</th>\n",
              "      <th>polarity</th>\n",
              "      <th>source</th>\n",
              "      <th>text</th>\n",
              "    </tr>\n",
              "  </thead>\n",
              "  <tbody>\n",
              "    <tr>\n",
              "      <th>0</th>\n",
              "      <td>truthful</td>\n",
              "      <td>conrad</td>\n",
              "      <td>positive</td>\n",
              "      <td>TripAdvisor</td>\n",
              "      <td>We stayed for a one night getaway with family ...</td>\n",
              "    </tr>\n",
              "    <tr>\n",
              "      <th>1</th>\n",
              "      <td>truthful</td>\n",
              "      <td>hyatt</td>\n",
              "      <td>positive</td>\n",
              "      <td>TripAdvisor</td>\n",
              "      <td>Triple A rate with upgrade to view room was le...</td>\n",
              "    </tr>\n",
              "    <tr>\n",
              "      <th>2</th>\n",
              "      <td>truthful</td>\n",
              "      <td>hyatt</td>\n",
              "      <td>positive</td>\n",
              "      <td>TripAdvisor</td>\n",
              "      <td>This comes a little late as I'm finally catchi...</td>\n",
              "    </tr>\n",
              "    <tr>\n",
              "      <th>3</th>\n",
              "      <td>truthful</td>\n",
              "      <td>omni</td>\n",
              "      <td>positive</td>\n",
              "      <td>TripAdvisor</td>\n",
              "      <td>The Omni Chicago really delivers on all fronts...</td>\n",
              "    </tr>\n",
              "    <tr>\n",
              "      <th>4</th>\n",
              "      <td>truthful</td>\n",
              "      <td>hyatt</td>\n",
              "      <td>positive</td>\n",
              "      <td>TripAdvisor</td>\n",
              "      <td>I asked for a high floor away from the elevato...</td>\n",
              "    </tr>\n",
              "    <tr>\n",
              "      <th>...</th>\n",
              "      <td>...</td>\n",
              "      <td>...</td>\n",
              "      <td>...</td>\n",
              "      <td>...</td>\n",
              "      <td>...</td>\n",
              "    </tr>\n",
              "    <tr>\n",
              "      <th>1595</th>\n",
              "      <td>deceptive</td>\n",
              "      <td>intercontinental</td>\n",
              "      <td>negative</td>\n",
              "      <td>MTurk</td>\n",
              "      <td>Problems started when I booked the InterContin...</td>\n",
              "    </tr>\n",
              "    <tr>\n",
              "      <th>1596</th>\n",
              "      <td>deceptive</td>\n",
              "      <td>amalfi</td>\n",
              "      <td>negative</td>\n",
              "      <td>MTurk</td>\n",
              "      <td>The Amalfi Hotel has a beautiful website and i...</td>\n",
              "    </tr>\n",
              "    <tr>\n",
              "      <th>1597</th>\n",
              "      <td>deceptive</td>\n",
              "      <td>intercontinental</td>\n",
              "      <td>negative</td>\n",
              "      <td>MTurk</td>\n",
              "      <td>The Intercontinental Chicago Magnificent Mile ...</td>\n",
              "    </tr>\n",
              "    <tr>\n",
              "      <th>1598</th>\n",
              "      <td>deceptive</td>\n",
              "      <td>palmer</td>\n",
              "      <td>negative</td>\n",
              "      <td>MTurk</td>\n",
              "      <td>The Palmer House Hilton, while it looks good i...</td>\n",
              "    </tr>\n",
              "    <tr>\n",
              "      <th>1599</th>\n",
              "      <td>deceptive</td>\n",
              "      <td>amalfi</td>\n",
              "      <td>negative</td>\n",
              "      <td>MTurk</td>\n",
              "      <td>As a former Chicagoan, I'm appalled at the Ama...</td>\n",
              "    </tr>\n",
              "  </tbody>\n",
              "</table>\n",
              "<p>1600 rows × 5 columns</p>\n",
              "</div>\n",
              "    <div class=\"colab-df-buttons\">\n",
              "\n",
              "  <div class=\"colab-df-container\">\n",
              "    <button class=\"colab-df-convert\" onclick=\"convertToInteractive('df-00c1af00-a402-4847-b62c-6d3ce788f41b')\"\n",
              "            title=\"Convert this dataframe to an interactive table.\"\n",
              "            style=\"display:none;\">\n",
              "\n",
              "  <svg xmlns=\"http://www.w3.org/2000/svg\" height=\"24px\" viewBox=\"0 -960 960 960\">\n",
              "    <path d=\"M120-120v-720h720v720H120Zm60-500h600v-160H180v160Zm220 220h160v-160H400v160Zm0 220h160v-160H400v160ZM180-400h160v-160H180v160Zm440 0h160v-160H620v160ZM180-180h160v-160H180v160Zm440 0h160v-160H620v160Z\"/>\n",
              "  </svg>\n",
              "    </button>\n",
              "\n",
              "  <style>\n",
              "    .colab-df-container {\n",
              "      display:flex;\n",
              "      gap: 12px;\n",
              "    }\n",
              "\n",
              "    .colab-df-convert {\n",
              "      background-color: #E8F0FE;\n",
              "      border: none;\n",
              "      border-radius: 50%;\n",
              "      cursor: pointer;\n",
              "      display: none;\n",
              "      fill: #1967D2;\n",
              "      height: 32px;\n",
              "      padding: 0 0 0 0;\n",
              "      width: 32px;\n",
              "    }\n",
              "\n",
              "    .colab-df-convert:hover {\n",
              "      background-color: #E2EBFA;\n",
              "      box-shadow: 0px 1px 2px rgba(60, 64, 67, 0.3), 0px 1px 3px 1px rgba(60, 64, 67, 0.15);\n",
              "      fill: #174EA6;\n",
              "    }\n",
              "\n",
              "    .colab-df-buttons div {\n",
              "      margin-bottom: 4px;\n",
              "    }\n",
              "\n",
              "    [theme=dark] .colab-df-convert {\n",
              "      background-color: #3B4455;\n",
              "      fill: #D2E3FC;\n",
              "    }\n",
              "\n",
              "    [theme=dark] .colab-df-convert:hover {\n",
              "      background-color: #434B5C;\n",
              "      box-shadow: 0px 1px 3px 1px rgba(0, 0, 0, 0.15);\n",
              "      filter: drop-shadow(0px 1px 2px rgba(0, 0, 0, 0.3));\n",
              "      fill: #FFFFFF;\n",
              "    }\n",
              "  </style>\n",
              "\n",
              "    <script>\n",
              "      const buttonEl =\n",
              "        document.querySelector('#df-00c1af00-a402-4847-b62c-6d3ce788f41b button.colab-df-convert');\n",
              "      buttonEl.style.display =\n",
              "        google.colab.kernel.accessAllowed ? 'block' : 'none';\n",
              "\n",
              "      async function convertToInteractive(key) {\n",
              "        const element = document.querySelector('#df-00c1af00-a402-4847-b62c-6d3ce788f41b');\n",
              "        const dataTable =\n",
              "          await google.colab.kernel.invokeFunction('convertToInteractive',\n",
              "                                                    [key], {});\n",
              "        if (!dataTable) return;\n",
              "\n",
              "        const docLinkHtml = 'Like what you see? Visit the ' +\n",
              "          '<a target=\"_blank\" href=https://colab.research.google.com/notebooks/data_table.ipynb>data table notebook</a>'\n",
              "          + ' to learn more about interactive tables.';\n",
              "        element.innerHTML = '';\n",
              "        dataTable['output_type'] = 'display_data';\n",
              "        await google.colab.output.renderOutput(dataTable, element);\n",
              "        const docLink = document.createElement('div');\n",
              "        docLink.innerHTML = docLinkHtml;\n",
              "        element.appendChild(docLink);\n",
              "      }\n",
              "    </script>\n",
              "  </div>\n",
              "\n",
              "\n",
              "<div id=\"df-b3b96e3f-169b-4ea3-8088-412c2e722ef1\">\n",
              "  <button class=\"colab-df-quickchart\" onclick=\"quickchart('df-b3b96e3f-169b-4ea3-8088-412c2e722ef1')\"\n",
              "            title=\"Suggest charts\"\n",
              "            style=\"display:none;\">\n",
              "\n",
              "<svg xmlns=\"http://www.w3.org/2000/svg\" height=\"24px\"viewBox=\"0 0 24 24\"\n",
              "     width=\"24px\">\n",
              "    <g>\n",
              "        <path d=\"M19 3H5c-1.1 0-2 .9-2 2v14c0 1.1.9 2 2 2h14c1.1 0 2-.9 2-2V5c0-1.1-.9-2-2-2zM9 17H7v-7h2v7zm4 0h-2V7h2v10zm4 0h-2v-4h2v4z\"/>\n",
              "    </g>\n",
              "</svg>\n",
              "  </button>\n",
              "\n",
              "<style>\n",
              "  .colab-df-quickchart {\n",
              "      --bg-color: #E8F0FE;\n",
              "      --fill-color: #1967D2;\n",
              "      --hover-bg-color: #E2EBFA;\n",
              "      --hover-fill-color: #174EA6;\n",
              "      --disabled-fill-color: #AAA;\n",
              "      --disabled-bg-color: #DDD;\n",
              "  }\n",
              "\n",
              "  [theme=dark] .colab-df-quickchart {\n",
              "      --bg-color: #3B4455;\n",
              "      --fill-color: #D2E3FC;\n",
              "      --hover-bg-color: #434B5C;\n",
              "      --hover-fill-color: #FFFFFF;\n",
              "      --disabled-bg-color: #3B4455;\n",
              "      --disabled-fill-color: #666;\n",
              "  }\n",
              "\n",
              "  .colab-df-quickchart {\n",
              "    background-color: var(--bg-color);\n",
              "    border: none;\n",
              "    border-radius: 50%;\n",
              "    cursor: pointer;\n",
              "    display: none;\n",
              "    fill: var(--fill-color);\n",
              "    height: 32px;\n",
              "    padding: 0;\n",
              "    width: 32px;\n",
              "  }\n",
              "\n",
              "  .colab-df-quickchart:hover {\n",
              "    background-color: var(--hover-bg-color);\n",
              "    box-shadow: 0 1px 2px rgba(60, 64, 67, 0.3), 0 1px 3px 1px rgba(60, 64, 67, 0.15);\n",
              "    fill: var(--button-hover-fill-color);\n",
              "  }\n",
              "\n",
              "  .colab-df-quickchart-complete:disabled,\n",
              "  .colab-df-quickchart-complete:disabled:hover {\n",
              "    background-color: var(--disabled-bg-color);\n",
              "    fill: var(--disabled-fill-color);\n",
              "    box-shadow: none;\n",
              "  }\n",
              "\n",
              "  .colab-df-spinner {\n",
              "    border: 2px solid var(--fill-color);\n",
              "    border-color: transparent;\n",
              "    border-bottom-color: var(--fill-color);\n",
              "    animation:\n",
              "      spin 1s steps(1) infinite;\n",
              "  }\n",
              "\n",
              "  @keyframes spin {\n",
              "    0% {\n",
              "      border-color: transparent;\n",
              "      border-bottom-color: var(--fill-color);\n",
              "      border-left-color: var(--fill-color);\n",
              "    }\n",
              "    20% {\n",
              "      border-color: transparent;\n",
              "      border-left-color: var(--fill-color);\n",
              "      border-top-color: var(--fill-color);\n",
              "    }\n",
              "    30% {\n",
              "      border-color: transparent;\n",
              "      border-left-color: var(--fill-color);\n",
              "      border-top-color: var(--fill-color);\n",
              "      border-right-color: var(--fill-color);\n",
              "    }\n",
              "    40% {\n",
              "      border-color: transparent;\n",
              "      border-right-color: var(--fill-color);\n",
              "      border-top-color: var(--fill-color);\n",
              "    }\n",
              "    60% {\n",
              "      border-color: transparent;\n",
              "      border-right-color: var(--fill-color);\n",
              "    }\n",
              "    80% {\n",
              "      border-color: transparent;\n",
              "      border-right-color: var(--fill-color);\n",
              "      border-bottom-color: var(--fill-color);\n",
              "    }\n",
              "    90% {\n",
              "      border-color: transparent;\n",
              "      border-bottom-color: var(--fill-color);\n",
              "    }\n",
              "  }\n",
              "</style>\n",
              "\n",
              "  <script>\n",
              "    async function quickchart(key) {\n",
              "      const quickchartButtonEl =\n",
              "        document.querySelector('#' + key + ' button');\n",
              "      quickchartButtonEl.disabled = true;  // To prevent multiple clicks.\n",
              "      quickchartButtonEl.classList.add('colab-df-spinner');\n",
              "      try {\n",
              "        const charts = await google.colab.kernel.invokeFunction(\n",
              "            'suggestCharts', [key], {});\n",
              "      } catch (error) {\n",
              "        console.error('Error during call to suggestCharts:', error);\n",
              "      }\n",
              "      quickchartButtonEl.classList.remove('colab-df-spinner');\n",
              "      quickchartButtonEl.classList.add('colab-df-quickchart-complete');\n",
              "    }\n",
              "    (() => {\n",
              "      let quickchartButtonEl =\n",
              "        document.querySelector('#df-b3b96e3f-169b-4ea3-8088-412c2e722ef1 button');\n",
              "      quickchartButtonEl.style.display =\n",
              "        google.colab.kernel.accessAllowed ? 'block' : 'none';\n",
              "    })();\n",
              "  </script>\n",
              "</div>\n",
              "\n",
              "  <div id=\"id_bdd680c6-94be-4286-b083-f06ab63b0a54\">\n",
              "    <style>\n",
              "      .colab-df-generate {\n",
              "        background-color: #E8F0FE;\n",
              "        border: none;\n",
              "        border-radius: 50%;\n",
              "        cursor: pointer;\n",
              "        display: none;\n",
              "        fill: #1967D2;\n",
              "        height: 32px;\n",
              "        padding: 0 0 0 0;\n",
              "        width: 32px;\n",
              "      }\n",
              "\n",
              "      .colab-df-generate:hover {\n",
              "        background-color: #E2EBFA;\n",
              "        box-shadow: 0px 1px 2px rgba(60, 64, 67, 0.3), 0px 1px 3px 1px rgba(60, 64, 67, 0.15);\n",
              "        fill: #174EA6;\n",
              "      }\n",
              "\n",
              "      [theme=dark] .colab-df-generate {\n",
              "        background-color: #3B4455;\n",
              "        fill: #D2E3FC;\n",
              "      }\n",
              "\n",
              "      [theme=dark] .colab-df-generate:hover {\n",
              "        background-color: #434B5C;\n",
              "        box-shadow: 0px 1px 3px 1px rgba(0, 0, 0, 0.15);\n",
              "        filter: drop-shadow(0px 1px 2px rgba(0, 0, 0, 0.3));\n",
              "        fill: #FFFFFF;\n",
              "      }\n",
              "    </style>\n",
              "    <button class=\"colab-df-generate\" onclick=\"generateWithVariable('df')\"\n",
              "            title=\"Generate code using this dataframe.\"\n",
              "            style=\"display:none;\">\n",
              "\n",
              "  <svg xmlns=\"http://www.w3.org/2000/svg\" height=\"24px\"viewBox=\"0 0 24 24\"\n",
              "       width=\"24px\">\n",
              "    <path d=\"M7,19H8.4L18.45,9,17,7.55,7,17.6ZM5,21V16.75L18.45,3.32a2,2,0,0,1,2.83,0l1.4,1.43a1.91,1.91,0,0,1,.58,1.4,1.91,1.91,0,0,1-.58,1.4L9.25,21ZM18.45,9,17,7.55Zm-12,3A5.31,5.31,0,0,0,4.9,8.1,5.31,5.31,0,0,0,1,6.5,5.31,5.31,0,0,0,4.9,4.9,5.31,5.31,0,0,0,6.5,1,5.31,5.31,0,0,0,8.1,4.9,5.31,5.31,0,0,0,12,6.5,5.46,5.46,0,0,0,6.5,12Z\"/>\n",
              "  </svg>\n",
              "    </button>\n",
              "    <script>\n",
              "      (() => {\n",
              "      const buttonEl =\n",
              "        document.querySelector('#id_bdd680c6-94be-4286-b083-f06ab63b0a54 button.colab-df-generate');\n",
              "      buttonEl.style.display =\n",
              "        google.colab.kernel.accessAllowed ? 'block' : 'none';\n",
              "\n",
              "      buttonEl.onclick = () => {\n",
              "        google.colab.notebook.generateWithVariable('df');\n",
              "      }\n",
              "      })();\n",
              "    </script>\n",
              "  </div>\n",
              "\n",
              "    </div>\n",
              "  </div>\n"
            ],
            "application/vnd.google.colaboratory.intrinsic+json": {
              "type": "dataframe",
              "variable_name": "df",
              "summary": "{\n  \"name\": \"df\",\n  \"rows\": 1600,\n  \"fields\": [\n    {\n      \"column\": \"deceptive\",\n      \"properties\": {\n        \"dtype\": \"category\",\n        \"samples\": [\n          \"deceptive\",\n          \"truthful\"\n        ],\n        \"num_unique_values\": 2,\n        \"semantic_type\": \"\",\n        \"description\": \"\"\n      }\n    },\n    {\n      \"column\": \"hotel\",\n      \"properties\": {\n        \"dtype\": \"category\",\n        \"samples\": [\n          \"conrad\",\n          \"intercontinental\"\n        ],\n        \"num_unique_values\": 20,\n        \"semantic_type\": \"\",\n        \"description\": \"\"\n      }\n    },\n    {\n      \"column\": \"polarity\",\n      \"properties\": {\n        \"dtype\": \"category\",\n        \"samples\": [\n          \"negative\",\n          \"positive\"\n        ],\n        \"num_unique_values\": 2,\n        \"semantic_type\": \"\",\n        \"description\": \"\"\n      }\n    },\n    {\n      \"column\": \"source\",\n      \"properties\": {\n        \"dtype\": \"category\",\n        \"samples\": [\n          \"TripAdvisor\",\n          \"MTurk\"\n        ],\n        \"num_unique_values\": 3,\n        \"semantic_type\": \"\",\n        \"description\": \"\"\n      }\n    },\n    {\n      \"column\": \"text\",\n      \"properties\": {\n        \"dtype\": \"string\",\n        \"samples\": [\n          \"We booked thru hotwire which we have a high percentage of positive outcomes. I was very happy when we saw that we would be staying at The Knickerbocker-as I had stayed when I was younger. We reserved a King Non-Smoker. Upon arriving we were told that they did not have that and we only had the choice of a Smoking room. When argued they stated 'well you booked thru hotwire so you do not have priority'. As we entered the room I noticed the bathroom door was off track and the bathroom light did not turn on. We called the front desk and they fixed the door but not the light. Later that eveing as I took a shower the seal around the shower was so poor water got all over the floor and towels. Also, I must add the room reaked of smoke. The next day when we checked the front desk clerk asked how our stay was and when we told him the problems, he told us the total and had not concern of our issues. We also checked in our bags for the day, and the bellmen came quickly and made very rude comments about us hurrying up so he could get on with his day. We realized a bit later that we forgot something in one of the bags and was told they would not get them back out. STAY AWAY-even if you get a good deal!!\\n\",\n          \"This hotel is rather stupid to be frank. It's a horrible attempt to be retro-sheek but ends up looking similar to that Saturday Night live skit where things are so sheek that they are not functional. The rooms are about the size of a shoe box and there isn't much in them. I actually like the Pedestal in the bathroom but there is no sink. I had to put my make-up on using the toliet for 5-days. It also took me 10-minutes to figure out how to turn on the shower and the bathroom is more like a closet then anything. I had guests over one evening and everyone could hear everyone pee b/c the bathroom doors aren't doors at all and there is no bathroom fan! It was just over the top for me and lots of costruction nearby to keep you up at night. On a good note, the staff are really friendly and the place is really clean. That's about the only good thing I can say about this place. I would not go back.\\n\"\n        ],\n        \"num_unique_values\": 1596,\n        \"semantic_type\": \"\",\n        \"description\": \"\"\n      }\n    }\n  ]\n}"
            }
          },
          "metadata": {},
          "execution_count": 3
        }
      ]
    },
    {
      "cell_type": "code",
      "source": [
        "df.isnull().sum()"
      ],
      "metadata": {
        "colab": {
          "base_uri": "https://localhost:8080/"
        },
        "id": "aQ3FdkZxapKQ",
        "outputId": "1270b6c9-333f-4857-f182-4d35a080ceb9"
      },
      "execution_count": null,
      "outputs": [
        {
          "output_type": "execute_result",
          "data": {
            "text/plain": [
              "deceptive    0\n",
              "hotel        0\n",
              "polarity     0\n",
              "source       0\n",
              "text         0\n",
              "dtype: int64"
            ]
          },
          "metadata": {},
          "execution_count": 4
        }
      ]
    },
    {
      "cell_type": "code",
      "source": [
        "df['hotel'].unique()"
      ],
      "metadata": {
        "colab": {
          "base_uri": "https://localhost:8080/"
        },
        "id": "DH4Y-0wzayLD",
        "outputId": "f96f8d95-5cd2-4fca-8dd7-67c7da772c59"
      },
      "execution_count": null,
      "outputs": [
        {
          "output_type": "execute_result",
          "data": {
            "text/plain": [
              "array(['conrad', 'hyatt', 'omni', 'fairmont', 'sheraton', 'knickerbocker',\n",
              "       'homewood', 'swissotel', 'ambassador', 'affinia', 'hardrock',\n",
              "       'talbott', 'hilton', 'james', 'monaco', 'sofitel', 'palmer',\n",
              "       'intercontinental', 'allegro', 'amalfi'], dtype=object)"
            ]
          },
          "metadata": {},
          "execution_count": 5
        }
      ]
    },
    {
      "cell_type": "code",
      "source": [
        "df['source'].unique()"
      ],
      "metadata": {
        "colab": {
          "base_uri": "https://localhost:8080/"
        },
        "id": "rpnDySIMa0Uw",
        "outputId": "ca0e6afa-d65d-4b83-bdec-ed18736152c4"
      },
      "execution_count": null,
      "outputs": [
        {
          "output_type": "execute_result",
          "data": {
            "text/plain": [
              "array(['TripAdvisor', 'MTurk', 'Web'], dtype=object)"
            ]
          },
          "metadata": {},
          "execution_count": 6
        }
      ]
    },
    {
      "cell_type": "code",
      "source": [
        "import seaborn as sns\n",
        "import matplotlib.pyplot as plt\n",
        "sns.countplot(x=df['deceptive'],hue='polarity',data=df)"
      ],
      "metadata": {
        "colab": {
          "base_uri": "https://localhost:8080/",
          "height": 467
        },
        "id": "X8ke1Z7Da36q",
        "outputId": "d2ba0afb-8c1c-4dae-f110-4026fa0b8cb5"
      },
      "execution_count": null,
      "outputs": [
        {
          "output_type": "execute_result",
          "data": {
            "text/plain": [
              "<Axes: xlabel='deceptive', ylabel='count'>"
            ]
          },
          "metadata": {},
          "execution_count": 7
        },
        {
          "output_type": "display_data",
          "data": {
            "text/plain": [
              "<Figure size 640x480 with 1 Axes>"
            ],
            "image/png": "[encoded data removed]"
          },
          "metadata": {}
        }
      ]
    },
    {
      "cell_type": "code",
      "source": [
        "sns.countplot(x=df['deceptive'],hue='source',data=df)"
      ],
      "metadata": {
        "colab": {
          "base_uri": "https://localhost:8080/",
          "height": 467
        },
        "id": "Uw6n_b14a6JV",
        "outputId": "37ce4773-5d18-4878-fe79-1ea7b20398a5"
      },
      "execution_count": null,
      "outputs": [
        {
          "output_type": "execute_result",
          "data": {
            "text/plain": [
              "<Axes: xlabel='deceptive', ylabel='count'>"
            ]
          },
          "metadata": {},
          "execution_count": 8
        },
        {
          "output_type": "display_data",
          "data": {
            "text/plain": [
              "<Figure size 640x480 with 1 Axes>"
            ],
            "image/png": "[encoded data removed]"
          },
          "metadata": {}
        }
      ]
    },
    {
      "cell_type": "code",
      "source": [
        "sns.countplot(x=df['deceptive'],hue='hotel',data=df)"
      ],
      "metadata": {
        "colab": {
          "base_uri": "https://localhost:8080/",
          "height": 549
        },
        "id": "tVqPjY4ubDur",
        "outputId": "af5d5108-3117-4486-d6b7-d3a7a88478d0"
      },
      "execution_count": null,
      "outputs": [
        {
          "output_type": "execute_result",
          "data": {
            "text/plain": [
              "<Axes: xlabel='deceptive', ylabel='count'>"
            ]
          },
          "metadata": {},
          "execution_count": 9
        },
        {
          "output_type": "display_data",
          "data": {
            "text/plain": [
              "<Figure size 640x480 with 1 Axes>"
            ],
            "image/png": "[encoded data removed]"
          },
          "metadata": {}
        }
      ]
    },
    {
      "cell_type": "code",
      "source": [
        "#drop the feature hotel\n",
        "df=df.drop(['hotel'],axis=1)"
      ],
      "metadata": {
        "id": "CErMDx-HbJvM"
      },
      "execution_count": null,
      "outputs": []
    },
    {
      "cell_type": "code",
      "source": [
        "df"
      ],
      "metadata": {
        "colab": {
          "base_uri": "https://localhost:8080/",
          "height": 423
        },
        "id": "NLBQUs56bMU6",
        "outputId": "3647f252-5c7a-4fb6-8d1f-7dbff98e59bb"
      },
      "execution_count": null,
      "outputs": [
        {
          "output_type": "execute_result",
          "data": {
            "text/plain": [
              "      deceptive  polarity       source  \\\n",
              "0      truthful  positive  TripAdvisor   \n",
              "1      truthful  positive  TripAdvisor   \n",
              "2      truthful  positive  TripAdvisor   \n",
              "3      truthful  positive  TripAdvisor   \n",
              "4      truthful  positive  TripAdvisor   \n",
              "...         ...       ...          ...   \n",
              "1595  deceptive  negative        MTurk   \n",
              "1596  deceptive  negative        MTurk   \n",
              "1597  deceptive  negative        MTurk   \n",
              "1598  deceptive  negative        MTurk   \n",
              "1599  deceptive  negative        MTurk   \n",
              "\n",
              "                                                   text  \n",
              "0     We stayed for a one night getaway with family ...  \n",
              "1     Triple A rate with upgrade to view room was le...  \n",
              "2     This comes a little late as I'm finally catchi...  \n",
              "3     The Omni Chicago really delivers on all fronts...  \n",
              "4     I asked for a high floor away from the elevato...  \n",
              "...                                                 ...  \n",
              "1595  Problems started when I booked the InterContin...  \n",
              "1596  The Amalfi Hotel has a beautiful website and i...  \n",
              "1597  The Intercontinental Chicago Magnificent Mile ...  \n",
              "1598  The Palmer House Hilton, while it looks good i...  \n",
              "1599  As a former Chicagoan, I'm appalled at the Ama...  \n",
              "\n",
              "[1600 rows x 4 columns]"
            ],
            "text/html": [
              "\n",
              "  <div id=\"df-10ac37b7-8630-492b-a17a-a458f12eaccb\" class=\"colab-df-container\">\n",
              "    <div>\n",
              "<style scoped>\n",
              "    .dataframe tbody tr th:only-of-type {\n",
              "        vertical-align: middle;\n",
              "    }\n",
              "\n",
              "    .dataframe tbody tr th {\n",
              "        vertical-align: top;\n",
              "    }\n",
              "\n",
              "    .dataframe thead th {\n",
              "        text-align: right;\n",
              "    }\n",
              "</style>\n",
              "<table border=\"1\" class=\"dataframe\">\n",
              "  <thead>\n",
              "    <tr style=\"text-align: right;\">\n",
              "      <th></th>\n",
              "      <th>deceptive</th>\n",
              "      <th>polarity</th>\n",
              "      <th>source</th>\n",
              "      <th>text</th>\n",
              "    </tr>\n",
              "  </thead>\n",
              "  <tbody>\n",
              "    <tr>\n",
              "      <th>0</th>\n",
              "      <td>truthful</td>\n",
              "      <td>positive</td>\n",
              "      <td>TripAdvisor</td>\n",
              "      <td>We stayed for a one night getaway with family ...</td>\n",
              "    </tr>\n",
              "    <tr>\n",
              "      <th>1</th>\n",
              "      <td>truthful</td>\n",
              "      <td>positive</td>\n",
              "      <td>TripAdvisor</td>\n",
              "      <td>Triple A rate with upgrade to view room was le...</td>\n",
              "    </tr>\n",
              "    <tr>\n",
              "      <th>2</th>\n",
              "      <td>truthful</td>\n",
              "      <td>positive</td>\n",
              "      <td>TripAdvisor</td>\n",
              "      <td>This comes a little late as I'm finally catchi...</td>\n",
              "    </tr>\n",
              "    <tr>\n",
              "      <th>3</th>\n",
              "      <td>truthful</td>\n",
              "      <td>positive</td>\n",
              "      <td>TripAdvisor</td>\n",
              "      <td>The Omni Chicago really delivers on all fronts...</td>\n",
              "    </tr>\n",
              "    <tr>\n",
              "      <th>4</th>\n",
              "      <td>truthful</td>\n",
              "      <td>positive</td>\n",
              "      <td>TripAdvisor</td>\n",
              "      <td>I asked for a high floor away from the elevato...</td>\n",
              "    </tr>\n",
              "    <tr>\n",
              "      <th>...</th>\n",
              "      <td>...</td>\n",
              "      <td>...</td>\n",
              "      <td>...</td>\n",
              "      <td>...</td>\n",
              "    </tr>\n",
              "    <tr>\n",
              "      <th>1595</th>\n",
              "      <td>deceptive</td>\n",
              "      <td>negative</td>\n",
              "      <td>MTurk</td>\n",
              "      <td>Problems started when I booked the InterContin...</td>\n",
              "    </tr>\n",
              "    <tr>\n",
              "      <th>1596</th>\n",
              "      <td>deceptive</td>\n",
              "      <td>negative</td>\n",
              "      <td>MTurk</td>\n",
              "      <td>The Amalfi Hotel has a beautiful website and i...</td>\n",
              "    </tr>\n",
              "    <tr>\n",
              "      <th>1597</th>\n",
              "      <td>deceptive</td>\n",
              "      <td>negative</td>\n",
              "      <td>MTurk</td>\n",
              "      <td>The Intercontinental Chicago Magnificent Mile ...</td>\n",
              "    </tr>\n",
              "    <tr>\n",
              "      <th>1598</th>\n",
              "      <td>deceptive</td>\n",
              "      <td>negative</td>\n",
              "      <td>MTurk</td>\n",
              "      <td>The Palmer House Hilton, while it looks good i...</td>\n",
              "    </tr>\n",
              "    <tr>\n",
              "      <th>1599</th>\n",
              "      <td>deceptive</td>\n",
              "      <td>negative</td>\n",
              "      <td>MTurk</td>\n",
              "      <td>As a former Chicagoan, I'm appalled at the Ama...</td>\n",
              "    </tr>\n",
              "  </tbody>\n",
              "</table>\n",
              "<p>1600 rows × 4 columns</p>\n",
              "</div>\n",
              "    <div class=\"colab-df-buttons\">\n",
              "\n",
              "  <div class=\"colab-df-container\">\n",
              "    <button class=\"colab-df-convert\" onclick=\"convertToInteractive('df-10ac37b7-8630-492b-a17a-a458f12eaccb')\"\n",
              "            title=\"Convert this dataframe to an interactive table.\"\n",
              "            style=\"display:none;\">\n",
              "\n",
              "  <svg xmlns=\"http://www.w3.org/2000/svg\" height=\"24px\" viewBox=\"0 -960 960 960\">\n",
              "    <path d=\"M120-120v-720h720v720H120Zm60-500h600v-160H180v160Zm220 220h160v-160H400v160Zm0 220h160v-160H400v160ZM180-400h160v-160H180v160Zm440 0h160v-160H620v160ZM180-180h160v-160H180v160Zm440 0h160v-160H620v160Z\"/>\n",
              "  </svg>\n",
              "    </button>\n",
              "\n",
              "  <style>\n",
              "    .colab-df-container {\n",
              "      display:flex;\n",
              "      gap: 12px;\n",
              "    }\n",
              "\n",
              "    .colab-df-convert {\n",
              "      background-color: #E8F0FE;\n",
              "      border: none;\n",
              "      border-radius: 50%;\n",
              "      cursor: pointer;\n",
              "      display: none;\n",
              "      fill: #1967D2;\n",
              "      height: 32px;\n",
              "      padding: 0 0 0 0;\n",
              "      width: 32px;\n",
              "    }\n",
              "\n",
              "    .colab-df-convert:hover {\n",
              "      background-color: #E2EBFA;\n",
              "      box-shadow: 0px 1px 2px rgba(60, 64, 67, 0.3), 0px 1px 3px 1px rgba(60, 64, 67, 0.15);\n",
              "      fill: #174EA6;\n",
              "    }\n",
              "\n",
              "    .colab-df-buttons div {\n",
              "      margin-bottom: 4px;\n",
              "    }\n",
              "\n",
              "    [theme=dark] .colab-df-convert {\n",
              "      background-color: #3B4455;\n",
              "      fill: #D2E3FC;\n",
              "    }\n",
              "\n",
              "    [theme=dark] .colab-df-convert:hover {\n",
              "      background-color: #434B5C;\n",
              "      box-shadow: 0px 1px 3px 1px rgba(0, 0, 0, 0.15);\n",
              "      filter: drop-shadow(0px 1px 2px rgba(0, 0, 0, 0.3));\n",
              "      fill: #FFFFFF;\n",
              "    }\n",
              "  </style>\n",
              "\n",
              "    <script>\n",
              "      const buttonEl =\n",
              "        document.querySelector('#df-10ac37b7-8630-492b-a17a-a458f12eaccb button.colab-df-convert');\n",
              "      buttonEl.style.display =\n",
              "        google.colab.kernel.accessAllowed ? 'block' : 'none';\n",
              "\n",
              "      async function convertToInteractive(key) {\n",
              "        const element = document.querySelector('#df-10ac37b7-8630-492b-a17a-a458f12eaccb');\n",
              "        const dataTable =\n",
              "          await google.colab.kernel.invokeFunction('convertToInteractive',\n",
              "                                                    [key], {});\n",
              "        if (!dataTable) return;\n",
              "\n",
              "        const docLinkHtml = 'Like what you see? Visit the ' +\n",
              "          '<a target=\"_blank\" href=https://colab.research.google.com/notebooks/data_table.ipynb>data table notebook</a>'\n",
              "          + ' to learn more about interactive tables.';\n",
              "        element.innerHTML = '';\n",
              "        dataTable['output_type'] = 'display_data';\n",
              "        await google.colab.output.renderOutput(dataTable, element);\n",
              "        const docLink = document.createElement('div');\n",
              "        docLink.innerHTML = docLinkHtml;\n",
              "        element.appendChild(docLink);\n",
              "      }\n",
              "    </script>\n",
              "  </div>\n",
              "\n",
              "\n",
              "<div id=\"df-9c9dd497-9a94-4cfb-b35a-d132f740ec2d\">\n",
              "  <button class=\"colab-df-quickchart\" onclick=\"quickchart('df-9c9dd497-9a94-4cfb-b35a-d132f740ec2d')\"\n",
              "            title=\"Suggest charts\"\n",
              "            style=\"display:none;\">\n",
              "\n",
              "<svg xmlns=\"http://www.w3.org/2000/svg\" height=\"24px\"viewBox=\"0 0 24 24\"\n",
              "     width=\"24px\">\n",
              "    <g>\n",
              "        <path d=\"M19 3H5c-1.1 0-2 .9-2 2v14c0 1.1.9 2 2 2h14c1.1 0 2-.9 2-2V5c0-1.1-.9-2-2-2zM9 17H7v-7h2v7zm4 0h-2V7h2v10zm4 0h-2v-4h2v4z\"/>\n",
              "    </g>\n",
              "</svg>\n",
              "  </button>\n",
              "\n",
              "<style>\n",
              "  .colab-df-quickchart {\n",
              "      --bg-color: #E8F0FE;\n",
              "      --fill-color: #1967D2;\n",
              "      --hover-bg-color: #E2EBFA;\n",
              "      --hover-fill-color: #174EA6;\n",
              "      --disabled-fill-color: #AAA;\n",
              "      --disabled-bg-color: #DDD;\n",
              "  }\n",
              "\n",
              "  [theme=dark] .colab-df-quickchart {\n",
              "      --bg-color: #3B4455;\n",
              "      --fill-color: #D2E3FC;\n",
              "      --hover-bg-color: #434B5C;\n",
              "      --hover-fill-color: #FFFFFF;\n",
              "      --disabled-bg-color: #3B4455;\n",
              "      --disabled-fill-color: #666;\n",
              "  }\n",
              "\n",
              "  .colab-df-quickchart {\n",
              "    background-color: var(--bg-color);\n",
              "    border: none;\n",
              "    border-radius: 50%;\n",
              "    cursor: pointer;\n",
              "    display: none;\n",
              "    fill: var(--fill-color);\n",
              "    height: 32px;\n",
              "    padding: 0;\n",
              "    width: 32px;\n",
              "  }\n",
              "\n",
              "  .colab-df-quickchart:hover {\n",
              "    background-color: var(--hover-bg-color);\n",
              "    box-shadow: 0 1px 2px rgba(60, 64, 67, 0.3), 0 1px 3px 1px rgba(60, 64, 67, 0.15);\n",
              "    fill: var(--button-hover-fill-color);\n",
              "  }\n",
              "\n",
              "  .colab-df-quickchart-complete:disabled,\n",
              "  .colab-df-quickchart-complete:disabled:hover {\n",
              "    background-color: var(--disabled-bg-color);\n",
              "    fill: var(--disabled-fill-color);\n",
              "    box-shadow: none;\n",
              "  }\n",
              "\n",
              "  .colab-df-spinner {\n",
              "    border: 2px solid var(--fill-color);\n",
              "    border-color: transparent;\n",
              "    border-bottom-color: var(--fill-color);\n",
              "    animation:\n",
              "      spin 1s steps(1) infinite;\n",
              "  }\n",
              "\n",
              "  @keyframes spin {\n",
              "    0% {\n",
              "      border-color: transparent;\n",
              "      border-bottom-color: var(--fill-color);\n",
              "      border-left-color: var(--fill-color);\n",
              "    }\n",
              "    20% {\n",
              "      border-color: transparent;\n",
              "      border-left-color: var(--fill-color);\n",
              "      border-top-color: var(--fill-color);\n",
              "    }\n",
              "    30% {\n",
              "      border-color: transparent;\n",
              "      border-left-color: var(--fill-color);\n",
              "      border-top-color: var(--fill-color);\n",
              "      border-right-color: var(--fill-color);\n",
              "    }\n",
              "    40% {\n",
              "      border-color: transparent;\n",
              "      border-right-color: var(--fill-color);\n",
              "      border-top-color: var(--fill-color);\n",
              "    }\n",
              "    60% {\n",
              "      border-color: transparent;\n",
              "      border-right-color: var(--fill-color);\n",
              "    }\n",
              "    80% {\n",
              "      border-color: transparent;\n",
              "      border-right-color: var(--fill-color);\n",
              "      border-bottom-color: var(--fill-color);\n",
              "    }\n",
              "    90% {\n",
              "      border-color: transparent;\n",
              "      border-bottom-color: var(--fill-color);\n",
              "    }\n",
              "  }\n",
              "</style>\n",
              "\n",
              "  <script>\n",
              "    async function quickchart(key) {\n",
              "      const quickchartButtonEl =\n",
              "        document.querySelector('#' + key + ' button');\n",
              "      quickchartButtonEl.disabled = true;  // To prevent multiple clicks.\n",
              "      quickchartButtonEl.classList.add('colab-df-spinner');\n",
              "      try {\n",
              "        const charts = await google.colab.kernel.invokeFunction(\n",
              "            'suggestCharts', [key], {});\n",
              "      } catch (error) {\n",
              "        console.error('Error during call to suggestCharts:', error);\n",
              "      }\n",
              "      quickchartButtonEl.classList.remove('colab-df-spinner');\n",
              "      quickchartButtonEl.classList.add('colab-df-quickchart-complete');\n",
              "    }\n",
              "    (() => {\n",
              "      let quickchartButtonEl =\n",
              "        document.querySelector('#df-9c9dd497-9a94-4cfb-b35a-d132f740ec2d button');\n",
              "      quickchartButtonEl.style.display =\n",
              "        google.colab.kernel.accessAllowed ? 'block' : 'none';\n",
              "    })();\n",
              "  </script>\n",
              "</div>\n",
              "\n",
              "  <div id=\"id_694ca25e-4985-4819-824a-2c595270bca3\">\n",
              "    <style>\n",
              "      .colab-df-generate {\n",
              "        background-color: #E8F0FE;\n",
              "        border: none;\n",
              "        border-radius: 50%;\n",
              "        cursor: pointer;\n",
              "        display: none;\n",
              "        fill: #1967D2;\n",
              "        height: 32px;\n",
              "        padding: 0 0 0 0;\n",
              "        width: 32px;\n",
              "      }\n",
              "\n",
              "      .colab-df-generate:hover {\n",
              "        background-color: #E2EBFA;\n",
              "        box-shadow: 0px 1px 2px rgba(60, 64, 67, 0.3), 0px 1px 3px 1px rgba(60, 64, 67, 0.15);\n",
              "        fill: #174EA6;\n",
              "      }\n",
              "\n",
              "      [theme=dark] .colab-df-generate {\n",
              "        background-color: #3B4455;\n",
              "        fill: #D2E3FC;\n",
              "      }\n",
              "\n",
              "      [theme=dark] .colab-df-generate:hover {\n",
              "        background-color: #434B5C;\n",
              "        box-shadow: 0px 1px 3px 1px rgba(0, 0, 0, 0.15);\n",
              "        filter: drop-shadow(0px 1px 2px rgba(0, 0, 0, 0.3));\n",
              "        fill: #FFFFFF;\n",
              "      }\n",
              "    </style>\n",
              "    <button class=\"colab-df-generate\" onclick=\"generateWithVariable('df')\"\n",
              "            title=\"Generate code using this dataframe.\"\n",
              "            style=\"display:none;\">\n",
              "\n",
              "  <svg xmlns=\"http://www.w3.org/2000/svg\" height=\"24px\"viewBox=\"0 0 24 24\"\n",
              "       width=\"24px\">\n",
              "    <path d=\"M7,19H8.4L18.45,9,17,7.55,7,17.6ZM5,21V16.75L18.45,3.32a2,2,0,0,1,2.83,0l1.4,1.43a1.91,1.91,0,0,1,.58,1.4,1.91,1.91,0,0,1-.58,1.4L9.25,21ZM18.45,9,17,7.55Zm-12,3A5.31,5.31,0,0,0,4.9,8.1,5.31,5.31,0,0,0,1,6.5,5.31,5.31,0,0,0,4.9,4.9,5.31,5.31,0,0,0,6.5,1,5.31,5.31,0,0,0,8.1,4.9,5.31,5.31,0,0,0,12,6.5,5.46,5.46,0,0,0,6.5,12Z\"/>\n",
              "  </svg>\n",
              "    </button>\n",
              "    <script>\n",
              "      (() => {\n",
              "      const buttonEl =\n",
              "        document.querySelector('#id_694ca25e-4985-4819-824a-2c595270bca3 button.colab-df-generate');\n",
              "      buttonEl.style.display =\n",
              "        google.colab.kernel.accessAllowed ? 'block' : 'none';\n",
              "\n",
              "      buttonEl.onclick = () => {\n",
              "        google.colab.notebook.generateWithVariable('df');\n",
              "      }\n",
              "      })();\n",
              "    </script>\n",
              "  </div>\n",
              "\n",
              "    </div>\n",
              "  </div>\n"
            ],
            "application/vnd.google.colaboratory.intrinsic+json": {
              "type": "dataframe",
              "variable_name": "df",
              "summary": "{\n  \"name\": \"df\",\n  \"rows\": 1600,\n  \"fields\": [\n    {\n      \"column\": \"deceptive\",\n      \"properties\": {\n        \"dtype\": \"category\",\n        \"samples\": [\n          \"deceptive\",\n          \"truthful\"\n        ],\n        \"num_unique_values\": 2,\n        \"semantic_type\": \"\",\n        \"description\": \"\"\n      }\n    },\n    {\n      \"column\": \"polarity\",\n      \"properties\": {\n        \"dtype\": \"category\",\n        \"samples\": [\n          \"negative\",\n          \"positive\"\n        ],\n        \"num_unique_values\": 2,\n        \"semantic_type\": \"\",\n        \"description\": \"\"\n      }\n    },\n    {\n      \"column\": \"source\",\n      \"properties\": {\n        \"dtype\": \"category\",\n        \"samples\": [\n          \"TripAdvisor\",\n          \"MTurk\"\n        ],\n        \"num_unique_values\": 3,\n        \"semantic_type\": \"\",\n        \"description\": \"\"\n      }\n    },\n    {\n      \"column\": \"text\",\n      \"properties\": {\n        \"dtype\": \"string\",\n        \"samples\": [\n          \"We booked thru hotwire which we have a high percentage of positive outcomes. I was very happy when we saw that we would be staying at The Knickerbocker-as I had stayed when I was younger. We reserved a King Non-Smoker. Upon arriving we were told that they did not have that and we only had the choice of a Smoking room. When argued they stated 'well you booked thru hotwire so you do not have priority'. As we entered the room I noticed the bathroom door was off track and the bathroom light did not turn on. We called the front desk and they fixed the door but not the light. Later that eveing as I took a shower the seal around the shower was so poor water got all over the floor and towels. Also, I must add the room reaked of smoke. The next day when we checked the front desk clerk asked how our stay was and when we told him the problems, he told us the total and had not concern of our issues. We also checked in our bags for the day, and the bellmen came quickly and made very rude comments about us hurrying up so he could get on with his day. We realized a bit later that we forgot something in one of the bags and was told they would not get them back out. STAY AWAY-even if you get a good deal!!\\n\",\n          \"This hotel is rather stupid to be frank. It's a horrible attempt to be retro-sheek but ends up looking similar to that Saturday Night live skit where things are so sheek that they are not functional. The rooms are about the size of a shoe box and there isn't much in them. I actually like the Pedestal in the bathroom but there is no sink. I had to put my make-up on using the toliet for 5-days. It also took me 10-minutes to figure out how to turn on the shower and the bathroom is more like a closet then anything. I had guests over one evening and everyone could hear everyone pee b/c the bathroom doors aren't doors at all and there is no bathroom fan! It was just over the top for me and lots of costruction nearby to keep you up at night. On a good note, the staff are really friendly and the place is really clean. That's about the only good thing I can say about this place. I would not go back.\\n\"\n        ],\n        \"num_unique_values\": 1596,\n        \"semantic_type\": \"\",\n        \"description\": \"\"\n      }\n    }\n  ]\n}"
            }
          },
          "metadata": {},
          "execution_count": 11
        }
      ]
    },
    {
      "cell_type": "code",
      "source": [
        "import nltk\n",
        "from nltk.stem import PorterStemmer\n",
        "from nltk.tokenize import sent_tokenize, word_tokenize\n",
        "import re\n",
        "import string\n",
        "def text_cleaning(text):\n",
        "    '''\n",
        "    Make text lowercase, remove text in square brackets,remove links,remove special characters\n",
        "    and remove words containing numbers.\n",
        "    '''\n",
        "    text = text.lower()\n",
        "    text = re.sub('\\[.*?\\]', '', text)\n",
        "    text = re.sub(\"\\\\W\",\" \",text) # remove special chars\n",
        "    text = re.sub('https?://\\S+|www\\.\\S+', '', text)\n",
        "    text = re.sub('<.*?>+', '', text)\n",
        "    text = re.sub('[%s]' % re.escape(string.punctuation), '', text)\n",
        "    text = re.sub('\\n', '', text)\n",
        "    text = re.sub('\\w*\\d\\w*', '', text)\n",
        "\n",
        "    return text"
      ],
      "metadata": {
        "id": "eov6joCubQBD"
      },
      "execution_count": null,
      "outputs": []
    },
    {
      "cell_type": "code",
      "source": [
        "df['text']=df['text'].apply(text_cleaning)"
      ],
      "metadata": {
        "id": "hTG5KsR6bQ8k"
      },
      "execution_count": null,
      "outputs": []
    },
    {
      "cell_type": "code",
      "source": [
        "df"
      ],
      "metadata": {
        "colab": {
          "base_uri": "https://localhost:8080/",
          "height": 423
        },
        "id": "wLU-YK5JbUvu",
        "outputId": "e0c5975a-ebd3-48cf-c229-55f34601e26a"
      },
      "execution_count": null,
      "outputs": [
        {
          "output_type": "execute_result",
          "data": {
            "text/plain": [
              "      deceptive  polarity       source  \\\n",
              "0      truthful  positive  TripAdvisor   \n",
              "1      truthful  positive  TripAdvisor   \n",
              "2      truthful  positive  TripAdvisor   \n",
              "3      truthful  positive  TripAdvisor   \n",
              "4      truthful  positive  TripAdvisor   \n",
              "...         ...       ...          ...   \n",
              "1595  deceptive  negative        MTurk   \n",
              "1596  deceptive  negative        MTurk   \n",
              "1597  deceptive  negative        MTurk   \n",
              "1598  deceptive  negative        MTurk   \n",
              "1599  deceptive  negative        MTurk   \n",
              "\n",
              "                                                   text  \n",
              "0     we stayed for a one night getaway with family ...  \n",
              "1     triple a rate with upgrade to view room was le...  \n",
              "2     this comes a little late as i m finally catchi...  \n",
              "3     the omni chicago really delivers on all fronts...  \n",
              "4     i asked for a high floor away from the elevato...  \n",
              "...                                                 ...  \n",
              "1595  problems started when i booked the intercontin...  \n",
              "1596  the amalfi hotel has a beautiful website and i...  \n",
              "1597  the intercontinental chicago magnificent mile ...  \n",
              "1598  the palmer house hilton  while it looks good i...  \n",
              "1599  as a former chicagoan  i m appalled at the ama...  \n",
              "\n",
              "[1600 rows x 4 columns]"
            ],
            "text/html": [
              "\n",
              "  <div id=\"df-df0a341a-b324-49fe-9161-55d9567010e4\" class=\"colab-df-container\">\n",
              "    <div>\n",
              "<style scoped>\n",
              "    .dataframe tbody tr th:only-of-type {\n",
              "        vertical-align: middle;\n",
              "    }\n",
              "\n",
              "    .dataframe tbody tr th {\n",
              "        vertical-align: top;\n",
              "    }\n",
              "\n",
              "    .dataframe thead th {\n",
              "        text-align: right;\n",
              "    }\n",
              "</style>\n",
              "<table border=\"1\" class=\"dataframe\">\n",
              "  <thead>\n",
              "    <tr style=\"text-align: right;\">\n",
              "      <th></th>\n",
              "      <th>deceptive</th>\n",
              "      <th>polarity</th>\n",
              "      <th>source</th>\n",
              "      <th>text</th>\n",
              "    </tr>\n",
              "  </thead>\n",
              "  <tbody>\n",
              "    <tr>\n",
              "      <th>0</th>\n",
              "      <td>truthful</td>\n",
              "      <td>positive</td>\n",
              "      <td>TripAdvisor</td>\n",
              "      <td>we stayed for a one night getaway with family ...</td>\n",
              "    </tr>\n",
              "    <tr>\n",
              "      <th>1</th>\n",
              "      <td>truthful</td>\n",
              "      <td>positive</td>\n",
              "      <td>TripAdvisor</td>\n",
              "      <td>triple a rate with upgrade to view room was le...</td>\n",
              "    </tr>\n",
              "    <tr>\n",
              "      <th>2</th>\n",
              "      <td>truthful</td>\n",
              "      <td>positive</td>\n",
              "      <td>TripAdvisor</td>\n",
              "      <td>this comes a little late as i m finally catchi...</td>\n",
              "    </tr>\n",
              "    <tr>\n",
              "      <th>3</th>\n",
              "      <td>truthful</td>\n",
              "      <td>positive</td>\n",
              "      <td>TripAdvisor</td>\n",
              "      <td>the omni chicago really delivers on all fronts...</td>\n",
              "    </tr>\n",
              "    <tr>\n",
              "      <th>4</th>\n",
              "      <td>truthful</td>\n",
              "      <td>positive</td>\n",
              "      <td>TripAdvisor</td>\n",
              "      <td>i asked for a high floor away from the elevato...</td>\n",
              "    </tr>\n",
              "    <tr>\n",
              "      <th>...</th>\n",
              "      <td>...</td>\n",
              "      <td>...</td>\n",
              "      <td>...</td>\n",
              "      <td>...</td>\n",
              "    </tr>\n",
              "    <tr>\n",
              "      <th>1595</th>\n",
              "      <td>deceptive</td>\n",
              "      <td>negative</td>\n",
              "      <td>MTurk</td>\n",
              "      <td>problems started when i booked the intercontin...</td>\n",
              "    </tr>\n",
              "    <tr>\n",
              "      <th>1596</th>\n",
              "      <td>deceptive</td>\n",
              "      <td>negative</td>\n",
              "      <td>MTurk</td>\n",
              "      <td>the amalfi hotel has a beautiful website and i...</td>\n",
              "    </tr>\n",
              "    <tr>\n",
              "      <th>1597</th>\n",
              "      <td>deceptive</td>\n",
              "      <td>negative</td>\n",
              "      <td>MTurk</td>\n",
              "      <td>the intercontinental chicago magnificent mile ...</td>\n",
              "    </tr>\n",
              "    <tr>\n",
              "      <th>1598</th>\n",
              "      <td>deceptive</td>\n",
              "      <td>negative</td>\n",
              "      <td>MTurk</td>\n",
              "      <td>the palmer house hilton  while it looks good i...</td>\n",
              "    </tr>\n",
              "    <tr>\n",
              "      <th>1599</th>\n",
              "      <td>deceptive</td>\n",
              "      <td>negative</td>\n",
              "      <td>MTurk</td>\n",
              "      <td>as a former chicagoan  i m appalled at the ama...</td>\n",
              "    </tr>\n",
              "  </tbody>\n",
              "</table>\n",
              "<p>1600 rows × 4 columns</p>\n",
              "</div>\n",
              "    <div class=\"colab-df-buttons\">\n",
              "\n",
              "  <div class=\"colab-df-container\">\n",
              "    <button class=\"colab-df-convert\" onclick=\"convertToInteractive('df-df0a341a-b324-49fe-9161-55d9567010e4')\"\n",
              "            title=\"Convert this dataframe to an interactive table.\"\n",
              "            style=\"display:none;\">\n",
              "\n",
              "  <svg xmlns=\"http://www.w3.org/2000/svg\" height=\"24px\" viewBox=\"0 -960 960 960\">\n",
              "    <path d=\"M120-120v-720h720v720H120Zm60-500h600v-160H180v160Zm220 220h160v-160H400v160Zm0 220h160v-160H400v160ZM180-400h160v-160H180v160Zm440 0h160v-160H620v160ZM180-180h160v-160H180v160Zm440 0h160v-160H620v160Z\"/>\n",
              "  </svg>\n",
              "    </button>\n",
              "\n",
              "  <style>\n",
              "    .colab-df-container {\n",
              "      display:flex;\n",
              "      gap: 12px;\n",
              "    }\n",
              "\n",
              "    .colab-df-convert {\n",
              "      background-color: #E8F0FE;\n",
              "      border: none;\n",
              "      border-radius: 50%;\n",
              "      cursor: pointer;\n",
              "      display: none;\n",
              "      fill: #1967D2;\n",
              "      height: 32px;\n",
              "      padding: 0 0 0 0;\n",
              "      width: 32px;\n",
              "    }\n",
              "\n",
              "    .colab-df-convert:hover {\n",
              "      background-color: #E2EBFA;\n",
              "      box-shadow: 0px 1px 2px rgba(60, 64, 67, 0.3), 0px 1px 3px 1px rgba(60, 64, 67, 0.15);\n",
              "      fill: #174EA6;\n",
              "    }\n",
              "\n",
              "    .colab-df-buttons div {\n",
              "      margin-bottom: 4px;\n",
              "    }\n",
              "\n",
              "    [theme=dark] .colab-df-convert {\n",
              "      background-color: #3B4455;\n",
              "      fill: #D2E3FC;\n",
              "    }\n",
              "\n",
              "    [theme=dark] .colab-df-convert:hover {\n",
              "      background-color: #434B5C;\n",
              "      box-shadow: 0px 1px 3px 1px rgba(0, 0, 0, 0.15);\n",
              "      filter: drop-shadow(0px 1px 2px rgba(0, 0, 0, 0.3));\n",
              "      fill: #FFFFFF;\n",
              "    }\n",
              "  </style>\n",
              "\n",
              "    <script>\n",
              "      const buttonEl =\n",
              "        document.querySelector('#df-df0a341a-b324-49fe-9161-55d9567010e4 button.colab-df-convert');\n",
              "      buttonEl.style.display =\n",
              "        google.colab.kernel.accessAllowed ? 'block' : 'none';\n",
              "\n",
              "      async function convertToInteractive(key) {\n",
              "        const element = document.querySelector('#df-df0a341a-b324-49fe-9161-55d9567010e4');\n",
              "        const dataTable =\n",
              "          await google.colab.kernel.invokeFunction('convertToInteractive',\n",
              "                                                    [key], {});\n",
              "        if (!dataTable) return;\n",
              "\n",
              "        const docLinkHtml = 'Like what you see? Visit the ' +\n",
              "          '<a target=\"_blank\" href=https://colab.research.google.com/notebooks/data_table.ipynb>data table notebook</a>'\n",
              "          + ' to learn more about interactive tables.';\n",
              "        element.innerHTML = '';\n",
              "        dataTable['output_type'] = 'display_data';\n",
              "        await google.colab.output.renderOutput(dataTable, element);\n",
              "        const docLink = document.createElement('div');\n",
              "        docLink.innerHTML = docLinkHtml;\n",
              "        element.appendChild(docLink);\n",
              "      }\n",
              "    </script>\n",
              "  </div>\n",
              "\n",
              "\n",
              "<div id=\"df-4c0ebc8f-9fae-4c0c-b24d-b9de4afd0dc7\">\n",
              "  <button class=\"colab-df-quickchart\" onclick=\"quickchart('df-4c0ebc8f-9fae-4c0c-b24d-b9de4afd0dc7')\"\n",
              "            title=\"Suggest charts\"\n",
              "            style=\"display:none;\">\n",
              "\n",
              "<svg xmlns=\"http://www.w3.org/2000/svg\" height=\"24px\"viewBox=\"0 0 24 24\"\n",
              "     width=\"24px\">\n",
              "    <g>\n",
              "        <path d=\"M19 3H5c-1.1 0-2 .9-2 2v14c0 1.1.9 2 2 2h14c1.1 0 2-.9 2-2V5c0-1.1-.9-2-2-2zM9 17H7v-7h2v7zm4 0h-2V7h2v10zm4 0h-2v-4h2v4z\"/>\n",
              "    </g>\n",
              "</svg>\n",
              "  </button>\n",
              "\n",
              "<style>\n",
              "  .colab-df-quickchart {\n",
              "      --bg-color: #E8F0FE;\n",
              "      --fill-color: #1967D2;\n",
              "      --hover-bg-color: #E2EBFA;\n",
              "      --hover-fill-color: #174EA6;\n",
              "      --disabled-fill-color: #AAA;\n",
              "      --disabled-bg-color: #DDD;\n",
              "  }\n",
              "\n",
              "  [theme=dark] .colab-df-quickchart {\n",
              "      --bg-color: #3B4455;\n",
              "      --fill-color: #D2E3FC;\n",
              "      --hover-bg-color: #434B5C;\n",
              "      --hover-fill-color: #FFFFFF;\n",
              "      --disabled-bg-color: #3B4455;\n",
              "      --disabled-fill-color: #666;\n",
              "  }\n",
              "\n",
              "  .colab-df-quickchart {\n",
              "    background-color: var(--bg-color);\n",
              "    border: none;\n",
              "    border-radius: 50%;\n",
              "    cursor: pointer;\n",
              "    display: none;\n",
              "    fill: var(--fill-color);\n",
              "    height: 32px;\n",
              "    padding: 0;\n",
              "    width: 32px;\n",
              "  }\n",
              "\n",
              "  .colab-df-quickchart:hover {\n",
              "    background-color: var(--hover-bg-color);\n",
              "    box-shadow: 0 1px 2px rgba(60, 64, 67, 0.3), 0 1px 3px 1px rgba(60, 64, 67, 0.15);\n",
              "    fill: var(--button-hover-fill-color);\n",
              "  }\n",
              "\n",
              "  .colab-df-quickchart-complete:disabled,\n",
              "  .colab-df-quickchart-complete:disabled:hover {\n",
              "    background-color: var(--disabled-bg-color);\n",
              "    fill: var(--disabled-fill-color);\n",
              "    box-shadow: none;\n",
              "  }\n",
              "\n",
              "  .colab-df-spinner {\n",
              "    border: 2px solid var(--fill-color);\n",
              "    border-color: transparent;\n",
              "    border-bottom-color: var(--fill-color);\n",
              "    animation:\n",
              "      spin 1s steps(1) infinite;\n",
              "  }\n",
              "\n",
              "  @keyframes spin {\n",
              "    0% {\n",
              "      border-color: transparent;\n",
              "      border-bottom-color: var(--fill-color);\n",
              "      border-left-color: var(--fill-color);\n",
              "    }\n",
              "    20% {\n",
              "      border-color: transparent;\n",
              "      border-left-color: var(--fill-color);\n",
              "      border-top-color: var(--fill-color);\n",
              "    }\n",
              "    30% {\n",
              "      border-color: transparent;\n",
              "      border-left-color: var(--fill-color);\n",
              "      border-top-color: var(--fill-color);\n",
              "      border-right-color: var(--fill-color);\n",
              "    }\n",
              "    40% {\n",
              "      border-color: transparent;\n",
              "      border-right-color: var(--fill-color);\n",
              "      border-top-color: var(--fill-color);\n",
              "    }\n",
              "    60% {\n",
              "      border-color: transparent;\n",
              "      border-right-color: var(--fill-color);\n",
              "    }\n",
              "    80% {\n",
              "      border-color: transparent;\n",
              "      border-right-color: var(--fill-color);\n",
              "      border-bottom-color: var(--fill-color);\n",
              "    }\n",
              "    90% {\n",
              "      border-color: transparent;\n",
              "      border-bottom-color: var(--fill-color);\n",
              "    }\n",
              "  }\n",
              "</style>\n",
              "\n",
              "  <script>\n",
              "    async function quickchart(key) {\n",
              "      const quickchartButtonEl =\n",
              "        document.querySelector('#' + key + ' button');\n",
              "      quickchartButtonEl.disabled = true;  // To prevent multiple clicks.\n",
              "      quickchartButtonEl.classList.add('colab-df-spinner');\n",
              "      try {\n",
              "        const charts = await google.colab.kernel.invokeFunction(\n",
              "            'suggestCharts', [key], {});\n",
              "      } catch (error) {\n",
              "        console.error('Error during call to suggestCharts:', error);\n",
              "      }\n",
              "      quickchartButtonEl.classList.remove('colab-df-spinner');\n",
              "      quickchartButtonEl.classList.add('colab-df-quickchart-complete');\n",
              "    }\n",
              "    (() => {\n",
              "      let quickchartButtonEl =\n",
              "        document.querySelector('#df-4c0ebc8f-9fae-4c0c-b24d-b9de4afd0dc7 button');\n",
              "      quickchartButtonEl.style.display =\n",
              "        google.colab.kernel.accessAllowed ? 'block' : 'none';\n",
              "    })();\n",
              "  </script>\n",
              "</div>\n",
              "\n",
              "  <div id=\"id_fc36063b-de2f-42d6-9acb-b0db470fd59e\">\n",
              "    <style>\n",
              "      .colab-df-generate {\n",
              "        background-color: #E8F0FE;\n",
              "        border: none;\n",
              "        border-radius: 50%;\n",
              "        cursor: pointer;\n",
              "        display: none;\n",
              "        fill: #1967D2;\n",
              "        height: 32px;\n",
              "        padding: 0 0 0 0;\n",
              "        width: 32px;\n",
              "      }\n",
              "\n",
              "      .colab-df-generate:hover {\n",
              "        background-color: #E2EBFA;\n",
              "        box-shadow: 0px 1px 2px rgba(60, 64, 67, 0.3), 0px 1px 3px 1px rgba(60, 64, 67, 0.15);\n",
              "        fill: #174EA6;\n",
              "      }\n",
              "\n",
              "      [theme=dark] .colab-df-generate {\n",
              "        background-color: #3B4455;\n",
              "        fill: #D2E3FC;\n",
              "      }\n",
              "\n",
              "      [theme=dark] .colab-df-generate:hover {\n",
              "        background-color: #434B5C;\n",
              "        box-shadow: 0px 1px 3px 1px rgba(0, 0, 0, 0.15);\n",
              "        filter: drop-shadow(0px 1px 2px rgba(0, 0, 0, 0.3));\n",
              "        fill: #FFFFFF;\n",
              "      }\n",
              "    </style>\n",
              "    <button class=\"colab-df-generate\" onclick=\"generateWithVariable('df')\"\n",
              "            title=\"Generate code using this dataframe.\"\n",
              "            style=\"display:none;\">\n",
              "\n",
              "  <svg xmlns=\"http://www.w3.org/2000/svg\" height=\"24px\"viewBox=\"0 0 24 24\"\n",
              "       width=\"24px\">\n",
              "    <path d=\"M7,19H8.4L18.45,9,17,7.55,7,17.6ZM5,21V16.75L18.45,3.32a2,2,0,0,1,2.83,0l1.4,1.43a1.91,1.91,0,0,1,.58,1.4,1.91,1.91,0,0,1-.58,1.4L9.25,21ZM18.45,9,17,7.55Zm-12,3A5.31,5.31,0,0,0,4.9,8.1,5.31,5.31,0,0,0,1,6.5,5.31,5.31,0,0,0,4.9,4.9,5.31,5.31,0,0,0,6.5,1,5.31,5.31,0,0,0,8.1,4.9,5.31,5.31,0,0,0,12,6.5,5.46,5.46,0,0,0,6.5,12Z\"/>\n",
              "  </svg>\n",
              "    </button>\n",
              "    <script>\n",
              "      (() => {\n",
              "      const buttonEl =\n",
              "        document.querySelector('#id_fc36063b-de2f-42d6-9acb-b0db470fd59e button.colab-df-generate');\n",
              "      buttonEl.style.display =\n",
              "        google.colab.kernel.accessAllowed ? 'block' : 'none';\n",
              "\n",
              "      buttonEl.onclick = () => {\n",
              "        google.colab.notebook.generateWithVariable('df');\n",
              "      }\n",
              "      })();\n",
              "    </script>\n",
              "  </div>\n",
              "\n",
              "    </div>\n",
              "  </div>\n"
            ],
            "application/vnd.google.colaboratory.intrinsic+json": {
              "type": "dataframe",
              "variable_name": "df",
              "summary": "{\n  \"name\": \"df\",\n  \"rows\": 1600,\n  \"fields\": [\n    {\n      \"column\": \"deceptive\",\n      \"properties\": {\n        \"dtype\": \"category\",\n        \"samples\": [\n          \"deceptive\",\n          \"truthful\"\n        ],\n        \"num_unique_values\": 2,\n        \"semantic_type\": \"\",\n        \"description\": \"\"\n      }\n    },\n    {\n      \"column\": \"polarity\",\n      \"properties\": {\n        \"dtype\": \"category\",\n        \"samples\": [\n          \"negative\",\n          \"positive\"\n        ],\n        \"num_unique_values\": 2,\n        \"semantic_type\": \"\",\n        \"description\": \"\"\n      }\n    },\n    {\n      \"column\": \"source\",\n      \"properties\": {\n        \"dtype\": \"category\",\n        \"samples\": [\n          \"TripAdvisor\",\n          \"MTurk\"\n        ],\n        \"num_unique_values\": 3,\n        \"semantic_type\": \"\",\n        \"description\": \"\"\n      }\n    },\n    {\n      \"column\": \"text\",\n      \"properties\": {\n        \"dtype\": \"string\",\n        \"samples\": [\n          \"we booked thru hotwire which we have a high percentage of positive outcomes  i was very happy when we saw that we would be staying at the knickerbocker as i had stayed when i was younger  we reserved a king non smoker  upon arriving we were told that they did not have that and we only had the choice of a smoking room  when argued they stated  well you booked thru hotwire so you do not have priority   as we entered the room i noticed the bathroom door was off track and the bathroom light did not turn on  we called the front desk and they fixed the door but not the light  later that eveing as i took a shower the seal around the shower was so poor water got all over the floor and towels  also  i must add the room reaked of smoke  the next day when we checked the front desk clerk asked how our stay was and when we told him the problems  he told us the total and had not concern of our issues  we also checked in our bags for the day  and the bellmen came quickly and made very rude comments about us hurrying up so he could get on with his day  we realized a bit later that we forgot something in one of the bags and was told they would not get them back out  stay away even if you get a good deal   \",\n          \"this hotel is rather stupid to be frank  it s a horrible attempt to be retro sheek but ends up looking similar to that saturday night live skit where things are so sheek that they are not functional  the rooms are about the size of a shoe box and there isn t much in them  i actually like the pedestal in the bathroom but there is no sink  i had to put my make up on using the toliet for  days  it also took me  minutes to figure out how to turn on the shower and the bathroom is more like a closet then anything  i had guests over one evening and everyone could hear everyone pee b c the bathroom doors aren t doors at all and there is no bathroom fan  it was just over the top for me and lots of costruction nearby to keep you up at night  on a good note  the staff are really friendly and the place is really clean  that s about the only good thing i can say about this place  i would not go back  \"\n        ],\n        \"num_unique_values\": 1596,\n        \"semantic_type\": \"\",\n        \"description\": \"\"\n      }\n    }\n  ]\n}"
            }
          },
          "metadata": {},
          "execution_count": 14
        }
      ]
    },
    {
      "cell_type": "code",
      "source": [
        "df['complete_text']=df['source'] + '' +df['text']"
      ],
      "metadata": {
        "id": "W3QbuPaCbaA1"
      },
      "execution_count": null,
      "outputs": []
    },
    {
      "cell_type": "code",
      "source": [
        "import nltk\n",
        "import re\n",
        "from nltk.corpus import stopwords"
      ],
      "metadata": {
        "id": "fzg2JzZuW-Li"
      },
      "execution_count": null,
      "outputs": []
    },
    {
      "cell_type": "code",
      "source": [
        "nltk.download('punkt')"
      ],
      "metadata": {
        "colab": {
          "base_uri": "https://localhost:8080/"
        },
        "id": "zXVp2hHQXAg8",
        "outputId": "4e559c72-e7a6-4508-ff1f-1a10db3a3029"
      },
      "execution_count": null,
      "outputs": [
        {
          "output_type": "stream",
          "name": "stderr",
          "text": [
            "[nltk_data] Downloading package punkt to /root/nltk_data...\n",
            "[nltk_data]   Unzipping tokenizers/punkt.zip.\n"
          ]
        },
        {
          "output_type": "execute_result",
          "data": {
            "text/plain": [
              "True"
            ]
          },
          "metadata": {},
          "execution_count": 17
        }
      ]
    },
    {
      "cell_type": "code",
      "source": [
        "nltk.download('stopwords')"
      ],
      "metadata": {
        "colab": {
          "base_uri": "https://localhost:8080/"
        },
        "id": "mdv_yT4GXHIq",
        "outputId": "e109f8c3-1eff-4597-98ed-0ec0d0a9a236"
      },
      "execution_count": null,
      "outputs": [
        {
          "output_type": "stream",
          "name": "stderr",
          "text": [
            "[nltk_data] Downloading package stopwords to /root/nltk_data...\n",
            "[nltk_data]   Unzipping corpora/stopwords.zip.\n"
          ]
        },
        {
          "output_type": "execute_result",
          "data": {
            "text/plain": [
              "True"
            ]
          },
          "metadata": {},
          "execution_count": 18
        }
      ]
    },
    {
      "cell_type": "code",
      "source": [
        "from nltk.stem.porter import PorterStemmer"
      ],
      "metadata": {
        "id": "-jP6yBy_XLyj"
      },
      "execution_count": null,
      "outputs": []
    },
    {
      "cell_type": "code",
      "source": [
        "port_stem = PorterStemmer()"
      ],
      "metadata": {
        "id": "pbCWOg2eXQEl"
      },
      "execution_count": null,
      "outputs": []
    },
    {
      "cell_type": "code",
      "source": [
        "def stemming(text):\n",
        "    stemmed_text = re.sub('[^a-zA-Z]',' ',text)   # Removing all the punctuations, numbers etc and only keeping text\n",
        "    text = re.sub(\"\\\\W\",\" \",text) # remove special characters\n",
        "    text = re.sub('<.*?>+', '', text)\n",
        "    stemmed_text =  stemmed_text.split()         # Splitting the words to apply stemming\n",
        "    stemmed_text = [port_stem.stem(word) for word in  stemmed_text if not word in stopwords.words('english')]    # Stemming of all the words except Stopwords\n",
        "    stemmed_text = ' '.join(stemmed_text)       # Joining all the words after stemming\n",
        "    return  stemmed_text"
      ],
      "metadata": {
        "id": "vfJzMz5FXP7K"
      },
      "execution_count": null,
      "outputs": []
    },
    {
      "cell_type": "code",
      "source": [
        "df['complete_text'] = df['complete_text'].apply(stemming)"
      ],
      "metadata": {
        "id": "QBT6Kq7_XXOt"
      },
      "execution_count": null,
      "outputs": []
    },
    {
      "cell_type": "code",
      "source": [
        "print(df)"
      ],
      "metadata": {
        "colab": {
          "base_uri": "https://localhost:8080/"
        },
        "id": "8G08S19vXd6x",
        "outputId": "50ba425c-7f4c-412a-c459-0cccf7b0011d"
      },
      "execution_count": null,
      "outputs": [
        {
          "output_type": "stream",
          "name": "stdout",
          "text": [
            "      deceptive  polarity       source  \\\n",
            "0      truthful  positive  TripAdvisor   \n",
            "1      truthful  positive  TripAdvisor   \n",
            "2      truthful  positive  TripAdvisor   \n",
            "3      truthful  positive  TripAdvisor   \n",
            "4      truthful  positive  TripAdvisor   \n",
            "...         ...       ...          ...   \n",
            "1595  deceptive  negative        MTurk   \n",
            "1596  deceptive  negative        MTurk   \n",
            "1597  deceptive  negative        MTurk   \n",
            "1598  deceptive  negative        MTurk   \n",
            "1599  deceptive  negative        MTurk   \n",
            "\n",
            "                                                   text  \\\n",
            "0     we stayed for a one night getaway with family ...   \n",
            "1     triple a rate with upgrade to view room was le...   \n",
            "2     this comes a little late as i m finally catchi...   \n",
            "3     the omni chicago really delivers on all fronts...   \n",
            "4     i asked for a high floor away from the elevato...   \n",
            "...                                                 ...   \n",
            "1595  problems started when i booked the intercontin...   \n",
            "1596  the amalfi hotel has a beautiful website and i...   \n",
            "1597  the intercontinental chicago magnificent mile ...   \n",
            "1598  the palmer house hilton  while it looks good i...   \n",
            "1599  as a former chicagoan  i m appalled at the ama...   \n",
            "\n",
            "                                          complete_text  \n",
            "0     tripadvisorw stay one night getaway famili thu...  \n",
            "1     tripadvisortripl rate upgrad view room less al...  \n",
            "2     tripadvisorthi come littl late final catch rev...  \n",
            "3     tripadvisorth omni chicago realli deliv front ...  \n",
            "4     tripadvisori ask high floor away elev got room...  \n",
            "...                                                 ...  \n",
            "1595  mturkproblem start book intercontinent chicago...  \n",
            "1596  mturkth amalfi hotel beauti websit interior de...  \n",
            "1597  mturkth intercontinent chicago magnific mile o...  \n",
            "1598  mturkth palmer hous hilton look good pictur ou...  \n",
            "1599  mturka former chicagoan appal amalfi hotel chi...  \n",
            "\n",
            "[1600 rows x 5 columns]\n"
          ]
        }
      ]
    },
    {
      "cell_type": "code",
      "source": [
        "# nltk.download('wordnet')"
      ],
      "metadata": {
        "id": "Hadop5vdjxsN"
      },
      "execution_count": null,
      "outputs": []
    },
    {
      "cell_type": "code",
      "source": [
        "# from nltk.stem import WordNetLemmatizer\n",
        "\n",
        "# lemmatizer = WordNetLemmatizer()\n",
        "# def lemmatize(text):\n",
        "#     lemm_reviews = re.sub('[^a-zA-Z]',' ',text)\n",
        "#     lemm_reviews = lemm_reviews.split()         # Splitting the words to apply lemmatization\n",
        "#     lemm_reviews = [lemmatizer.lemmatize(word) for word in lemm_reviews]    # Stemming of all the words except Stopwords\n",
        "#     lemm_reviews = ' '.join(lemm_reviews)       # Joining all the words after lemmatization\n",
        "#     return  lemm_reviews\n",
        "# df['complete_text'] = df['complete_text'].apply(lemmatize)\n",
        "# print(df)"
      ],
      "metadata": {
        "id": "s2czl2SQjwu2"
      },
      "execution_count": null,
      "outputs": []
    },
    {
      "cell_type": "code",
      "source": [
        "from sklearn.feature_extraction.text import TfidfVectorizer"
      ],
      "metadata": {
        "id": "GgtzYACgYOvv"
      },
      "execution_count": null,
      "outputs": []
    },
    {
      "cell_type": "code",
      "source": [
        "vectorizer = TfidfVectorizer()\n",
        "Processed_Text = vectorizer.fit_transform(df['complete_text'])"
      ],
      "metadata": {
        "id": "lg5MoLzpYUnr"
      },
      "execution_count": null,
      "outputs": []
    },
    {
      "cell_type": "code",
      "source": [
        "# # summarize\n",
        "print(vectorizer.vocabulary_)\n",
        "print(vectorizer.idf_)"
      ],
      "metadata": {
        "id": "lDFC_qaXYbPM",
        "colab": {
          "base_uri": "https://localhost:8080/"
        },
        "outputId": "9c3c7c8d-0b41-451c-a458-4cce85116aea"
      },
      "execution_count": null,
      "outputs": [
        {
          "output_type": "stream",
          "name": "stdout",
          "text": [
            "{'tripadvisorw': 5952, 'stay': 5393, 'one': 3922, 'night': 3791, 'getaway': 2339, 'famili': 2012, 'thursday': 5775, 'tripl': 5959, 'aaa': 0, 'rate': 4497, 'steal': 5398, 'floor': 2146, 'room': 4781, 'complet': 1097, 'plasma': 4212, 'tv': 5990, 'bose': 648, 'stereo': 5410, 'voss': 6273, 'evian': 1914, 'water': 6328, 'gorgeou': 2399, 'bathroom': 474, 'tub': 5976, 'fine': 2091, 'us': 6175, 'concierg': 1119, 'help': 2604, 'cannot': 805, 'beat': 483, 'locat': 3231, 'flaw': 2127, 'breakfast': 675, 'pricey': 4338, 'servic': 4982, 'slow': 5173, 'four': 2209, 'kid': 3032, 'adult': 83, 'friday': 2242, 'morn': 3571, 'even': 1901, 'though': 5748, 'two': 5999, 'tabl': 5622, 'restaur': 4686, 'food': 2168, 'good': 2393, 'worth': 6561, 'wait': 6286, 'would': 6565, 'return': 4706, 'heartbeat': 2583, 'gem': 2322, 'chicago': 927, 'tripadvisortripl': 5949, 'upgrad': 6151, 'view': 6252, 'less': 3158, 'also': 165, 'includ': 2810, 'voucher': 6275, 'great': 2443, 'river': 4744, 'lake': 3077, 'wrigley': 6572, 'bldg': 592, 'tribun': 5886, 'major': 3324, 'shop': 5044, 'sightse': 5083, 'attract': 359, 'within': 6528, 'walk': 6294, 'distanc': 1595, 'larg': 3095, 'comfort': 1068, 'bed': 494, 'tripadvisorthi': 5946, 'come': 1064, 'littl': 3217, 'late': 3104, 'final': 2086, 'catch': 843, 'review': 4714, 'past': 4081, 'sever': 4991, 'month': 3565, 'dear': 1391, 'friend': 2245, 'hyatt': 2735, 'regenc': 4590, 'octob': 3884, 'visit': 6264, 'husband': 2730, 'town': 5844, 'hotel': 2694, 'perfect': 4132, 'imo': 2774, 'easi': 1742, 'check': 908, 'love': 3267, 'clean': 991, 'citi': 977, 'know': 3060, 'area': 280, 'pretti': 4328, 'well': 6461, 'conveni': 1187, 'mani': 3339, 'downtown': 1661, 'dinner': 1533, 'went': 6464, 'clube': 1023, 'around': 295, 'divis': 1613, 'st': 5356, 'problem': 4366, 'get': 2338, 'cab': 771, 'back': 407, 'forth': 2196, 'public': 4419, 'transport': 5868, 'right': 4732, 'near': 3737, 'bother': 650, 'sinc': 5105, 'need': 3748, 'park': 4062, 'usual': 6184, 'expens': 1955, 'abl': 6, 'car': 813, 'quickli': 4461, 'howev': 2706, 'left': 3145, 'sunday': 5541, 'exactli': 1921, 'high': 2624, 'traffic': 5854, 'time': 5787, 'although': 169, 'bear': 481, 'homegam': 2658, 'day': 1377, 'bit': 573, 'busier': 758, 'think': 5738, 'best': 544, 'part': 4065, 'got': 2401, 'hotwir': 2697, 'downright': 1657, 'qualiti': 4451, 'tripadvisorth': 5945, 'omni': 3921, 'realli': 4518, 'deliv': 1443, 'front': 2256, 'spacious': 5293, 'staff': 5361, 'prize': 4361, 'michigan': 3457, 'avenu': 385, 'address': 64, 'requir': 4659, 'level': 3166, 'whole': 6495, 'group': 2469, 'peopl': 4126, 'minut': 3509, 'plenti': 4227, 'recommend': 4542, 'dine': 1529, 'event': 1902, 'largest': 3097, 'find': 2090, 'price': 4333, 'rang': 4491, 'standard': 5372, 'separ': 4972, 'live': 3218, 'work': 6550, 'desk': 1476, 'fit': 2110, 'center': 863, 'free': 2228, 'weight': 6457, 'machin': 3299, 'row': 4798, 'cardio': 820, 'equip': 1868, 'share': 5011, 'other': 3963, 'feel': 2051, 'cramp': 1268, 'way': 6339, 'properti': 4398, 'tripadvisori': 5919, 'ask': 318, 'away': 395, 'elev': 1784, 'pleasantli': 4224, 'decor': 1411, 'function': 2272, 'lot': 3257, 'pleasant': 4223, 'prompt': 4391, 'use': 6180, 'everyth': 1911, 'order': 3950, 'end': 1822, 'district': 1603, 'follow': 2166, 'busi': 757, 'meet': 3412, 'anoth': 224, 'impress': 2788, 'personnel': 4149, 'absolut': 12, 'outstand': 3982, 'quit': 4466, 'earli': 1734, 'effici': 1764, 'somewhat': 5260, 'heavi': 2590, 'scent': 4897, 'air': 127, 'freshen': 2236, 'neg': 3751, 'entir': 1850, 'manag': 3333, 'reason': 4521, 'open': 3931, 'window': 6514, 'gener': 2325, 'much': 3685, 'suffic': 5521, 'say': 4875, 'doorman': 1637, 'housekeep': 2703, 'bartend': 460, 'waiter': 6287, 'amaz': 176, 'never': 3768, 'second': 4942, 'anyth': 241, 'comfi': 1066, 'amen': 185, 'superior': 5553, 'tini': 5793, 'complaint': 1093, 'wastebasket': 6325, 'sink': 5110, 'wet': 6472, 'bar': 447, 'sit': 5117, 'dispos': 1583, 'kleenex': 3050, 'coffe': 1042, 'paraphernalia': 4057, 'make': 3325, 'differ': 1515, 'said': 4834, 'thank': 5709, 'conrad': 1153, 'thanksgiv': 5710, 'corner': 1217, 'overlook': 4002, 'av': 378, 'build': 730, 'star': 5376, 'damn': 1354, 'place': 4203, 'faint': 2004, 'prais': 4297, 'wonder': 6539, 'unbeliev': 6032, 'superb': 5550, 'hd': 2567, 'screen': 4923, 'luxuri': 3298, 'bedlinen': 497, 'ipod': 2940, 'radio': 4473, 'huge': 2715, 'unbeat': 6031, 'heart': 2582, 'watch': 6327, 'light': 3184, 'festiv': 2060, 'parad': 4053, 'excel': 1927, 'buffet': 728, 'full': 2268, 'attent': 354, 'hesit': 2614, 'tripadvisorjust': 5923, 'girlfriend': 2353, 'first': 2104, 'saw': 4873, 'travelzoo': 5873, 'three': 5757, 'year': 6587, 'old': 3910, 'suit': 5526, 'doubl': 1646, 'pull': 4425, 'sofa': 5232, 'everon': 1906, 'came': 791, 'contact': 1170, 'deliveri': 1444, 'juic': 3009, 'hot': 2693, 'chocol': 947, 'fabul': 1989, 'eat': 1750, 'movi': 3586, 'etc': 1890, 'mention': 3426, 'simpli': 5103, 'decid': 1404, 'new': 3771, 'favorit': 2035, 'arriv': 301, 'septemb': 4975, 'took': 5819, 'ill': 2759, 'plane': 4207, 'travel': 5871, 'manchest': 3335, 'anticip': 230, 'go': 2381, 'spaciou': 5292, 'extrem': 1980, 'could': 1233, 'outsid': 3981, 'door': 1634, 'everi': 1905, 'request': 4658, 'see': 4947, 'sun': 5538, 'terrac': 5693, 'gym': 2499, 'idea': 2747, 'grim': 2454, 'sunb': 5539, 'concret': 1124, 'nois': 3811, 'condit': 1127, 'unit': 6093, 'cheer': 913, 'pleas': 4222, 'someth': 5258, 'everyon': 1910, 'ye': 6585, 'tripadvisoron': 5930, 'chose': 954, 'due': 1711, 'sear': 4937, 'tower': 5842, 'magnific': 3308, 'mile': 3479, 'grant': 2431, 'millenium': 3486, 'subway': 5511, 'bu': 715, 'stop': 5436, 'close': 1014, 'overal': 3985, 'nice': 3781, 'safe': 4830, 'beauti': 486, 'field': 2066, 'soldier': 5247, 'team': 5657, 'play': 4217, 'defenit': 1420, 'fairmont': 2007, 'frequent': 2234, 'familiar': 2013, 'ritual': 4741, 'almost': 158, 'flight': 2136, 'cancel': 799, 'home': 2657, 'airport': 132, 'atlanta': 342, 'shuttl': 5073, 'option': 3943, 'lieu': 3178, 'taxi': 5654, 'upon': 6159, 'immedi': 2770, 'notic': 3842, 'entranc': 1854, 'appear': 256, 'welcom': 6460, 'warm': 6311, 'person': 4148, 'prefer': 4306, 'king': 3039, 'reconfirm': 4544, 'reserv': 4664, 'alway': 171, 'take': 5631, 'fantast': 2020, 'linen': 3198, 'incred': 2823, 'feather': 2042, 'pillow': 4184, 'name': 3722, 'encompass': 1819, 'made': 3303, 'factori': 2000, 'tag': 5628, 'plan': 4206, 'buy': 767, 'ate': 338, 'aria': 286, 'like': 3189, 'consid': 1157, 'stand': 5371, 'asian': 316, 'fusion': 2286, 'truli': 5970, 'gourmand': 2406, 'life': 3179, 'long': 3244, 'foodi': 2170, 'appreci': 266, 'tast': 5649, 'drawback': 1675, 'seem': 4950, 'stick': 5415, 'theme': 5719, 'sole': 5248, 'miss': 3521, 'mark': 3361, 'rel': 4603, 'thing': 5736, 'scrambl': 4915, 'egg': 1766, 'metal': 3441, 'special': 5307, 'pass': 4076, 'highli': 2627, 'atmospher': 345, 'tripadvisorok': 5929, 'trip': 5893, 'litll': 3215, 'worri': 6558, 'wath': 6333, 'experi': 1956, 'book': 636, 'delux': 1446, 'coplaint': 1207, 'bath': 472, 'applianc': 263, 'size': 5124, 'internet': 2913, 'breaksfast': 676, 'aroufn': 294, 'surpris': 5571, 'block': 604, 'quiet': 4462, 'readi': 4511, 'mind': 3493, 'pricelin': 4335, 'per': 4129, 'blown': 613, 'forgot': 2188, 'fridg': 2244, 'closet': 1018, 'hanger': 2533, 'knew': 3051, 'previou': 4331, 'touch': 5833, 'mini': 3497, 'employe': 1813, 'friendli': 2246, 'east': 1746, 'hear': 2580, 'hallway': 2519, 'rude': 4805, 'yell': 6589, 'children': 937, 'complain': 1092, 'charg': 897, 'without': 6529, 'privledg': 4360, 'health': 2575, 'club': 1022, 'tri': 5884, 'bakeri': 428, 'crowd': 1299, 'nearbi': 3738, 'houlihan': 2698, 'groceri': 2461, 'store': 5439, 'behind': 516, 'far': 2021, 'bad': 416, 'big': 558, 'want': 6307, 'lobbi': 3225, 'plu': 4230, 'anyon': 238, 'tripadvisormi': 5925, 'wife': 6501, 'spend': 5317, 'weekend': 6453, 'found': 2206, 'lost': 3256, 'convent': 1188, 'world': 6556, 'larger': 3096, 'profession': 4376, 'com': 1060, 'hard': 2541, 'paid': 4030, 'slide': 5159, 'wow': 6568, 'upscal': 6162, 'mall': 3331, 'type': 6001, 'look': 3248, 'couch': 1231, 'seat': 4940, 'fountain': 2207, 'escal': 1878, 'directori': 1539, 'let': 3161, 'suggest': 5525, 'call': 785, 'ahead': 124, 'women': 6537, 'higher': 2625, 'happi': 2537, 'told': 5808, 'veiw': 6224, 'thought': 5750, 'give': 2355, 'inform': 2854, 'wouldnt': 6566, 'stuck': 5481, 'wall': 6298, 'blanket': 586, 'headboard': 2571, 'alarm': 139, 'clock': 1012, 'centuri': 867, 'plug': 4231, 'listen': 3210, 'music': 3703, 'relax': 4606, 'tour': 5835, 'spotless': 5338, 'toiletri': 5807, 'featur': 2043, 'comput': 1107, 'access': 22, 'print': 4349, 'board': 621, 'click': 1004, 'airlin': 130, 'icon': 2745, 'instruct': 2888, 'handi': 2527, 'ohar': 3900, 'skip': 5135, 'line': 3197, 'frustrat': 2262, 'passeng': 4078, 'better': 547, 'alot': 162, 'definit': 1428, 'choic': 949, 'coupl': 1242, 'im': 2764, 'complimentari': 1101, 'hilton': 2633, 'honor': 2672, 'member': 3417, 'connect': 1150, 'imagin': 2766, 'asset': 323, 'winter': 6519, 'next': 3779, 'sure': 5566, 'reunion': 4708, 'bottl': 653, 'breez': 681, 'hour': 2699, 'aesthet': 96, 'date': 1371, 'attach': 349, 'nordstrom': 3826, 'northbridg': 3829, 'boyfriend': 665, 'anniversari': 218, 'white': 6493, 'luxur': 3297, 'subroof': 5503, 'surround': 5573, 'sound': 5278, 'speaker': 5305, 'remind': 4623, 'shower': 5058, 'granit': 2430, 'countertop': 1239, 'robe': 4758, 'slipper': 5168, 'enough': 1840, 'side': 5077, 'mean': 3399, 'prefect': 4305, 'amount': 197, 'actual': 56, 'closer': 1016, 'mid': 3462, 'none': 3817, 'ever': 1904, 'tripadvisorgot': 5912, 'deal': 1387, 'pacag': 4021, 'nicest': 3783, 'dozen': 1663, 'extra': 1975, 'turn': 5985, 'beverag': 549, 'attend': 352, 'intrud': 2925, 'defin': 1424, 'given': 2356, 'central': 865, 'wish': 6525, 'pool': 4262, 'felt': 2055, 'swim': 5599, 'spent': 5318, 'base': 461, 'explor': 1964, 'exhibit': 1946, 'art': 304, 'institut': 2887, 'select': 4956, 'still': 5421, 'renov': 4635, 'uniformli': 6084, 'posit': 4277, 'newli': 3775, 'remodel': 4626, 'immacul': 2769, 'glitch': 2367, 'involv': 2933, 'replenish': 4647, 'maid': 3312, 'bedtim': 502, 'fresh': 2235, 'suppli': 5559, 'underwhelm': 6057, 'probabl': 4364, 'eaten': 1751, 'may': 3393, 'whenev': 6479, 'phone': 4162, 'lower': 3270, 'appoint': 265, 'tripadvisornam': 5927, 'buck': 718, 'crisp': 1292, 'sheet': 5021, 'flat': 2123, 'carpet': 829, 'short': 5047, 'prepar': 4314, 'pay': 4097, 'hey': 2615, 'normal': 3827, 'total': 5832, 'nightli': 3794, 'drink': 1689, 'tripadvisorcheck': 5905, 'fast': 2027, 'money': 3557, 'exorbit': 1950, 'absurd': 14, 'fee': 2048, 'wireless': 6522, 'bore': 645, 'routin': 4797, 'fare': 2022, 'gourmet': 2407, 'pantri': 4050, 'refresh': 4575, 'chang': 890, 'tripadvisorarriv': 5898, 'greet': 2449, 'zip': 6619, 'recept': 4530, 'rest': 4682, 'sleep': 5152, 'glass': 2364, 'stall': 5369, 'furnish': 2281, 'hook': 2673, 'thru': 5767, 'fl': 2117, 'westfield': 6470, 'north': 3828, 'bridg': 687, 'enjoy': 1834, 'cours': 1244, 'step': 5406, 'ave': 382, 'cta': 1311, 'grand': 2420, 'red': 4555, 'tripadvisorsimpli': 5937, 'nowaday': 3848, 'loud': 3260, 'neighbor': 3754, 'longer': 3245, 'super': 5549, 'system': 5619, 'ihom': 2756, 'bring': 697, 'week': 6451, 'describ': 1468, 'televison': 5673, 'particularli': 4073, 'especi': 1883, 'bedsid': 500, 'bellmen': 526, 'knowledg': 3061, 'satisfactori': 4864, 'overpr': 4005, 'maintain': 3317, 'treadmil': 5877, 'elipit': 1788, 'stepper': 5409, 'might': 3472, 'stori': 5441, 'dead': 1385, 'minor': 3504, 'quibbl': 4458, 'maker': 3327, 'offer': 3893, 'eight': 1769, 'valu': 6204, 'wrong': 6577, 'contain': 1171, 'amenti': 186, 'fallen': 2010, 'chain': 880, 'custom': 1340, 'often': 3898, 'self': 4957, 'smoothli': 5197, 'small': 5180, 'indoor': 2836, 'websit': 6417, 'sak': 4835, 'filen': 2076, 'basement': 464, 'maci': 3300, 'la': 3067, 'perla': 4140, 'appl': 261, 'bloomingd': 608, 'wi': 6496, 'fi': 2062, 'join': 2994, 'guest': 2483, 'program': 4380, 'sign': 5085, 'email': 1796, 'registr': 4593, 'terrif': 5698, 'tripadvisorstay': 5942, 'junior': 3015, 'seen': 4952, 'excus': 1940, 'serv': 4980, 'atrium': 347, 'top': 5823, 'notch': 3838, 'empti': 1814, 'shed': 5016, 'aquarium': 275, 'wast': 6324, 'musium': 3705, 'remain': 4616, 'tie': 5780, 'london': 3242, 'favourit': 2037, 'keep': 3022, 'daughter': 1372, 'vacat': 6196, 'easili': 1745, 'daili': 1350, 'turndown': 5986, 'encount': 1820, 'kind': 3036, 'someon': 5256, 'smile': 5189, 'milk': 3483, 'cooki': 1200, 'sometim': 5259, 'push': 4445, 'button': 766, 'shortag': 5048, 'conplaint': 1152, 'congierg': 1148, 'tough': 5834, 'shouuld': 5055, 'carri': 830, 'plate': 4214, 'addit': 63, 'hit': 2642, 'sunni': 5547, 'sq': 5348, 'ft': 2264, 'chair': 881, 'shape': 5009, 'aspect': 321, 'noth': 3840, 'formula': 2195, 'oppos': 3937, 'nuisanc': 3852, 'number': 3854, 'market': 3362, 'recent': 4529, 'confer': 1136, 'updat': 6150, 'product': 4374, 'pristin': 4354, 'downstair': 1659, 'consist': 1161, 'respons': 4679, 'evid': 1915, 'train': 5855, 'term': 5692, 'except': 1928, 'singl': 5109, 'accommod': 28, 'situat': 5120, 'tripadvisorgreat': 5913, 'last': 3101, 'popular': 4268, 'bright': 692, 'everth': 1907, 'class': 983, 'centr': 864, 'tripadvisornestl': 5928, 'beaten': 484, 'path': 4085, 'oper': 3932, 'arrang': 298, 'withiin': 6527, 'must': 3707, 'fun': 2271, 'architectur': 278, 'depart': 1455, 'dock': 1619, 'band': 440, 'fountin': 2208, 'queen': 4454, 'put': 4447, 'onto': 3926, 'coleman': 1050, 'guy': 2498, 'sold': 5246, 'cake': 780, 'compliment': 1100, 'show': 5057, 'care': 821, 'june': 3013, 'hancock': 2523, 'newer': 3774, 'non': 3815, 'bedspread': 501, 'style': 5492, 'bustl': 761, 'activ': 54, 'cobb': 1034, 'salad': 4837, 'hop': 2676, 'concept': 1115, 'hate': 2560, 'leav': 3140, 'didnt': 1508, 'facil': 1996, 'navi': 3734, 'pier': 4182, 'weather': 6348, 'layout': 3121, 'peculiar': 4104, 'face': 1991, 'unlik': 6098, 'disturb': 1605, 'pro': 4362, 'con': 1109, 'throughout': 5763, 'airi': 129, 'starbuck': 5377, 'gift': 2346, 'joe': 2989, 'across': 51, 'street': 5458, 'rave': 4504, 'invit': 2930, 'workout': 6554, 'tripadvisorstaff': 5941, 'kept': 3026, 'typic': 6002, 'ouch': 3967, 'bid': 557, 'umbrella': 6014, 'head': 2569, 'start': 5382, 'rain': 4478, 'soon': 5266, 'soak': 5226, 'reflect': 4574, 'promptli': 4392, 'regist': 4592, 'reward': 4718, 'save': 4870, 'waiv': 6290, 'dress': 1683, 'adjac': 69, 'corpor': 1218, 'offic': 3895, 'otherwis': 3964, 'inc': 2800, 'tax': 5653, 'expect': 1953, 'mayb': 3394, 'walkabl': 6295, 'alon': 159, 'thoroughli': 5746, 'bent': 539, 'backward': 414, 'assist': 326, 'matter': 3388, 'fault': 2032, 'cheap': 903, 'tripadvisorfor': 5910, 'marriott': 3367, 'brief': 689, 'note': 3839, 'sleek': 5151, 'scandanavian': 4882, 'design': 1473, 'polit': 4251, 'match': 3386, 'redesign': 4559, 'hip': 2637, 'lack': 3071, 'pressu': 4322, 'disappoint': 1549, 'esp': 1881, 'pricepoint': 4336, 'gave': 2316, 'card': 818, 'obtain': 3871, 'preferenti': 4307, 'presid': 4319, 'cost': 1226, 'ten': 5683, 'dollar': 1625, 'direct': 1536, 'mostli': 3574, 'anywher': 244, 'cart': 833, 'underground': 6046, 'millennium': 3487, 'garag': 2307, 'sevic': 4993, 'moment': 3551, 'smell': 5187, 'enorm': 1839, 'heard': 2581, 'smaller': 5181, 'definetli': 1427, 'chanc': 888, 'spur': 5347, 'nite': 3805, 'lucki': 3275, 'selfpark': 4958, 'elsewher': 1792, 'buckwheat': 721, 'pan': 4044, 'benedict': 535, 'delici': 1440, 'stun': 5490, 'glad': 2358, 'pick': 4173, 'menu': 3427, 'cozi': 1259, 'read': 4509, 'advisor': 92, 'ta': 5620, 'receiv': 4528, 'newspap': 3778, 'among': 195, 'perk': 4139, 'woken': 6534, 'orang': 3945, 'miner': 3495, 'salt': 4840, 'provid': 4412, 'twice': 5995, 'blueberri': 618, 'muffin': 3687, 'perfectli': 4134, 'accomod': 29, 'melissa': 3415, 'curti': 1335, 'map': 3344, 'lcd': 3125, 'cold': 1048, 'lemon': 3153, 'stickler': 5418, 'cleanli': 995, 'sparkl': 5302, 'els': 1791, 'construct': 1167, 'slept': 5156, 'membership': 3418, 'sofitel': 5237, 'goe': 2386, 'hill': 2632, 'eric': 1874, 'port': 4269, 'meal': 3398, 'chop': 952, 'hous': 2700, 'ok': 3908, 'crown': 1300, 'cask': 837, 'quick': 4459, 'replac': 4646, 'ashtray': 315, 'temperatur': 5678, 'heat': 2586, 'smoke': 5192, 'temp': 5676, 'sept': 4974, 'west': 6468, 'christma': 960, 'web': 6349, 'penthous': 4124, 'onlin': 3924, 'everywher': 1913, 'yr': 6609, 'bridgeston': 688, 'fireston': 2101, 'appet': 260, 'main': 3314, 'point': 4241, 'reccomend': 4525, 'odd': 3885, 'modern': 3540, 'panel': 4046, 'towel': 5841, 'seper': 4973, 'marbl': 3347, 'comment': 1071, 'espresso': 1885, 'ground': 2468, 'din': 1528, 'possibl': 4280, 'boutiqu': 658, 'awesom': 397, 'bedroom': 498, 'pleasur': 4226, 'kitchenett': 3046, 'magnifici': 3309, 'ride': 4727, 'loop': 3249, 'courteou': 1246, 'monro': 3561, 'harbor': 2540, 'south': 5284, 'significantli': 5090, 'aon': 245, 'concours': 1123, 'leisur': 3152, 'juli': 3011, 'valet': 6203, 'loyalti': 3272, 'concern': 1117, 'treat': 5879, 'babi': 404, 'wowwwww': 6569, 'speed': 5314, 'bell': 521, 'boy': 664, 'oj': 3907, 'horribl': 2683, 'mix': 3528, 'belgian': 518, 'waffl': 6283, 'suppos': 5561, 'whip': 6488, 'cream': 1279, 'strawberri': 5454, 'plain': 4205, 'report': 4650, 'issu': 2952, 'noisi': 3812, 'siren': 5115, 'control': 1186, 'royalti': 4801, 'brother': 706, 'period': 4138, 'server': 4981, 'loung': 3265, 'real': 4513, 'desir': 1475, 'advanc': 84, 'search': 4938, 'lunch': 3284, 'pm': 4237, 'accident': 24, 'discard': 1554, 'cd': 854, 'player': 4218, 'exact': 1920, 'purchas': 4436, 'record': 4547, 'freshli': 2238, 'kitchen': 3045, 'ad': 57, 'bonu': 634, 'therefor': 5726, 'pair': 4034, 'shoe': 5038, 'trinket': 5891, 'beyond': 551, 'extend': 1969, 'expans': 1952, 'move': 3585, 'wear': 6346, 'damag': 1353, 'tap': 5643, 'drip': 1690, 'poor': 4263, 'choos': 951, 'eager': 1731, 'figur': 2073, 'multipl': 3693, 'admit': 76, 'cover': 1254, 'jazz': 2977, 'el': 1772, 'process': 4370, 'painless': 4032, 'disinterest': 1575, 'procedur': 4368, 'warmer': 6312, 'host': 2689, 'signag': 5086, 'attende': 353, 'speedi': 5315, 'parkview': 4063, 'anteroom': 227, 'slightli': 5163, 'similar': 5098, 'overtli': 4013, 'shine': 5030, 'station': 5390, 'collar': 1052, 'tab': 5621, 'pepper': 4127, 'handl': 2529, 'oddli': 3886, 'rememb': 4620, 'serious': 4979, 'bare': 449, 'suffer': 5520, 'congest': 1147, 'neck': 3747, 'support': 5560, 'overli': 4001, 'improv': 2789, 'section': 4944, 'director': 1538, 'discuss': 1564, 'essenti': 1886, 'kudo': 3065, 'eve': 1899, 'warmli': 6313, 'electron': 1779, 'everytim': 1912, 'avoid': 388, 'seafood': 4934, 'til': 5783, 'drop': 1694, 'run': 4813, 'mi': 3449, 'tire': 5796, 'middl': 3464, 'februari': 2046, 'hare': 2548, 'interest': 2906, 'site': 5118, 'graciou': 2414, 'cloy': 1021, 'cornel': 1216, 'unfailingli': 6066, 'grati': 2435, 'along': 160, 'blackout': 581, 'curtain': 1334, 'fair': 2005, 'bellman': 525, 'met': 3440, 'pronounc': 4393, 'correctli': 1221, 'unusu': 6142, 'ultramodern': 6013, 'worn': 6557, 'apologet': 251, 'foam': 2159, 'allergen': 149, 'materi': 3387, 'assum': 331, 'tripadvisorbook': 5904, 'insan': 2870, 'low': 3269, 'bf': 552, 'local': 3230, 'nightspot': 3797, 'inlclud': 2864, 'sliver': 5170, 'worker': 6553, 'builid': 731, 'wave': 6337, 'anonym': 223, 'mainli': 3315, 'sprawl': 5341, 'insid': 2872, 'urban': 6170, 'cruis': 1303, 'boat': 624, 'ditch': 1607, 'rental': 4638, 'anyway': 243, 'ton': 5815, 'stuff': 5487, 'grab': 2412, 'tripadvisorfrom': 5911, 'began': 510, 'chic': 926, 'coolest': 1203, 'toilet': 5806, 'dessert': 1481, 'chees': 914, 'spread': 5343, 'eno': 1838, 'yummi': 6613, 'splendido': 5326, 'villa': 6253, 'est': 1887, 'compar': 1082, 'claim': 979, 'space': 5290, 'season': 4939, 'prove': 4410, 'round': 4794, 'stack': 5358, 'inde': 2825, 'half': 2514, 'repres': 4652, 'prior': 4351, 'confirm': 1140, 'partial': 4068, 'respond': 4678, 'question': 4456, 'thorough': 5745, 'futur': 2290, 'tripadvisorat': 5899, 'son': 5263, 'cub': 1312, 'airfar': 128, 'noon': 3824, 'convienc': 1194, 'bug': 729, 'luggag': 3280, 'transfer': 5864, 'nbc': 3736, 'purifi': 4439, 'ran': 4486, 'silent': 5092, 'staf': 5360, 'individu': 2835, 'tripadvisor': 5894, 'load': 3223, 'snow': 5222, 'sheraton': 5027, 'mom': 3550, 'flew': 2132, 'nap': 3723, 'die': 1509, 'biggest': 560, 'ive': 2960, 'fox': 2212, 'obel': 3865, 'item': 2958, 'avail': 379, 'cafe': 777, 'stellar': 5405, 'adequ': 65, 'knickerbock': 3053, 'older': 3911, 'bigger': 559, 'job': 2988, 'nix': 3807, 'overheard': 3999, 'martini': 3373, 'shi': 5028, 'liquor': 3207, 'privilig': 4359, 'januari': 2971, 'homewood': 2661, 'write': 6574, 'teenag': 5667, 'laundri': 3114, 'seveal': 4988, 'foodmarket': 2171, 'wont': 6543, 'dont': 1632, 'word': 6548, 'oh': 3899, 'done': 1629, 'brainer': 668, 'there': 5725, 'beach': 479, 'besid': 543, 'trolley': 5962, 'solo': 5250, 'wardrob': 6309, 'microwav': 3461, 'oven': 3984, 'cook': 1199, 'utensil': 6185, 'dirti': 1541, 'cut': 1342, 'road': 4750, 'pizzeria': 4201, 'uno': 6108, 'deep': 1415, 'dish': 1569, 'pizza': 4200, 'cheaper': 904, 'foodcourt': 2169, 'mon': 3552, 'thur': 5774, 'decent': 1402, 'strongli': 5475, 'tripadvisorswissotel': 5944, 'cleanest': 993, 'swissotel': 5607, 'mine': 3494, 'fleabag': 2130, 'motel': 3575, 'eye': 1985, 'prime': 4344, 'sort': 5276, 'storag': 5438, 'mechan': 3406, 'sneak': 5206, 'talk': 5636, 'vent': 6230, 'fortun': 2200, 'weird': 6459, 'tripadvisorhi': 5917, 'troubl': 5964, 'monday': 3556, 'adequet': 66, 'soundli': 5279, 'tourist': 5837, 'min': 3492, 'classi': 984, 'element': 1782, 'sexi': 4995, 'sharp': 5013, 'handsom': 2531, 'fixtur': 2116, 'furnitur': 2282, 'breathtak': 679, 'monaco': 3553, 'hor': 2680, 'ouevr': 3968, 'beer': 505, 'pre': 4299, 'doubt': 1648, 'lakeshor': 3079, 'meant': 3401, 'import': 2783, 'definitley': 1429, 'upper': 6160, 'snack': 5200, 'pictur': 4177, 'ceil': 856, 'hall': 2517, 'memori': 3422, 'niec': 3787, 'later': 3106, 'brought': 707, 'quilt': 4465, 'receptionist': 4531, 'tripadvisorour': 5932, 'particular': 4071, 'amazingli': 177, 'lift': 3183, 'finger': 2094, 'phenomen': 4159, 'palm': 4040, 'unfortun': 6071, 'importantli': 2784, 'downsid': 1658, 'cater': 845, 'wealthi': 6344, 'client': 1005, 'ridicul': 4729, 'minibar': 3498, 'awar': 393, 'ie': 2754, 'microfridg': 3460, 'instantli': 2884, 'novemb': 3846, 'adjoin': 71, 'spectacular': 5312, 'tell': 5674, 'runni': 4816, 'happili': 2539, 'batch': 471, 'omelet': 3919, 'six': 5121, 'eleven': 1785, 'instead': 2885, 'birthday': 567, 'aug': 367, 'flower': 2153, 'jaym': 2976, 'ballard': 433, 'ammen': 194, 'bouquet': 657, 'patio': 4089, 'cigar': 968, 'nicer': 3782, 'walkin': 6297, 'state': 5387, 'michicgan': 3456, 'ring': 4734, 'buse': 754, 'cinema': 972, 'opposit': 3938, 'checkout': 911, 'millinum': 3488, 'shula': 5070, 'rib': 4720, 'steak': 5396, 'westin': 6471, 'compani': 1080, 'michican': 3455, 'bounti': 656, 'toast': 5800, 'bacon': 415, 'sausag': 4869, 'hash': 2553, 'brown': 708, 'danish': 1363, 'burrito': 752, 'artif': 306, 'mexican': 3447, 'chines': 943, 'american': 189, 'wine': 6515, 'august': 368, 'annoy': 220, 'spotlessli': 5339, 'nightcap': 3792, 'certainli': 872, 'drake': 1669, 'apart': 247, 'charact': 896, 'cutter': 1345, 'tripadvisora': 5895, 'nearli': 3740, 'midway': 3467, 'freez': 2231, 'reali': 4514, 'timerland': 5789, 'that': 5711, 'easyer': 1748, 'dave': 1373, 'cora': 1208, 'john': 2992, 'judi': 3008, 'sister': 5116, 'cleveland': 1001, 'discount': 1559, 'beneath': 534, 'tricki': 5887, 'groov': 2464, 'ladi': 3074, 'fact': 1997, 'extent': 1971, 'leftov': 3146, 'reheat': 4601, 'french': 2232, 'cereal': 869, 'bagel': 421, 'yogurt': 6600, 'wifi': 6502, 'forget': 2183, 'holiday': 2656, 'inn': 2866, 'develop': 1495, 'suburb': 5510, 'victorian': 6250, 'mansion': 3342, 'swisshotel': 5606, 'dingi': 1532, 'yet': 6596, 'toward': 5840, 'sweet': 5595, 'sleeper': 5153, 'skyscrap': 5143, 'christi': 959, 'morgan': 3570, 'chief': 933, 'paula': 4095, 'fortney': 2199, 'memor': 3420, 'disclosur': 1556, 'amex': 190, 'starwood': 5385, 'weeknight': 6456, 'granddaught': 2423, 'grandma': 2427, 'grandaught': 2421, 'outing': 3975, 'supper': 5558, 'instanc': 2882, 'varieti': 6214, 'caught': 847, 'thunderstorm': 5773, 'dri': 1686, 'cloth': 1019, 'dryer': 1703, 'brochur': 702, 'third': 5739, 'appli': 262, 'whether': 6483, 'genuin': 2331, 'insul': 2890, 'neighbour': 3756, 'jewel': 2983, 'osco': 3960, 'trader': 5852, 'stock': 5427, 'heartili': 2585, 'binni': 565, 'depot': 1463, 'bargain': 453, 'opinion': 3934, 'common': 1074, 'hope': 2677, 'tripadvisoroth': 5931, 'abil': 5, 'knikerbock': 3055, 'celebr': 858, 'bag': 420, 'nightlif': 3795, 'cheapest': 905, 'timey': 5791, 'charm': 900, 'cheesecak': 915, 'bloomingdal': 609, 'einstein': 1770, 'stroll': 5471, 'backtrack': 412, 'smooth': 5195, 'cheryl': 920, 'carmin': 825, 'greatest': 2445, 'italian': 2954, 'samsung': 4845, 'cordless': 1211, 'ampl': 198, 'european': 1897, 'europ': 1896, 'duvet': 1727, 'soft': 5238, 'butter': 764, 'woke': 6533, 'knock': 3057, 'despit': 1480, 'answer': 225, 'mif': 3471, 'correct': 1220, 'happen': 2536, 'uniqu': 6092, 'grill': 2453, 'tomato': 5813, 'soup': 5281, 'dip': 1534, 'cute': 1343, 'rare': 4493, 'forward': 2202, 'palac': 4037, 'mail': 3313, 'le': 3126, 'ticket': 5776, 'but': 762, 'registri': 4594, 'jacuzzi': 2964, 'five': 2113, 'lakeview': 3081, 'driver': 1692, 'frindli': 2252, 'illinoi': 2762, 'visitor': 6265, 'guid': 2485, 'least': 3138, 'tripadvisorif': 5920, 'will': 6506, 'agent': 113, 'waitstaff': 6289, 'shabbi': 4999, 'either': 1771, 'luckier': 3276, 'scare': 4887, 'histor': 2640, 'tripadvisorhav': 5916, 'directli': 1537, 'ireland': 2942, 'mislaid': 3517, 'earlier': 1735, 'mistak': 3524, 'unprompt': 6115, 'tripadvisorwhat': 5955, 'quaint': 4449, 'dble': 1381, 'usa': 6176, 'palati': 4039, 'def': 1416, 'tripadvisorwhen': 5956, 'strand': 5448, 'joy': 3003, 'jonathan': 2998, 'unexpect': 6065, 'rush': 4818, 'guestroom': 2484, 'photo': 4164, 'post': 4281, 'mattress': 3390, 'tile': 5784, 'anxiou': 234, 'digit': 1519, 'tripadvisorperfect': 5933, 'annoyingli': 221, 'regardless': 4589, 'checheck': 907, 'ago': 118, 'texa': 5706, 'wick': 6497, 'financi': 2089, 'firework': 2102, 'altern': 167, 'spot': 5337, 'wed': 6448, 'minus': 3508, 'rehab': 4599, 'paint': 4033, 'pluss': 4236, 'wand': 6305, 'pressur': 4323, 'enclosur': 1817, 'leak': 3131, 'finish': 2098, 'promot': 4390, 'girl': 2352, 'hardli': 2546, 'skill': 5130, 'showerhead': 5059, 'hand': 2525, 'held': 2600, 'flush': 2157, 'snug': 5225, 'chi': 925, 'begin': 512, 'unload': 6100, 'nick': 3784, 'ny': 3858, 'obvious': 3875, 'roberta': 4760, 'pinch': 4190, 'former': 2194, 'mgr': 3448, 'miracl': 3511, 'sent': 4968, 'terribl': 5696, 'imress': 2790, 'bellboy': 522, 'conciergi': 1120, 'fifteen': 2067, 'specif': 5310, 'trainer': 5857, 'applic': 264, 'fruit': 2260, 'cool': 1201, 'intercontinent': 2903, 'charli': 899, 'duti': 1726, 'somehow': 5255, 'sudden': 5517, 'refer': 4569, 'folk': 2165, 'alreadi': 163, 'overs': 4008, 'sat': 4859, 'via': 6241, 'cliff': 1007, 'surpass': 5570, 'credit': 1283, 'roof': 4779, 'gizillion': 2357, 'odyssey': 3889, 'unless': 6097, 'heel': 2596, 'blister': 602, 'perhap': 4137, 'burger': 746, 'bubba': 716, 'gump': 2494, 'germaphob': 2335, 'saniti': 4852, 'bottom': 654, 'lead': 3127, 'riverwalk': 4747, 'land': 3086, 'young': 6604, 'interfac': 2909, 'decemb': 1401, 'conni': 1151, 'shift': 5029, 'santa': 4854, 'barbara': 448, 'bubbl': 717, 'skylin': 5140, 'shove': 5056, 'hospit': 2688, 'strong': 5473, 'assign': 325, 'vicin': 6247, 'convieni': 1195, 'method': 3443, 'effect': 1763, 'blast': 588, 'continent': 1178, 'men': 3423, 'stuffi': 5488, 'outdat': 3970, 'opt': 3940, 'gone': 2391, 'crash': 1275, 'colleg': 1056, 'roadtrip': 4752, 'case': 834, 'albeit': 140, 'influenc': 2851, 'bunch': 741, 'vist': 6266, 'steep': 5402, 'uk': 6010, 'saturday': 4866, 'touristi': 5838, 'liter': 3213, 'yard': 6583, 'averag': 386, 'flatscreen': 2124, 'hangov': 2534, 'rather': 4498, 'busiest': 759, 'summer': 5536, 'afford': 104, 'exceed': 1925, 'enthusiasm': 1847, 'budget': 726, 'nervou': 3763, 'poster': 4283, 'pl': 4202, 'lose': 3254, 'rasheeda': 4495, 'assur': 332, 'eas': 1741, 'skyris': 5141, 'condo': 1130, 'infin': 2849, 'yep': 6593, 'breath': 678, 'wasnt': 6323, 'awok': 401, 'sweat': 5591, 'weighti': 6458, 'tripadvisoreveryth': 5908, 'tea': 5655, 'doormen': 1638, 'pullout': 4426, 'believ': 520, 'tradit': 5853, 'thread': 5753, 'prank': 4298, 'truth': 5974, 'regard': 4588, 'valenc': 6201, 'canopi': 806, 'paper': 4051, 'inspir': 2880, 'cabinet': 773, 'coffeemak': 1043, 'ice': 2742, 'bucket': 719, 'execut': 1942, 'sofab': 5233, 'terri': 5694, 'bathrob': 473, 'configer': 1138, 'museum': 3702, 'complex': 1098, 'ignor': 2755, 'throw': 5764, 'clearli': 998, 'incorrect': 2822, 'ambassador': 178, 'neighborhood': 3755, 'dearborn': 1392, 'coast': 1031, 'histori': 2641, 'afternoon': 109, 'impact': 2775, 'exampl': 1923, 'whilst': 6485, 'mariott': 3360, 'rock': 4763, 'default': 1417, 'break': 672, 'fan': 2015, 'black': 579, 'grey': 2451, 'vibe': 6243, 'cheesi': 916, 'intact': 2893, 'basic': 466, 'stuctur': 5482, 'upbeat': 6147, 'consierg': 1159, 'news': 3776, 'drank': 1671, 'courtesi': 1248, 'refriger': 4577, 'suitcas': 5528, 'cup': 1321, 'affinia': 101, 'shortli': 5050, 'tuesday': 5979, 'frendli': 2233, 'power': 4293, 'outlet': 3976, 'washroom': 6322, 'advantag': 85, 'tripadvisorchicago': 5906, 'talbott': 5634, 'delight': 1441, 'helpful': 2605, 'gene': 2324, 'stephani': 5408, 'asid': 317, 'bice': 555, 'tripadvisorin': 5921, 'pump': 4428, 'classic': 985, 'tidi': 5779, 'christoph': 961, 'hancok': 2524, 'max': 3392, 'cant': 807, 'gladli': 2359, 'whirlpool': 6490, 'compat': 1085, 'facet': 1994, 'anytim': 242, 'gold': 2387, 'mag': 3304, 'chosen': 955, 'detail': 1485, 'simpl': 5101, 'overst': 4011, 'eleg': 1780, 'theater': 5713, 'california': 783, 'degre': 1433, 'somewher': 5261, 'yeah': 6586, 'tripadvisorso': 5938, 'sweeti': 5596, 'lure': 3287, 'guis': 2490, 'china': 942, 'game': 2302, 'upstair': 6165, 'hi': 2616, 'gentlemen': 2329, 'admir': 74, 'roomi': 4782, 'inch': 2805, 'yummo': 6614, 'hang': 2532, 'list': 3209, 'gestur': 2337, 'obstruct': 3870, 'sidewalk': 5079, 'oneway': 3923, 'limit': 3192, 'difficulti': 1517, 'andrew': 205, 'sourc': 5283, 'tripadvisorexcel': 5909, 'moder': 3539, 'facad': 1990, 'mess': 3436, 'incomplet': 2814, 'unavail': 6028, 'sticker': 5416, 'fab': 1986, 'led': 3142, 'bride': 685, 'younger': 6605, 'stylish': 5493, 'ambianc': 179, 'dedic': 1414, 'affina': 100, 'brand': 669, 'tripadvisoraft': 5896, 'picki': 4174, 'fireplac': 2100, 'seventh': 4990, 'delawar': 1434, 'fitzpatrick': 2112, 'marshal': 3368, 'usag': 6178, 'hectic': 2594, 'york': 6601, 'aveda': 383, 'pipe': 4193, 'chef': 917, 'accompani': 32, 'annual': 222, 'funki': 2275, 'rocker': 4765, 'beatl': 485, 'georg': 2332, 'stare': 5379, 'cocktail': 1037, 'slighti': 5162, 'seadog': 4933, 'mute': 3710, 'lennon': 3157, 'bono': 633, 'coff': 1041, 'straight': 5444, 'junki': 3016, 'tip': 5795, 'goodi': 2394, 'trendi': 5883, 'chill': 938, 'caus': 848, 'pretenti': 4327, 'memorabilia': 3421, 'deco': 1410, 'crackl': 1264, 'proposit': 4400, 'laid': 3076, 'contemporari': 1174, 'intimid': 2918, 'factor': 1999, 'tripadvisorupon': 5950, 'approach': 268, 'suv': 5582, 'drove': 1696, 'attitud': 357, 'gray': 2440, 'sooth': 5271, 'jar': 2972, 'key': 3027, 'dark': 1366, 'lamp': 3085, 'natur': 3732, 'firm': 2103, 'plush': 4235, 'largish': 3098, 'dvd': 1728, 'munchi': 3697, 'ellipt': 1790, 'bike': 561, 'video': 6251, 'surveil': 5574, 'safeti': 4831, 'headphon': 2572, 'ear': 1733, 'pad': 4028, 'green': 2448, 'travers': 5874, 'amiabl': 192, 'nasti': 3729, 'stamp': 5370, 'toler': 5809, 'druri': 1701, 'thrifti': 5759, 'deli': 1437, 'roll': 4773, 'partak': 4066, 'tween': 5992, 'toddler': 5803, 'set': 4985, 'intens': 2896, 'softest': 5240, 'technolog': 5664, 'tolietri': 5811, 'homey': 2662, 'wherev': 6482, 'virtual': 6260, 'critic': 1294, 'lore': 3253, 'midwest': 3469, 'remot': 4628, 'equinox': 1867, 'frigid': 2250, 'warmth': 6314, 'becam': 488, 'elig': 1786, 'automat': 376, 'oatmeal': 3864, 'minu': 3506, 'windchil': 6512, 'overcrow': 3993, 'tripadvisorawesom': 5901, 'glossi': 2375, 'understand': 6051, 'recogn': 4538, 'tone': 5816, 'tasti': 5651, 'dec': 1397, 'restaraunt': 4684, 'learn': 3135, 'suspect': 5578, 'legitim': 3151, 'piti': 4199, 'studi': 5484, 'pastri': 4083, 'nobodi': 3809, 'spoli': 5333, 'clerk': 1000, 'chriskindl': 957, 'strudel': 5477, 'experienc': 1958, 'hairdryer': 2512, 'damp': 1355, 'hair': 2509, 'usd': 6179, 'log': 3237, 'true': 5968, 'gibson': 2344, 'steakhous': 5397, 'garden': 2309, 'courtyard': 1252, 'exce': 1924, 'depend': 1457, 'neiman': 3759, 'marcu': 3350, 'dept': 1465, 'medium': 3411, 'bellhop': 523, 'windi': 6513, 'pub': 4417, 'sandwich': 4850, 'refurb': 4583, 'adavantag': 60, 'vs': 6277, 'jungl': 3014, 'occas': 3876, 'fail': 2002, 'draught': 1673, 'stella': 5404, 'guin': 2489, 'march': 3348, 'golden': 2388, 'joey': 2990, 'author': 373, 'unlucki': 6102, 'imposs': 2786, 'honestli': 2665, 'captain': 811, 'departur': 1456, 'attitut': 358, 'basil': 467, 'colleagu': 1053, 'co': 1029, 'exterior': 1973, 'shuffl': 5069, 'frankli': 2222, 'reach': 4507, 'rais': 4481, 'comparison': 1083, 'impecc': 2778, 'manhattan': 3337, 'cushi': 1338, 'famou': 2014, 'signatur': 5088, 'current': 1330, 'sale': 4838, 'fill': 2078, 'jare': 2973, 'nt': 3851, 'recreat': 4551, 'drive': 1691, 'togeth': 5805, 'lime': 3191, 'punch': 4431, 'bowl': 662, 'extradionari': 1976, 'tripadvisorveri': 5951, 'romant': 4778, 'masculin': 3375, 'guess': 2482, 'premis': 4310, 'everybodi': 1908, 'awaken': 392, 'ador': 80, 'pet': 4153, 'tail': 5629, 'dog': 1622, 'toy': 5849, 'tim': 5786, 'pleasent': 4225, 'sixteen': 5122, 'enhanc': 1833, 'entwistl': 1858, 'father': 2029, 'difficult': 1516, 'accomplish': 33, 'apri': 273, 'helpfuli': 2606, 'chri': 956, 'scott': 4911, 'ae': 93, 'packag': 4024, 'man': 3332, 'reec': 4566, 'portion': 4273, 'advertis': 89, 'thrill': 5760, 'doll': 1624, 'backpack': 411, 'kit': 3044, 'letter': 3163, 'inexpens': 2844, 'residenti': 4668, 'regular': 4597, 'honeymoon': 2669, 'split': 5328, 'indic': 2832, 'mediocr': 3410, 'neat': 3741, 'sinatra': 5104, 'anymor': 237, 'unimpress': 6085, 'booth': 642, 'enclos': 1816, 'redeem': 4558, 'danc': 1357, 'orbitz': 3946, 'particularili': 4072, 'labor': 3069, 'hooray': 2674, 'fewer': 2061, 'combo': 1062, 'warn': 6315, 'waterfront': 6329, 'wire': 6521, 'stepdad': 5407, 'dim': 1522, 'ideal': 2748, 'sum': 5533, 'tripadvisorwow': 5958, 'travellodg': 5872, 'nightstand': 3798, 'add': 61, 'rich': 4723, 'clark': 981, 'action': 53, 'taken': 5632, 'research': 4662, 'adorn': 81, 'someday': 5254, 'fanci': 2016, 'prici': 4339, 'assort': 329, 'tuck': 5978, 'gentleman': 2328, 'toothpast': 5822, 'tripadvisorb': 5902, 'forewarn': 2182, 'tripadvisorloc': 5924, 'tree': 5881, 'oppress': 3939, 'crunch': 1307, 'condition': 1129, 'houseclean': 2701, 'footstep': 2176, 'newslett': 3777, 'bewar': 550, 'victor': 6249, 'handicap': 2528, 'acess': 43, 'rooftop': 4780, 'heater': 2587, 'candl': 802, 'pedro': 4110, 'quentin': 4455, 'shook': 5042, 'strike': 5466, 'nation': 3731, 'landmark': 3088, 'darken': 1367, 'outdoor': 3972, 'scene': 4894, 'age': 111, 'abd': 4, 'toothbrush': 5821, 'thechina': 5717, 'unhappi': 6077, 'courtiest': 1250, 'tripadvisorrec': 5934, 'mission': 3522, 'detract': 1493, 'grandeur': 2425, 'blood': 606, 'creepi': 1284, 'twin': 5997, 'acknowledg': 46, 'tripadvisorambassador': 5897, 'nostalgia': 3836, 'soni': 5264, 'nyc': 3859, 'treasur': 5878, 'excit': 1933, 'photograph': 4167, 'neightborhood': 3758, 'lakefront': 3078, 'known': 3062, 'hometown': 2660, 'fall': 2009, 'flavor': 2125, 'content': 1177, 'becom': 491, 'paraphanelia': 4056, 'mural': 3699, 'musician': 3704, 'kiss': 3043, 'aerosmith': 95, 'ramp': 4485, 'canal': 798, 'sport': 5336, 'waterproof': 6331, 'drape': 1672, 'intim': 2917, 'energi': 1828, 'latest': 3107, 'score': 4910, 'crazi': 1278, 'overnight': 4003, 'sorri': 5275, 'disapoint': 1546, 'becus': 493, 'upgrag': 6152, 'exceut': 1931, 'ant': 226, 'chamber': 884, 'unhelp': 6080, 'harrison': 2551, 'suberb': 5497, 'elect': 1775, 'gotten': 2404, 'foot': 2173, 'silver': 5096, 'jame': 2967, 'ultra': 6012, 'swanki': 5586, 'boutqiu': 660, 'uniform': 6083, 'pin': 4188, 'kiehl': 3033, 'futon': 2289, 'wise': 6524, 'brilliant': 695, 'quicker': 4460, 'sight': 5082, 'croissant': 1296, 'entertain': 1846, 'kitti': 3049, 'shea': 5015, 'irish': 2944, 'interview': 2916, 'pack': 4023, 'sensit': 4966, 'exercis': 1944, 'extens': 1970, 'initi': 2861, 'goldfish': 2389, 'sip': 5113, 'wii': 6503, 'alcov': 143, 'color': 1058, 'lit': 3211, 'blue': 617, 'buddi': 724, 'legend': 3150, 'impec': 2777, 'ambul': 182, 'incid': 2806, 'cleaner': 992, 'joint': 2995, 'spa': 5289, 'hairdress': 2511, 'quikbook': 4464, 'recoveri': 4550, 'donald': 1628, 'perform': 4135, 'trueli': 5969, 'spring': 5345, 'ballroom': 435, 'mccormick': 3395, 'penni': 4121, 'ski': 5129, 'easter': 1747, 'supposedli': 5562, 'spoil': 5330, 'goldish': 2390, 'oliv': 3915, 'peninsula': 4120, 'patron': 4092, 'solv': 5252, 'accent': 19, 'roomservic': 4784, 'bentley': 540, 'latt': 3108, 'begain': 509, 'seattl': 4941, 'ritz': 4742, 'dana': 1356, 'secur': 4945, 'express': 1966, 'substanti': 5506, 'chgo': 924, 'avg': 387, 'mo': 3533, 'woman': 6536, 'complimentarili': 1102, 'stranger': 5450, 'purpl': 4440, 'polka': 4253, 'dot': 1644, 'theatr': 5714, 'suffici': 5522, 'deliber': 1438, 'michagan': 3452, 'oak': 3862, 'peac': 4101, 'conceriag': 1116, 'tripadvisorsometim': 5939, 'sophist': 5273, 'lug': 3279, 'rise': 4738, 'snippet': 5212, 'broke': 703, 'ankl': 215, 'crutch': 1309, 'loan': 3224, 'wheelchair': 6477, 'trade': 5851, 'ensur': 1844, 'happier': 2538, 'rainbow': 4479, 'gown': 2410, 'consequ': 1156, 'throwback': 5765, 'advic': 90, 'definitli': 1430, 'valentin': 6202, 'tripadvisormostli': 5926, 'island': 2949, 'wonderland': 6542, 'befit': 506, 'flawless': 2128, 'mmmhh': 3532, 'advert': 88, 'bfast': 553, 'enquiri': 1841, 'sublim': 5499, 'seemingli': 4951, 'tripadvisorroom': 5936, 'extrodinari': 1982, 'feet': 2052, 'exist': 1948, 'restuar': 4692, 'frquentli': 2259, 'parti': 4067, 'whatev': 6474, 'teh': 5670, 'awhil': 398, 'david': 1375, 'burk': 748, 'primehous': 4345, 'understood': 6053, 'consum': 1169, 'dossier': 1643, 'kick': 3029, 'written': 6576, 'vers': 6237, 'faboul': 1987, 'positv': 4278, 'previous': 4332, 'orchid': 3948, 'spray': 5342, 'terrycloth': 5702, 'roger': 4771, 'gallet': 2300, 'fluffi': 2155, 'confort': 1141, 'pillowtop': 4186, 'basket': 468, 'brioch': 698, 'pain': 4031, 'au': 362, 'chocolat': 948, 'topnotch': 5825, 'tripadvisordispit': 5907, 'buckingham': 720, 'quieter': 4463, 'scenic': 4896, 'keihl': 3024, 'switch': 5608, 'compens': 1087, 'lawri': 3118, 'accross': 39, 'btw': 714, 'nifti': 3788, 'sensibl': 4965, 'gratu': 2437, 'penninsula': 4122, 'skyauction': 5139, 'equal': 1866, 'echo': 1755, 'superl': 5554, 'exemplari': 1943, 'sylvia': 5612, 'rollin': 4775, 'fairli': 2006, 'mk': 3530, 'spoke': 5331, 'ryan': 4823, 'lettier': 3164, 'whimisc': 6487, 'utililz': 6187, 'sheer': 5020, 'discreet': 1562, 'boutiquey': 659, 'glamour': 2361, 'glitz': 2368, 'chandeli': 889, 'celeb': 857, 'decad': 1398, 'fascin': 2025, 'bill': 562, 'southshor': 5285, 'railroad': 4477, 'hershey': 2612, 'studio': 5485, 'midcenturi': 3463, 'elegantli': 1781, 'dealt': 1389, 'occur': 3882, 'schedul': 4898, 'aggrav': 114, 'encourag': 1821, 'carolin': 826, 'compet': 1089, 'satisfi': 4865, 'progress': 4381, 'mouth': 3583, 'resolv': 4671, 'info': 2853, 'feb': 2044, 'soda': 5231, 'homeless': 2659, 'rent': 4637, 'pavilion': 4096, 'tripadvisorthirti': 5947, 'indiffer': 2833, 'commend': 1070, 'waitress': 6288, 'inquir': 2869, 'minim': 3499, 'reson': 4672, 'tripadvisortook': 5948, 'unclutt': 6038, 'congeni': 1146, 'culinari': 1319, 'cultur': 1320, 'opportun': 3936, 'america': 188, 'calm': 788, 'restor': 4688, 'oasi': 3863, 'act': 52, 'technician': 5662, 'unabl': 6018, 'eagerli': 1732, 'await': 390, 'tripadvisorwhil': 5957, 'insist': 2877, 'delay': 1435, 'guarante': 2478, 'tripadvisorhotel': 5918, 'greek': 2447, 'lincoln': 3195, 'shampoo': 5008, 'gel': 2321, 'bodi': 627, 'lotion': 3258, 'barrel': 458, 'biscuit': 568, 'regularli': 4598, 'marathon': 3346, 'sox': 5287, 'friiday': 2251, 'recom': 4539, 'godsend': 2385, 'proxim': 4414, 'film': 2080, 'shedd': 5017, 'aka': 134, 'metropolitan': 3446, 'seoul': 4970, 'role': 4772, 'consistenli': 1162, 'fabric': 1988, 'affect': 98, 'fling': 2138, 'school': 4904, 'consider': 1158, 'glare': 2363, 'underway': 6055, 'fli': 2134, 'conceirg': 1112, 'amalfi': 173, 'tripadvisorbeauti': 5903, 'clientel': 1006, 'nook': 3823, 'purpos': 4442, 'accomad': 25, 'tripadvisorstrik': 5943, 'remark': 4618, 'april': 274, 'twist': 5998, 'lock': 3232, 'swipe': 5603, 'van': 6207, 'groaner': 2460, 'kiosk': 3042, 'origin': 3957, 'wtih': 6580, 'squeal': 5352, 'virginia': 6259, 'concert': 1118, 'hallo': 2518, 'mr': 3587, 'vanessa': 6208, 'wore': 6549, 'jean': 2979, 'tshirt': 5975, 'snobberi': 5214, 'cloud': 1020, 'trio': 5892, 'conduct': 1134, 'impishli': 2780, 'swift': 5598, 'salon': 4839, 'vote': 6274, 'resid': 4667, 'aid': 126, 'cosi': 1224, 'chillout': 940, 'snooz': 5219, 'allow': 155, 'civilis': 978, 'tranquil': 5861, 'background': 410, 'fussi': 2288, 'barman': 457, 'mohito': 3545, 'pc': 4099, 'webcam': 6362, 'goodnight': 2395, 'furri': 2283, 'crt': 1301, 'coincierg': 1046, 'kinda': 3037, 'metro': 3445, 'exit': 1949, 'nov': 3845, 'crabtre': 1262, 'evelyn': 1900, 'mouthwash': 3584, 'badi': 417, 'shepard': 5025, 'pie': 4180, 'scienc': 4906, 'industri': 2840, 'liitl': 3188, 'riff': 4731, 'raff': 4474, 'trump': 5971, 'focus': 2162, 'crepe': 1285, 'restur': 4693, 'rank': 4492, 'shopper': 5045, 'paradis': 4054, 'inclus': 2811, 'signific': 5089, 'tech': 5660, 'project': 4383, 'bought': 655, 'today': 5802, 'leg': 3147, 'crip': 1291, 'iron': 2945, 'filter': 2081, 'shade': 5000, 'ottman': 3965, 'cube': 1314, 'librari': 3174, 'artwork': 309, 'box': 663, 'brunch': 711, 'palmer': 4041, 'undergo': 6044, 'inconveni': 2818, 'lollopalooza': 3241, 'twenti': 5994, 'expedia': 1954, 'fell': 2053, 'wonderful': 6541, 'affraid': 105, 'excurs': 1939, 'checkin': 909, 'horror': 2687, 'allegro': 147, 'upset': 6163, 'dunkin': 1721, 'donut': 1633, 'refurbish': 4584, 'tripadvisorguy': 5914, 'confus': 1144, 'ordeal': 3949, 'specacular': 5306, 'espn': 1884, 'zone': 6620, 'lg': 3169, 'zest': 6618, 'ic': 2741, 'werent': 6465, 'tripadvisorwel': 5954, 'diamond': 1503, 'giant': 2343, 'rottweil': 4791, 'cranni': 1271, 'kickback': 3030, 'tripadvisorsp': 5940, 'tremend': 5882, 'superbl': 5551, 'mason': 3377, 'convert': 1191, 'effort': 1765, 'worthwhil': 6563, 'cubicl': 1315, 'trouser': 5965, 'press': 4321, 'strongest': 5474, 'amalfitini': 174, 'kimpton': 3034, 'defint': 1431, 'vari': 6211, 'chais': 882, 'tripadvisorattend': 5900, 'realiz': 4517, 'milenium': 3480, 'friendliest': 2247, 'sofit': 5236, 'kinzi': 3041, 'harri': 2550, 'caray': 815, 'unmatch': 6104, 'revolv': 4717, 'offici': 3896, 'tripadvisorhad': 5915, 'puppi': 4435, 'owner': 4019, 'retriev': 4702, 'premium': 4311, 'steril': 5411, 'pedestrian': 4107, 'reput': 4656, 'busbi': 753, 'berkeley': 542, 'tho': 5743, 'jaunt': 2974, 'tripadvisorwa': 5953, 'slate': 5148, 'onyl': 3928, 'intercon': 2902, 'peopel': 4125, 'ost': 3961, 'up': 6146, 'bargin': 454, 'redon': 4563, 'sens': 4964, 'escap': 1879, 'lasal': 3099, 'cadillac': 776, 'social': 5230, 'circa': 974, 'fire': 2099, 'form': 2191, 'fellow': 2054, 'anim': 214, 'dwarf': 1729, 'amongst': 196, 'constant': 1164, 'stumbl': 5489, 'formal': 2192, 'continu': 1180, 'bread': 671, 'oevr': 3891, 'antipasti': 232, 'meat': 3405, 'marin': 3357, 'veget': 6220, 'uncomfort': 6039, 'panhandl': 4047, 'gawdi': 2317, 'ship': 5032, 'whatsoev': 6476, 'thin': 5735, 'greatli': 2446, 'exagger': 1922, 'thick': 5730, 'cconfer': 853, 'ala': 138, 'nickl': 3786, 'dime': 1523, 'zagat': 6617, 'angi': 209, 'sullivan': 5532, 'wind': 6511, 'ball': 432, 'reduc': 4564, 'gear': 2319, 'hasselfre': 2556, 'tripadvisorreview': 5935, 'govern': 2408, 'stadium': 5359, 'insitiut': 2878, 'soap': 5227, 'burn': 749, 'lightbulb': 3185, 'maintainc': 3318, 'bulb': 734, 'configur': 1139, 'virgin': 6258, 'atlant': 341, 'reassur': 4522, 'arrriv': 303, 'interior': 2911, 'built': 732, 'lockwood': 3234, 'destin': 1483, 'supervis': 5555, 'complementari': 1096, 'yoga': 6599, 'mat': 3385, 'doller': 1626, 'moter': 3576, 'hefti': 2597, 'alert': 144, 'certain': 871, 'swank': 5585, 'squar': 5350, 'luck': 3274, 'respect': 4676, 'pancak': 4045, 'fyi': 2292, 'alright': 164, 'palomar': 4042, 'dc': 1382, 'silenc': 5091, 'tripadvisorit': 5922, 'redecor': 4557, 'berghoff': 541, 'planetarium': 4209, 'verifi': 6236, 'wrote': 6578, 'massiv': 3382, 'solid': 5249, 'approx': 271, 'strip': 5468, 'pop': 4266, 'champagn': 886, 'everyday': 1909, 'drab': 1665, 'finest': 2093, 'curtiou': 1336, 'cnetr': 1028, 'kraemer': 3064, 'advis': 91, 'pasta': 4082, 'starter': 5383, 'salti': 4841, 'reno': 4634, 'mastiff': 3384, 'cross': 1297, 'leash': 3137, 'blackboard': 580, 'continenti': 1179, 'juci': 3005, 'antipasta': 231, 'perplex': 4145, 'pitfal': 4198, 'woodwork': 6546, 'lend': 3154, 'ambienc': 181, 'awe': 396, 'excut': 1941, 'decis': 1406, 'althou': 168, 'compact': 1079, 'mother': 3577, 'apprehens': 267, 'bump': 739, 'interestingli': 2907, 'occasionali': 3878, 'bitterli': 576, 'danger': 1361, 'exclus': 1937, 'descript': 1469, 'boast': 623, 'laptop': 3093, 'union': 6091, 'cordial': 1210, 'recycl': 4554, 'bin': 564, 'toxic': 5848, 'chemic': 918, 'footag': 2174, 'responsibili': 4680, 'lion': 3203, 'enter': 1845, 'nytim': 3861, 'washington': 6320, 'appar': 254, 'doughnut': 1649, 'picasso': 4172, 'structur': 5476, 'limo': 3193, 'omar': 3918, 'ich': 2744, 'royal': 4800, 'escort': 1880, 'regret': 4595, 'bachorett': 406, 'agre': 120, 'trust': 5973, 'pic': 4171, 'justic': 3017, 'milennium': 3481, 'maria': 3354, 'drain': 1668, 'tight': 5782, 'incur': 2824, 'overwhelmingli': 4016, 'slower': 5174, 'nit': 3804, 'highlight': 2628, 'student': 5483, 'oeuvr': 3890, 'motiv': 3578, 'jump': 3012, 'shelf': 5022, 'bundl': 742, 'mturkmi': 3645, 'packeg': 4025, 'profici': 4377, 'honeysuckl': 2670, 'thumb': 5771, 'explain': 1961, 'rout': 4796, 'mturkquit': 3655, 'seminar': 4961, 'understat': 6052, 'ultim': 6011, 'satisfact': 4863, 'overdr': 3994, 'percent': 4130, 'cotton': 1230, 'multilingu': 3692, 'pamper': 4043, 'toe': 5804, 'mturkconrad': 3603, 'confad': 1135, 'employ': 1812, 'filthi': 2082, 'dash': 1369, 'polish': 4250, 'wood': 6544, 'ac': 18, 'ting': 5792, 'velveteen': 6226, 'nob': 3808, 'shock': 5035, 'confrot': 1143, 'leather': 3139, 'stone': 5433, 'grape': 2432, 'uncontenti': 6041, 'drown': 1697, 'olymp': 3916, 'swimmer': 5600, 'cam': 790, 'yum': 6612, 'plant': 4211, 'sincer': 5106, 'mesmer': 3435, 'massag': 3379, 'priceless': 4334, 'ream': 4519, 'reliabl': 4608, 'permit': 4144, 'gentl': 2327, 'aerob': 94, 'anaerob': 200, 'mturki': 3634, 'venu': 6233, 'imperson': 2779, 'dissapoint': 1588, 'mturkif': 3635, 'televis': 5672, 'vaniti': 6210, 'rough': 4792, 'lo': 3222, 'angel': 207, 'graduat': 2418, 'halibut': 2516, 'convers': 1190, 'mturkw': 3673, 'upto': 6168, 'mturkwow': 3682, 'mturkluxuri': 3643, 'combin': 1061, 'mturkrec': 3656, 'asleep': 320, 'seston': 4984, 'mturkfrom': 3622, 'castl': 839, 'settl': 4986, 'hypo': 2738, 'fashion': 2026, 'sundeck': 5542, 'midst': 3466, 'practic': 4296, 'doorstep': 1639, 'masseus': 3381, 'skin': 5132, 'bone': 632, 'ribey': 4721, 'carrot': 832, 'eri': 1873, 'bass': 469, 'guidanc': 2486, 'lastli': 3102, 'mturkth': 3664, 'unparallel': 6111, 'scheme': 4899, 'mood': 3566, 'bliss': 601, 'vast': 6217, 'stetson': 5413, 'mturkoveral': 3651, 'downfal': 1652, 'antiqu': 233, 'proud': 4408, 'mturkloc': 3642, 'layov': 3122, 'mojito': 3547, 'retir': 4700, 'allergi': 150, 'monarch': 3554, 'presidenti': 4320, 'blend': 596, 'tension': 5689, 'deck': 1407, 'stress': 5461, 'reliev': 4610, 'pda': 4100, 'purif': 4438, 'demand': 1447, 'award': 394, 'win': 6510, 'luxuari': 3296, 'cowork': 1257, 'brightli': 694, 'garish': 2310, 'crim': 1290, 'perfecti': 4133, 'ceremoni': 870, 'cousin': 1253, 'nearest': 3739, 'lay': 3119, 'wake': 6292, 'pure': 4437, 'aw': 389, 'attack': 350, 'optimist': 3942, 'hypoallergen': 2739, 'oppertun': 3935, 'tan': 5639, 'flow': 2152, 'showplac': 5061, 'mturkthi': 3667, 'hassl': 2557, 'portray': 4275, 'freak': 2227, 'benefit': 536, 'luciou': 3273, 'dreami': 1680, 'favorti': 2036, 'needless': 3749, 'promis': 4388, 'arm': 289, 'crappi': 1273, 'lodg': 3235, 'mturkfantast': 3618, 'reclin': 4536, 'convinc': 1197, 'worthi': 6562, 'sunbath': 5540, 'achiev': 45, 'mturkgreat': 3624, 'sceneri': 4895, 'authent': 372, 'mturkfairmont': 3617, 'resist': 4669, 'utterli': 6191, 'produc': 4373, 'mturkwhen': 3677, 'fianc': 2063, 'bum': 737, 'highest': 2626, 'greater': 2444, 'brick': 684, 'sky': 5138, 'scraper': 4918, 'governor': 2409, 'accept': 20, 'humbl': 2720, 'afterward': 110, 'chagal': 877, 'reek': 4568, 'saver': 4871, 'favor': 2034, 'florist': 2151, 'rose': 4788, 'rainfal': 4480, 'upmost': 6158, 'porter': 4271, 'valuabl': 6205, 'mturkm': 3644, 'marri': 3366, 'ami': 191, 'angela': 208, 'mturkhav': 3626, 'conceiv': 1113, 'enviabl': 1860, 'lap': 3091, 'resort': 4673, 'premier': 4309, 'privat': 4356, 'myspa': 3715, 'mturk': 3588, 'breathtakingli': 680, 'divin': 1612, 'asthma': 333, 'emerg': 1804, 'associ': 327, 'rosa': 4787, 'perfum': 4136, 'harsh': 2552, 'dread': 1678, 'ethan': 1892, 'nacho': 3719, 'patient': 4088, 'grace': 2413, 'born': 646, 'aroma': 292, 'harmoni': 2549, 'candac': 800, 'muscl': 3701, 'sought': 5277, 'compel': 1086, 'setup': 4987, 'bistro': 572, 'inadequ': 2794, 'exquisit': 1967, 'scope': 4909, 'stiff': 5419, 'whisk': 6491, 'slumber': 5177, 'bagpack': 424, 'heaven': 2588, 'gate': 2312, 'majest': 3322, 'energ': 1826, 'treatment': 5880, 'pedicur': 4109, 'pride': 4342, 'unlimit': 6099, 'priviledg': 4357, 'penalti': 4117, 'oil': 3904, 'splurg': 5329, 'souvenir': 5286, 'houston': 2704, 'sleepi': 5154, 'sushi': 5577, 'tend': 5685, 'test': 5704, 'accord': 34, 'wink': 6517, 'mturkfirst': 3619, 'remember': 4621, 'dream': 1679, 'mturkthank': 3665, 'mturkstay': 3660, 'fingertip': 2097, 'detatch': 1486, 'complement': 1095, 'demeanor': 1448, 'messag': 3437, 'therapi': 5723, 'session': 4983, 'swam': 5584, 'enliven': 1837, 'bite': 574, 'lb': 3124, 'softwar': 5242, 'mturkeleg': 3611, 'fix': 2114, 'prioriti': 4352, 'restroom': 4691, 'anybodi': 235, 'glamor': 2360, 'overindulg': 4000, 'riversid': 4746, 'display': 1580, 'mturkhomewood': 3630, 'lifeltim': 3181, 'nomin': 3814, 'pocess': 4238, 'astonish': 335, 'packer': 4026, 'discov': 1561, 'establish': 1888, 'fulli': 2269, 'stove': 5443, 'blow': 611, 'extravag': 1979, 'juici': 3010, 'mturkupon': 3671, 'dishwash': 1572, 'calori': 789, 'omelett': 3920, 'mturkwhat': 3675, 'heavenli': 2589, 'il': 2758, 'stood': 5434, 'whim': 6486, 'neatli': 3742, 'satisf': 4862, 'mturkdowntown': 3609, 'multitud': 3694, 'youv': 6608, 'ordinari': 3953, 'divers': 1610, 'utmost': 6189, 'observ': 3869, 'million': 3489, 'mturkeveryth': 3612, 'swiss': 5605, 'flare': 2121, 'lifetim': 3182, 'rendezv': 4633, 'josh': 3000, 'ooz': 3930, 'billi': 563, 'exhaust': 1945, 'san': 4846, 'francisco': 2220, 'jog': 2991, 'util': 6186, 'craig': 1266, 'upholst': 6154, 'counter': 1237, 'judg': 3006, 'interact': 2899, 'mturkit': 3637, 'human': 2719, 'reluct': 4613, 'deni': 1452, 'mturkbeauti': 3600, 'unfamiliar': 6068, 'ashley': 314, 'newbi': 3772, 'and': 203, 'mturkto': 3669, 'jami': 2968, 'rethink': 4699, 'clear': 997, 'kindli': 3038, 'meticul': 3444, 'orderli': 3952, 'magic': 3306, 'pace': 4022, 'exot': 1951, 'tickl': 5778, 'bud': 722, 'mturkveri': 3672, 'spree': 5344, 'discrimin': 1563, 'refin': 4573, 'strategi': 5452, 'perspect': 4150, 'crib': 1289, 'infant': 2848, 'ricketi': 4725, 'nine': 3802, 'geneva': 2326, 'manner': 3341, 'fake': 2008, 'forc': 2177, 'speak': 5304, 'stole': 5429, 'nowher': 3849, 'equipt': 1869, 'mturkhom': 3629, 'deliou': 1442, 'surprisingli': 5572, 'deserv': 1471, 'render': 4632, 'fillet': 2079, 'mignon': 3473, 'honest': 2663, 'cranki': 1270, 'hungri': 2725, 'coffer': 1045, 'sauna': 4868, 'creat': 1280, 'bobbi': 626, 'mturka': 3589, 'particip': 4069, 'crystal': 1310, 'forev': 2181, 'fulfil': 2267, 'coffeepot': 1044, 'cent': 862, 'luxoriu': 3295, 'statur': 5392, 'tool': 5820, 'backdrop': 409, 'launch': 3112, 'sanctuari': 4847, 'bonus': 635, 'alcohol': 142, 'teamwork': 5658, 'plesant': 4228, 'decorum': 1412, 'recomend': 4540, 'polici': 4249, 'linda': 3196, 'davi': 1374, 'corteou': 1223, 'healthclub': 2576, 'batteri': 476, 'remedi': 4619, 'climat': 1008, 'emphas': 1809, 'environment': 1862, 'present': 4318, 'accur': 40, 'paranoid': 4055, 'germ': 2333, 'sleeep': 5150, 'skimpi': 5131, 'mturkamaz': 3596, 'bay': 478, 'regal': 4587, 'calib': 782, 'coo': 1198, 'colder': 1049, 'jacket': 2962, 'scarv': 4889, 'shrimp': 5065, 'bang': 441, 'pickiest': 4175, 'eater': 1752, 'weeknd': 6455, 'funni': 2276, 'talbot': 5633, 'pedal': 4105, 'honey': 2666, 'moon': 3567, 'talent': 5635, 'artist': 308, 'singer': 5108, 'dancer': 1358, 'actor': 55, 'janic': 2970, 'emacul': 1795, 'mturkwhil': 3679, 'obligatori': 3867, 'obviou': 3873, 'schmaltzi': 4902, 'clich': 1003, 'itun': 2959, 'download': 1655, 'jack': 2961, 'daniel': 1362, 'mturkaft': 3592, 'organ': 3954, 'defiantli': 1422, 'roomkeep': 4783, 'extememli': 1968, 'chichi': 930, 'teacup': 5656, 'chihuahua': 935, 'amabassador': 172, 'waiver': 6291, 'convient': 1196, 'drool': 1693, 'sooner': 5267, 'mturkfriendli': 3621, 'seren': 4976, 'hustl': 2731, 'conduc': 1133, 'posh': 4276, 'flash': 2122, 'angl': 210, 'cap': 808, 'rex': 4719, 'learnt': 3136, 'orient': 3956, 'gonna': 2392, 'length': 3155, 'mturkfor': 3620, 'referr': 4570, 'spacey': 5291, 'intellig': 2894, 'majesti': 3323, 'marvel': 3374, 'pointer': 4242, 'jaw': 2975, 'unwind': 6145, 'muffl': 3688, 'snippi': 5213, 'travl': 5875, 'partner': 4074, 'easier': 1743, 'beagl': 480, 'betsi': 546, 'jet': 2982, 'ownership': 4020, 'playlist': 4219, 'guidebook': 2487, 'bet': 545, 'guitar': 2491, 'jam': 2966, 'shirt': 5033, 'mturkhow': 3632, 'kennel': 3025, 'doggi': 1623, 'higli': 2630, 'afraid': 107, 'navig': 3735, 'strang': 5449, 'cinch': 971, 'hello': 2603, 'hbo': 2566, 'wooden': 6545, 'modem': 3538, 'workstat': 6555, 'mturkalthough': 3593, 'god': 2383, 'send': 4962, 'flexibl': 2133, 'mturko': 3647, 'variou': 6215, 'suckish': 5516, 'evan': 1898, 'mold': 3548, 'sandwhich': 4849, 'gross': 2465, 'sick': 5075, 'ohh': 3901, 'evr': 1916, 'ann': 216, 'bridemaid': 686, 'romanc': 4776, 'petal': 4154, 'scatter': 4891, 'basebal': 462, 'arizona': 288, 'vega': 6219, 'roughli': 4793, 'mturkat': 3598, 'ritzi': 4743, 'transcend': 5863, 'embrac': 1803, 'rockabl': 4764, 'recoup': 4548, 'rockin': 4769, 'emphasi': 1810, 'introduc': 2923, 'flawlessli': 2129, 'consult': 1168, 'credenti': 1282, 'dovetail': 1650, 'guilt': 2488, 'mundan': 3698, 'sofi': 5235, 'shall': 5004, 'gradi': 2417, 'mturkpleas': 3653, 'linnen': 3202, 'bedbug': 495, 'solac': 5245, 'invot': 2934, 'rooom': 4785, 'mturkset': 3657, 'paul': 4094, 'reed': 4567, 'smith': 5191, 'panic': 4048, 'hrh': 2709, 'birdland': 566, 'rous': 4795, 'success': 5513, 'gripe': 2457, 'mario': 3359, 'insignific': 2874, 'cell': 859, 'audio': 365, 'environ': 1861, 'seal': 4935, 'commit': 1073, 'mturkhard': 3625, 'trait': 5859, 'amus': 199, 'stoke': 5428, 'spaffina': 5294, 'stash': 5386, 'earn': 1737, 'wonderbar': 6540, 'belief': 519, 'postit': 4284, 'iphon': 2939, 'forti': 2198, 'mturkexcel': 3614, 'ocean': 3883, 'spoken': 5332, 'wee': 6450, 'drift': 1688, 'philli': 4160, 'mari': 3353, 'mturkther': 3666, 'lite': 3212, 'scenari': 4892, 'ballet': 434, 'dj': 1615, 'camera': 792, 'german': 2334, 'pardon': 4058, 'pun': 4430, 'plastic': 4213, 'lamin': 3084, 'stain': 5363, 'chew': 923, 'liberti': 3173, 'profil': 4378, 'selct': 4955, 'proudli': 4409, 'atop': 346, 'domain': 1627, 'drag': 1667, 'cupcak': 1323, 'dresser': 1684, 'track': 5850, 'namast': 3721, 'urg': 6171, 'inspect': 2879, 'invis': 2929, 'vanilla': 6209, 'walru': 6303, 'girlish': 2354, 'restraunt': 4690, 'caribbean': 823, 'hmm': 2648, 'belov': 528, 'tzu': 6003, 'groom': 2462, 'daycar': 1378, 'strive': 5470, 'knotch': 3059, 'scale': 4878, 'fiance': 2064, 'cabl': 774, 'signal': 5087, 'experinc': 1959, 'coordin': 1205, 'rehears': 4600, 'groomsman': 2463, 'church': 965, 'banquet': 446, 'emphat': 1811, 'innov': 2868, 'smartli': 5184, 'adventur': 87, 'resourc': 4675, 'bicycl': 556, 'gentli': 2330, 'balanc': 429, 'chariti': 898, 'merit': 3434, 'centric': 866, 'compil': 1091, 'revisit': 4716, 'beautiful': 487, 'definet': 1426, 'reccommend': 4526, 'contrast': 1184, 'dismal': 1577, 'astound': 336, 'mturkcouldn': 3604, 'cuisin': 1318, 'stuf': 5486, 'de': 1383, 'architect': 277, 'array': 299, 'persuas': 4151, 'stair': 5365, 'meld': 3414, 'techniqu': 5663, 'mturkdo': 3607, 'mingl': 3496, 'locaat': 3228, 'fin': 2084, 'haha': 2507, 'kimptonkid': 3035, 'numer': 3855, 'adler': 73, 'hold': 2652, 'elit': 1789, 'veggi': 6222, 'vegetarian': 6221, 'version': 6239, 'midnight': 3465, 'overwhelm': 4015, 'casual': 840, 'yearli': 6588, 'repeat': 4643, 'frank': 2221, 'entic': 1849, 'pajama': 4035, 'focu': 2161, 'forgotten': 2189, 'mturkjust': 3639, 'jbar': 2978, 'mturksofitel': 3659, 'peir': 4115, 'contemperari': 1172, 'tourest': 5836, 'diesighn': 1512, 'arcitechusal': 279, 'legaci': 3148, 'champan': 887, 'cotail': 1229, 'mturkour': 3650, 'slip': 5167, 'scratchi': 4920, 'wide': 6498, 'durat': 1723, 'dug': 1712, 'nickel': 3785, 'freebi': 2229, 'streamlin': 5457, 'loft': 3236, 'entor': 1853, 'skeptic': 5126, 'beuti': 548, 'accessori': 23, 'mturkhotel': 3631, 'bloom': 607, 'seer': 4953, 'foreign': 2180, 'languag': 3090, 'unrelax': 6120, 'packet': 4027, 'instant': 2883, 'willingli': 6509, 'interrupt': 2914, 'chicken': 931, 'wellington': 6462, 'moist': 3546, 'crust': 1308, 'flaki': 2120, 'crispi': 1293, 'pakistani': 4036, 'mimosa': 3491, 'picturesqu': 4178, 'heartedli': 2584, 'sadli': 4829, 'recov': 4549, 'luxori': 3294, 'height': 2598, 'tall': 5638, 'becuas': 492, 'channel': 891, 'shoeshin': 5040, 'vaca': 6193, 'thouroughli': 5751, 'definatli': 1425, 'louisvil': 3264, 'ky': 3066, 'mturkyou': 3683, 'satay': 4860, 'admiss': 75, 'earliest': 1736, 'beforehand': 507, 'lapdog': 3092, 'excllent': 1935, 'couldnt': 1235, 'acces': 21, 'fish': 2106, 'fishbowl': 2107, 'acquir': 50, 'necess': 3743, 'asha': 312, 'lengthi': 3156, 'lush': 3290, 'mturkbest': 3601, 'savvi': 4872, 'account': 37, 'intend': 2895, 'mturklast': 3640, 'broadcast': 700, 'ford': 2178, 'willi': 6507, 'countless': 1240, 'conclus': 1122, 'wander': 6306, 'uber': 6004, 'exud': 1984, 'your': 6606, 'sampl': 4844, 'anyplac': 239, 'mturklet': 3641, 'prefac': 4304, 'ventur': 6232, 'dust': 1724, 'corn': 1215, 'replic': 4649, 'sad': 4827, 'luxiri': 3293, 'campu': 795, 'furthermor': 2284, 'myriad': 3714, 'dial': 1500, 'mturkon': 3649, 'specialti': 5309, 'lover': 3268, 'earth': 1739, 'fight': 2071, 'pois': 4244, 'whenver': 6480, 'undwind': 6062, 'niketown': 3800, 'watertow': 6332, 'capabl': 809, 'confid': 1137, 'lavish': 3116, 'bake': 427, 'underst': 6049, 'minimalist': 3500, 'indulg': 2839, 'eucalyptu': 1895, 'pedi': 4108, 'priciest': 4341, 'manicur': 3340, 'finer': 2092, 'thingsthi': 5737, 'mturkamalfi': 3594, 'opera': 3933, 'hottest': 2696, 'eclect': 1756, 'napervil': 3724, 'commut': 1077, 'mirror': 3512, 'wiener': 6500, 'schnitzel': 4903, 'scrumptiou': 4927, 'lava': 3115, 'exhilar': 1947, 'refug': 4579, 'abund': 15, 'diner': 1530, 'unfinish': 6069, 'hidden': 2618, 'nestl': 3765, 'scrape': 4917, 'steel': 5401, 'epicent': 1864, 'romanesqu': 4777, 'arch': 276, 'mahogani': 3311, 'lace': 3070, 'harden': 2543, 'retreat': 4701, 'count': 1236, 'egyptian': 1767, 'multi': 3691, 'mturkdur': 3610, 'proceed': 4369, 'infam': 2847, 'unpack': 6109, 'nevertheless': 3770, 'seven': 4989, 'entri': 1857, 'someplac': 5257, 'keefer': 3020, 'certif': 874, 'rocket': 4767, 'marley': 3364, 'tang': 5640, 'checklist': 910, 'shown': 5060, 'cofe': 1040, 'addict': 62, 'caffein': 779, 'buis': 733, 'elabor': 1773, 'shot': 5051, 'wallstreet': 6301, 'johnni': 2993, 'amentit': 187, 'id': 2746, 'inter': 2898, 'accomid': 27, 'turkey': 5984, 'pumpkin': 4429, 'curri': 1331, 'complimentartri': 1103, 'spectacularli': 5313, 'bark': 455, 'spark': 5301, 'induldg': 2838, 'facial': 1995, 'tissu': 5797, 'rid': 4726, 'hdtv': 2568, 'bat': 470, 'snooti': 5218, 'gasp': 2311, 'clue': 1024, 'herd': 2609, 'attempt': 351, 'garbag': 2308, 'dump': 1718, 'stupid': 5491, 'intercontintent': 2905, 'boss': 649, 'collect': 1054, 'behold': 517, 'cooper': 1204, 'bank': 443, 'entreway': 1856, 'th': 5708, 'lag': 3075, 'hue': 2712, 'captur': 812, 'carey': 822, 'itali': 2953, 'ramada': 4483, 'casey': 835, 'skinner': 5133, 'financ': 2088, 'seri': 4977, 'drawn': 1677, 'grander': 2424, 'elus': 1793, 'user': 6182, 'household': 2702, 'media': 3407, 'beck': 490, 'merchandis': 3429, 'mart': 3370, 'dryclean': 1702, 'commun': 1076, 'satelit': 4861, 'brail': 667, 'patnership': 4090, 'attribut': 361, 'galleri': 2299, 'scape': 4884, 'fax': 2039, 'copi': 1206, 'masseur': 3380, 'zoo': 6621, 'picnic': 4176, 'era': 1871, 'steamer': 5400, 'trunk': 5972, 'lux': 3292, 'gild': 2349, 'soar': 5228, 'topper': 5826, 'tacki': 5626, 'mturkan': 3597, 'extraordinarili': 1978, 'kitten': 3048, 'sitter': 5119, 'staircas': 5366, 'testament': 5705, 'titan': 5798, 'contempl': 1173, 'summari': 5534, 'photocopi': 4165, 'demonstr': 1451, 'profound': 4379, 'dumb': 1715, 'snag': 5201, 'christen': 958, 'susan': 5576, 'dual': 1706, 'mturkamalifa': 3595, 'hlton': 2646, 'leeri': 3144, 'mild': 3476, 'agoraphobia': 119, 'fear': 2041, 'assuag': 330, 'optim': 3941, 'journey': 3002, 'millionair': 3490, 'allevi': 151, 'downtim': 1660, 'intrus': 2926, 'conclud': 1121, 'incompar': 2812, 'descent': 1467, 'grain': 2419, 'marmalad': 3365, 'poodl': 4260, 'sterl': 5412, 'reunit': 4709, 'contribut': 1185, 'privaci': 4355, 'scarc': 4886, 'cellar': 860, 'hurri': 2727, 'retro': 4703, 'vip': 6257, 'hire': 2638, 'microfib': 3459, 'mturkextravag': 3615, 'exuber': 1983, 'intox': 2921, 'par': 4052, 'novic': 3847, 'mass': 3378, 'glut': 2378, 'drew': 1685, 'realis': 4515, 'transit': 5866, 'chicagoland': 929, 'prohibit': 4382, 'sting': 5423, 'automobil': 377, 'toll': 5812, 'auto': 374, 'focal': 2160, 'unsurpass': 6134, 'intern': 2912, 'transact': 5862, 'currenc': 1329, 'draw': 1674, 'exchang': 1932, 'knot': 3058, 'chore': 953, 'relief': 4609, 'comprehens': 1104, 'shoulder': 5052, 'newcom': 3773, 'pricetag': 4337, 'margin': 3352, 'competit': 1090, 'gymnasium': 2500, 'imt': 2791, 'swept': 5597, 'precis': 4302, 'borrow': 647, 'webbook': 6361, 'nye': 3860, 'smallest': 5182, 'springi': 5346, 'audibl': 364, 'pitch': 4197, 'hum': 2718, 'unplug': 6113, 'inconsist': 2816, 'webi': 6386, 'disrupt': 1587, 'unaccept': 6019, 'argu': 284, 'belong': 527, 'hullabaloo': 2717, 'apolog': 250, 'webthi': 6427, 'nightclub': 3793, 'thier': 5732, 'harddriv': 2542, 'hvac': 2733, 'broken': 704, 'blaze': 590, 'miser': 3513, 'engin': 1829, 'determin': 1491, 'reciept': 4533, 'wednesday': 6449, 'furiou': 2279, 'wipe': 6520, 'webmi': 6397, 'scum': 4930, 'webthey': 6426, 'file': 2075, 'curs': 1332, 'mainten': 3320, 'piddl': 4179, 'worst': 6560, 'rocki': 4768, 'un': 6017, 'debit': 1395, 'incident': 2807, 'fund': 2273, 'blame': 583, 'recess': 4532, 'accoutr': 38, 'label': 3068, 'ml': 3531, 'tray': 5876, 'snicker': 5209, 'result': 4695, 'webcomplet': 6364, 'constantli': 1165, 'emit': 1806, 'hiss': 2639, 'sooo': 5268, 'wayyy': 6341, 'buri': 747, 'awak': 391, 'boil': 629, 'grrrrreat': 2473, 'scald': 4877, 'disgust': 1568, 'flood': 2145, 'fingernail': 2095, 'webth': 6424, 'protest': 4406, 'broom': 705, 'lop': 3251, 'rotat': 4789, 'ach': 44, 'headach': 2570, 'restart': 4685, 'nonsens': 3820, 'hung': 2724, 'vastli': 6218, 'nonexist': 3819, 'passport': 4079, 'edibl': 1760, 'brag': 666, 'wildberri': 6505, 'randolph': 4488, 'western': 6469, 'weboutmod': 6408, 'downgrad': 1653, 'classiest': 987, 'upholsteri': 6155, 'fray': 2225, 'bathtub': 475, 'faucet': 2031, 'trickl': 5888, 'wors': 6559, 'sell': 4959, 'vend': 6227, 'pen': 4116, 'cubbi': 1313, 'niftyc': 3789, 'olympia': 3917, 'loudli': 3261, 'scream': 4921, 'drunk': 1699, 'webw': 6437, 'occuppi': 3881, 'insult': 2891, 'webour': 6407, 'decreas': 1413, 'appropri': 270, 'failur': 2003, 'countri': 1241, 'lesser': 3159, 'moreov': 3569, 'eh': 1768, 'legal': 3149, 'illeg': 2760, 'independ': 2828, 'infrastructur': 2855, 'towner': 5846, 'meridian': 3432, 'aspir': 322, 'tier': 5781, 'restar': 4683, 'heavier': 2591, 'puor': 4434, 'outcom': 3969, 'displeasur': 1582, 'vibrat': 6245, 'pot': 4285, 'webit': 6391, 'promin': 4387, 'condescendingli': 1126, 'bisquit': 571, 'unpleas': 6112, 'lousi': 3266, 'webno': 6402, 'sulli': 5531, 'sf': 4997, 'convention': 1189, 'outlin': 3978, 'hr': 2708, 'endur': 1824, 'ward': 6308, 'cleaver': 999, 'cuddl': 1316, 'fratern': 2223, 'plumb': 4233, 'error': 1877, 'roach': 4749, 'drawer': 1676, 'aliv': 145, 'circumst': 976, 'lie': 3177, 'fiberfil': 2065, 'frame': 2217, 'lumpi': 3283, 'incompet': 2813, 'thunder': 5772, 'shouldnt': 5053, 'nw': 3857, 'http': 2711, 're': 4506, 'outweigh': 3983, 'webgreat': 6379, 'blah': 582, 'waaaay': 6280, 'whistl': 6492, 'summon': 5537, 'screw': 4924, 'ensconc': 1842, 'reluctantli': 4614, 'child': 936, 'visibl': 6263, 'mint': 3505, 'awkward': 399, 'fourth': 2210, 'fifth': 2069, 'volum': 6271, 'sixth': 5123, 'comedi': 1065, 'inherit': 2859, 'stark': 5380, 'tear': 5659, 'vista': 6267, 'webfirst': 6372, 'warrant': 6316, 'rumpl': 4812, 'suposedli': 5557, 'holder': 2653, 'reset': 4666, 'rocco': 4762, 'bleed': 594, 'piec': 4181, 'sleepless': 5155, 'malfunct': 3330, 'unawar': 6029, 'crew': 1287, 'tomorrow': 5814, 'grandpar': 2429, 'lid': 3176, 'teen': 5666, 'fccla': 2040, 'nitght': 3806, 'upcom': 6149, 'subsequ': 5504, 'obnoxi': 3868, 'condescend': 1125, 'webfor': 6374, 'akk': 136, 'trash': 5870, 'strewn': 5463, 'farther': 2023, 'andi': 204, 'webseri': 6415, 'forgon': 2187, 'nonchalantli': 3816, 'repli': 4648, 'fork': 2190, 'delivey': 1445, 'acquaint': 49, 'candid': 801, 'recruit': 4552, 'meridien': 3433, 'sullen': 5530, 'unrespons': 6123, 'whelm': 6478, 'rambuncti': 4484, 'keeper': 3023, 'minimum': 3501, 'webwil': 6446, 'ratti': 4501, 'uninvit': 6090, 'mere': 3431, 'asap': 310, 'dull': 1714, 'soooo': 5269, 'embarrass': 1800, 'instinct': 2886, 'lesson': 3160, 'webfairmont': 6371, 'problemat': 4367, 'isol': 2951, 'straighten': 5445, 'odor': 3888, 'smoker': 5193, 'disturbingli': 1606, 'pharmaci': 4158, 'curtli': 1337, 'uhhhhh': 6009, 'gaug': 2315, 'thermostat': 5729, 'wallpap': 6300, 'peel': 4112, 'grout': 2471, 'hig': 2623, 'radient': 4472, 'circul': 975, 'prop': 4395, 'suffoc': 5523, 'nonetheless': 3818, 'mug': 3689, 'grade': 2416, 'sync': 5617, 'eventu': 1903, 'hole': 2654, 'decept': 1403, 'alter': 166, 'specialist': 5308, 'timefram': 5788, 'robert': 4759, 'supervisor': 5556, 'prepay': 4315, 'refun': 4581, 'threaten': 5756, 'agreement': 122, 'goug': 2405, 'fri': 2241, 'naan': 3717, 'webstaff': 6420, 'coupon': 1243, 'tank': 5642, 'stainless': 5364, 'valv': 6206, 'icebucket': 2743, 'fold': 2163, 'strap': 5451, 'whichwork': 6484, 'wond': 6538, 'crack': 1263, 'overhang': 3997, 'printer': 4350, 'subtl': 5508, 'keycard': 3028, 'fuse': 2285, 'blew': 598, 'luckili': 3277, 'randomli': 4490, 'literatur': 3214, 'interst': 2915, 'physic': 4170, 'webif': 6388, 'swear': 5590, 'unrefresh': 6119, 'unclean': 6037, 'inabl': 2793, 'hostess': 2691, 'greas': 2441, 'webnic': 6401, 'stinki': 5425, 'mildew': 3477, 'hurt': 2728, 'meantim': 3402, 'okay': 3909, 'principl': 4348, 'sensor': 4967, 'trigger': 5889, 'duh': 1713, 'compart': 1084, 'overcharg': 3989, 'sta': 5357, 'webthank': 6425, 'moldi': 3549, 'rerun': 4660, 'slice': 5157, 'honeydew': 2668, 'pit': 4196, 'absent': 11, 'prom': 4386, 'crummi': 1306, 'rip': 4735, 'steer': 5403, 'webdo': 6366, 'facto': 1998, 'pari': 4060, 'idiot': 2752, 'shame': 5007, 'wacker': 6281, 'dr': 1664, 'diego': 1510, 'marina': 3358, 'knife': 3054, 'corkscrew': 1214, 'vacuum': 6198, 'skirt': 5136, 'buyer': 768, 'remors': 4627, 'webnot': 6403, 'confront': 1142, 'retun': 4705, 'sanjay': 4853, 'mahajan': 3310, 'voicemail': 6270, 'webbeauti': 6359, 'pillowcas': 4185, 'properli': 4397, 'toss': 5831, 'consecut': 1155, 'weblet': 6393, 'emin': 1805, 'uncar': 6034, 'mod': 3536, 'computer': 1108, 'unwil': 6144, 'allerg': 148, 'blower': 612, 'webwel': 6440, 'huh': 2716, 'webmayb': 6396, 'ryder': 4824, 'ugli': 6007, 'dirt': 1540, 'capac': 810, 'daytim': 1380, 'raddison': 4470, 'blu': 616, 'hampon': 2521, 'lord': 3252, 'abysm': 17, 'inept': 2842, 'watress': 6334, 'upward': 6169, 'burnt': 751, 'cinnamon': 973, 'laughabl': 3111, 'spare': 5300, 'bend': 533, 'crumbl': 1305, 'headquart': 2573, 'dublin': 1708, 'hongkong': 2671, 'impolit': 2782, 'ration': 4499, 'dub': 1707, 'fawlti': 2038, 'waft': 6284, 'greasi': 2442, 'spoon': 5335, 'permeat': 4142, 'bolt': 631, 'shut': 5072, 'ventil': 6231, 'puzzl': 4448, 'tunnel': 5981, 'victim': 6248, 'bitten': 575, 'claw': 990, 'fool': 2172, 'webstay': 6421, 'slightest': 5161, 'peep': 4113, 'accomodatingli': 30, 'plea': 4221, 'demis': 1450, 'cheapli': 906, 'undoubt': 6060, 'surfac': 5567, 'repair': 4641, 'devic': 1496, 'death': 1393, 'tack': 5625, 'gratuiti': 2438, 'outrag': 3979, 'theft': 5718, 'investig': 2928, 'webund': 6432, 'gloss': 2374, 'wild': 6504, 'ident': 2749, 'invest': 2927, 'unkink': 6096, 'longingli': 3246, 'webher': 6383, 'rug': 4808, 'slipperi': 5169, 'subject': 5498, 'reportedli': 4651, 'refil': 4572, 'onsit': 3925, 'getgo': 2340, 'weba': 6350, 'spg': 5319, 'platinum': 4216, 'fuss': 2287, 'vendor': 6228, 'unaccomod': 6021, 'injuri': 2862, 'webwhil': 6445, 'aback': 2, 'toni': 5817, 'introduct': 2924, 'snotti': 5221, 'tarp': 5646, 'unwelcom': 6143, 'bland': 584, 'pluse': 4234, 'webthre': 6428, 'bleak': 593, 'grumpi': 2476, 'maintan': 3319, 'complic': 1099, 'page': 4029, 'refund': 4582, 'declin': 1409, 'webjust': 6392, 'pour': 4291, 'protestor': 4407, 'redo': 4562, 'webid': 6387, 'grief': 2452, 'utilitarian': 6188, 'defici': 1423, 'webswiss': 6422, 'respit': 4677, 'stale': 5368, 'wrap': 6570, 'till': 5785, 'accordingli': 35, 'fiji': 2074, 'summat': 5535, 'crumb': 1304, 'theoret': 5721, 'imprecis': 2787, 'corral': 1219, 'compressor': 1105, 'postal': 4282, 'concentr': 1114, 'que': 4453, 'stage': 5362, 'abut': 16, 'shaft': 5002, 'narrow': 3726, 'entre': 1855, 'cri': 1288, 'webgener': 6376, 'upload': 6157, 'ruin': 4809, 'debacl': 1394, 'lisa': 3208, 'embassi': 1801, 'webswissotel': 6423, 'yawn': 6584, 'ppl': 4295, 'cram': 1267, 'sooooo': 5270, 'sigh': 5081, 'swap': 5587, 'occupi': 3880, 'occup': 3879, 'latch': 3103, 'leakag': 3132, 'karma': 3019, 'itchi': 2956, 'patch': 4084, 'webveri': 6435, 'feed': 2049, 'meter': 3442, 'weekday': 6452, 'restock': 4687, 'overbook': 3988, 'reloc': 4612, 'understaf': 6050, 'consol': 1163, 'webneg': 6400, 'inexperienc': 2845, 'similarli': 5099, 'represent': 4653, 'saff': 4832, 'exterem': 1972, 'nonsmok': 3821, 'ancient': 202, 'temperment': 5679, 'makeov': 3326, 'espcial': 1882, 'decidedli': 1405, 'rail': 4476, 'rusti': 4821, 'frustratingli': 2263, 'deleg': 1436, 'imbarrass': 2767, 'hasnt': 2554, 'webeven': 6369, 'insuffici': 2889, 'yellowi': 6591, 'bedsheet': 499, 'trap': 5869, 'loobi': 3247, 'smelli': 5188, 'intercontinet': 2904, 'webupon': 6433, 'webloc': 6394, 'itch': 2955, 'hell': 2602, 'underli': 6047, 'filet': 2077, 'crab': 1261, 'tenderest': 5687, 'cow': 1256, 'blase': 587, 'substitut': 5507, 'washer': 6319, 'disinfect': 1573, 'itchin': 2957, 'contrari': 1183, 'necessarili': 3745, 'excercis': 1929, 'corridor': 1222, 'webwa': 6438, 'publish': 4421, 'dummi': 1717, 'gal': 2297, 'shrug': 5068, 'somebodi': 5253, 'aval': 381, 'sweatshirt': 5594, 'bagl': 423, 'wernt': 6467, 'pointless': 4243, 'english': 1831, 'wash': 6317, 'disabl': 1543, 'chao': 892, 'begun': 514, 'yup': 6616, 'grown': 2472, 'hw': 2734, 'chapter': 895, 'disagr': 1544, 'riverfront': 4745, 'nightmar': 3796, 'quot': 4467, 'statement': 5388, 'liar': 3171, 'appeas': 257, 'unconcern': 6040, 'inappropri': 2797, 'flown': 2154, 'disput': 1584, 'percentag': 4131, 'reak': 4512, 'unsur': 6133, 'jade': 2965, 'seedi': 4948, 'dumpi': 1719, 'foul': 2204, 'liver': 3219, 'cafeteria': 778, 'palat': 4038, 'liner': 3199, 'float': 2143, 'ontop': 3927, 'probali': 4365, 'smokey': 5194, 'couldin': 1234, 'diffrer': 1518, 'webwow': 6447, 'ponderosa': 4258, 'unsolicit': 6131, 'dramat': 1670, 'bail': 425, 'breaker': 674, 'lame': 3083, 'tangl': 5641, 'scratch': 4919, 'crawl': 1277, 'bedhead': 496, 'rice': 4722, 'scurri': 4931, 'insect': 2871, 'protector': 4404, 'hygein': 2736, 'webtwo': 6431, 'excess': 1930, 'queue': 4457, 'unreason': 6117, 'du': 1705, 'inlcud': 2865, 'cleanline': 996, 'dire': 1535, 'upgread': 6153, 'badli': 418, 'squees': 5353, 'upsid': 6164, 'torso': 5829, 'behavior': 515, 'unannounc': 6022, 'flippant': 2140, 'intent': 2897, 'prudent': 4415, 'restraint': 4689, 'inadvert': 2795, 'annex': 217, 'curt': 1333, 'sean': 4936, 'dictat': 1506, 'honesti': 2664, 'pretend': 4326, 'aros': 293, 'gang': 2303, 'relat': 4604, 'shoot': 5043, 'enlist': 1836, 'measur': 3404, 'dare': 1365, 'regimen': 4591, 'seriou': 4978, 'revamp': 4710, 'webaft': 6351, 'grungi': 2477, 'suspici': 5579, 'ewww': 1918, 'unceremoni': 6035, 'suck': 5515, 'dusti': 1725, 'notori': 3844, 'makeshift': 3328, 'influx': 2852, 'network': 3767, 'bogu': 628, 'webrud': 6414, 'highway': 2629, 'cellphon': 861, 'storm': 5442, 'risk': 4740, 'webfrom': 6375, 'poorli': 4265, 'grew': 2450, 'necessit': 3746, 'burnham': 750, 'yahoo': 6581, 'webfirtli': 6373, 'sep': 4971, 'secondli': 4943, 'refus': 4585, 'thirdli': 5740, 'weak': 6342, 'pound': 4290, 'hampton': 2522, 'own': 4018, 'joke': 2997, 'trim': 5890, 'hideou': 2621, 'overhaul': 3998, 'asham': 313, 'boomer': 640, 'sympathi': 5615, 'webtruli': 6430, 'tatter': 5652, 'webwarn': 6439, 'poison': 4245, 'absolutli': 13, 'dizzi': 1614, 'hade': 2502, 'noodl': 3822, 'sauc': 4867, 'becau': 489, 'weboveral': 6410, 'parent': 4059, 'disagre': 1545, 'depress': 1464, 'neighbourhood': 3757, 'canada': 797, 'thd': 5712, 'bookit': 637, 'courtney': 1251, 'erica': 1875, 'callex': 786, 'recal': 4524, 'heresay': 2610, 'thr': 5752, 'writt': 6575, 'unprofession': 6114, 'webov': 6409, 'bangkok': 442, 'prepaid': 4313, 'slam': 5145, 'noisili': 3813, 'mercuri': 3430, 'link': 3201, 'folio': 2164, 'musti': 3709, 'linger': 3200, 'shortcom': 5049, 'chat': 902, 'uninterest': 6088, 'weekli': 6454, 'camper': 794, 'funer': 2274, 'polic': 4248, 'gm': 2380, 'dosen': 1642, 'webal': 6352, 'experieinc': 1957, 'discourag': 1560, 'webbefor': 6360, 'balmi': 436, 'humid': 2721, 'somon': 5262, 'suddenli': 5518, 'lacklust': 3073, 'adjust': 72, 'hike': 2631, 'underw': 6054, 'inclin': 2809, 'jr': 3004, 'resembl': 4663, 'aother': 246, 'groupon': 2470, 'distub': 1604, 'immediatli': 2771, 'hid': 2617, 'fronk': 2255, 'acn': 47, 'dirtyy': 1542, 'reputatuion': 4657, 'unfortunitli': 6074, 'disspoint': 1594, 'oir': 3906, 'surgeri': 5568, 'pollut': 4254, 'blind': 599, 'northwestern': 3831, 'neither': 3760, 'wit': 6526, 'donna': 1631, 'aloof': 161, 'petti': 4155, 'remaind': 4617, 'bye': 770, 'phoni': 4163, 'uppiti': 6161, 'convey': 1192, 'obtus': 3872, 'statist': 5391, 'outlier': 3977, 'handedli': 2526, 'webm': 6395, 'cue': 1317, 'sup': 5548, 'wtf': 6579, 'fuck': 2265, 'overflow': 3996, 'unsanitari': 6125, 'darker': 1368, 'softer': 5239, 'payment': 4098, 'recompens': 4543, 'scari': 4888, 'scaffold': 4876, 'orlando': 3958, 'ticki': 5777, 'muggi': 3690, 'sweati': 5593, 'overbear': 3986, 'mosr': 3573, 'remov': 4629, 'prob': 4363, 'styx': 5495, 'slap': 5147, 'emblem': 1802, 'kicker': 3031, 'pina': 4189, 'colada': 1047, 'blender': 597, 'whaat': 6473, 'jimmi': 2986, 'webavoid': 6358, 'law': 3117, 'persist': 4147, 'distinguish': 1600, 'asthmat': 334, 'indign': 2834, 'prolong': 4385, 'atm': 344, 'frozen': 2258, 'unathor': 6026, 'overus': 4014, 'ubtil': 6005, 'rectifi': 4553, 'fraud': 2224, 'aggregi': 115, 'mistaken': 3525, 'insinu': 2876, 'voic': 6269, 'mangement': 3336, 'fortuneatli': 2201, 'webat': 6356, 'spill': 5322, 'gino': 2351, 'tornado': 5828, 'hardest': 2545, 'hotlin': 2695, 'arrog': 302, 'unfriendli': 6075, 'irena': 2943, 'robot': 4761, 'blank': 585, 'gaze': 2318, 'chilli': 939, 'perri': 4146, 'sociabl': 5229, 'rollaway': 4774, 'frabreez': 2214, 'locaiton': 3229, 'vow': 6276, 'unproven': 6116, 'glow': 2377, 'revers': 4713, 'margarita': 3351, 'wan': 6304, 'pregnant': 4308, 'webapart': 6354, 'surcharg': 5565, 'alley': 152, 'dumpster': 1720, 'rat': 4496, 'scamper': 4880, 'grate': 2434, 'ugh': 6006, 'coz': 1258, 'rockerfel': 4766, 'constitut': 1166, 'justifi': 3018, 'minuet': 3507, 'webroom': 6413, 'mistakingli': 3527, 'shake': 5003, 'roast': 4756, 'beef': 503, 'until': 6139, 'disregard': 1585, 'webwent': 6441, 'patrick': 4091, 'basi': 465, 'wrinkl': 6573, 'sub': 5496, 'raffel': 4475, 'raiser': 4482, 'shout': 5054, 'profan': 4375, 'managemnet': 3334, 'ridicoulu': 4728, 'thenightstand': 5720, 'qualifi': 4450, 'poorest': 4264, 'mildewi': 3478, 'repuls': 4655, 'necessari': 3744, 'vinegar': 6254, 'dissip': 1593, 'transform': 5865, 'technic': 5661, 'disingenu': 1574, 'snarki': 5204, 'rumbl': 4811, 'perman': 4141, 'browni': 709, 'prison': 4353, 'platform': 4215, 'clunk': 1027, 'makeup': 3329, 'beg': 508, 'beggar': 511, 'saddest': 4828, 'grandkid': 2426, 'curb': 1324, 'unfortunatli': 6073, 'wealthiest': 6345, 'daylight': 1379, 'webhi': 6384, 'ho': 2649, 'skinni': 5134, 'cece': 855, 'devil': 1497, 'wisconsin': 6523, 'carbon': 817, 'carbid': 816, 'protein': 4405, 'pistachio': 4195, 'shell': 5023, 'purplish': 4441, 'princ': 4346, 'bob': 625, 'fuzzi': 2291, 'bunni': 744, 'benjamin': 538, 'frienli': 2248, 'nastili': 3730, 'winner': 6518, 'soo': 5265, 'spite': 5324, 'nab': 3718, 'hayse': 2564, 'holi': 2655, 'crap': 1272, 'chintzi': 944, 'pest': 4152, 'artifici': 307, 'edg': 1759, 'dreari': 1681, 'swirl': 5604, 'grossli': 2466, 'obes': 3866, 'lean': 3134, 'heighth': 2599, 'scoot': 4908, 'swung': 5610, 'horrif': 2685, 'streetsid': 5459, 'ware': 6310, 'lol': 3240, 'curbsid': 1325, 'grindingli': 2456, 'faster': 2028, 'leafi': 3129, 'affluent': 102, 'equival': 1870, 'townhous': 5847, 'monstros': 3562, 'condominium': 1132, 'gap': 2305, 'banana': 439, 'republ': 4654, 'mainstream': 3316, 'herm': 2611, 'cherri': 919, 'distinct': 1598, 'gravit': 2439, 'sqft': 5349, 'task': 5648, 'strut': 5479, 'herv': 2613, 'louboutin': 3259, 'sunlight': 5546, 'widest': 6499, 'thereof': 5727, 'peev': 4114, 'rule': 4810, 'globetrot': 2369, 'overcook': 3992, 'lukewarm': 3282, 'melt': 3416, 'blt': 615, 'customari': 1341, 'invoic': 2931, 'involuntari': 2932, 'chip': 945, 'lightli': 3187, 'stomp': 5431, 'unrecogniz': 6118, 'pathet': 4086, 'defiant': 1421, 'sop': 5272, 'orgin': 3955, 'doorway': 1640, 'claustrophob': 989, 'thorugh': 5747, 'websight': 6416, 'attractiion': 360, 'drywal': 1704, 'booklet': 638, 'england': 1830, 'fade': 2001, 'appal': 253, 'foyer': 2213, 'webha': 6380, 'downhil': 1654, 'dean': 1390, 'martin': 3372, 'elimin': 1787, 'anyt': 240, 'glori': 2371, 'robberi': 4757, 'ow': 4017, 'rep': 4640, 'smug': 5199, 'associati': 328, 'unfair': 6067, 'shambl': 5006, 'uninform': 6086, 'nevermind': 3769, 'absenc': 10, 'glanc': 2362, 'rri': 4802, 'insincer': 2875, 'inner': 2867, 'supris': 5564, 'gust': 2496, 'groud': 2467, 'blck': 591, 'slab': 5144, 'desh': 1472, 'fride': 2243, 'hammer': 2520, 'shore': 5046, 'notifi': 3843, 'thechicagocrit': 5716, 'net': 3766, 'shit': 5034, 'clair': 980, 'sill': 5094, 'phobia': 4161, 'lone': 3243, 'stretch': 5462, 'cosmet': 1225, 'electr': 1776, 'span': 5297, 'grind': 2455, 'redbul': 4556, 'cig': 967, 'dna': 1616, 'gag': 2295, 'shocker': 5036, 'random': 4489, 'hing': 2636, 'peanut': 4103, 'walki': 6296, 'talki': 5637, 'megaphon': 3413, 'exclud': 1936, 'sarcast': 4855, 'rust': 4820, 'dent': 1453, 'tortur': 5830, 'gulli': 2492, 'webani': 6353, 'loyal': 3271, 'deterior': 1490, 'skyrocket': 5142, 'spit': 5323, 'drench': 1682, 'unapologet': 6023, 'mysteri': 3716, 'marilyn': 3356, 'manson': 3343, 'portrait': 4274, 'halfway': 2515, 'unsuspect': 6135, 'monitor': 3559, 'renam': 4631, 'dimli': 1525, 'whoever': 6494, 'nigh': 3790, 'shelv': 5024, 'mount': 3581, 'uninspir': 6087, 'scuf': 4928, 'bow': 661, 'loos': 3250, 'reader': 4510, 'admonish': 78, 'easygo': 1749, 'app': 252, 'crank': 1269, 'puddl': 4423, 'areadi': 281, 'gape': 2306, 'maul': 3391, 'earthworm': 1740, 'slum': 5176, 'isnt': 2950, 'outright': 3980, 'extraordinari': 1977, 'webhav': 6382, 'simmon': 5100, 'buzz': 769, 'engulf': 1832, 'yield': 6597, 'unpaint': 6110, 'floorboard': 2147, 'banner': 445, 'embarass': 1798, 'feedback': 2050, 'fixabl': 2115, 'ben': 530, 'african': 108, 'slim': 5164, 'radiat': 4471, 'hostil': 2692, 'utter': 6190, 'disdain': 1565, 'sore': 5274, 'burden': 745, 'bummer': 738, 'slowli': 5175, 'categori': 844, 'snobbish': 5216, 'inexcus': 2843, 'brim': 696, 'budg': 725, 'ian': 2740, 'schrager': 4905, 'cane': 803, 'cast': 838, 'struggl': 5478, 'scant': 4883, 'ikea': 2757, 'closeout': 1015, 'challeng': 883, 'elderli': 1774, 'demi': 1449, 'ottoman': 3966, 'medicin': 3409, 'razor': 4505, 'shave': 5014, 'sh': 4998, 'unmet': 6105, 'unus': 6141, 'downpour': 1656, 'tempt': 5682, 'commerci': 1072, 'ga': 2293, 'temporari': 5681, 'thermo': 5728, 'repeatedli': 4644, 'amateur': 175, 'altogeth': 170, 'plagu': 4204, 'mental': 3425, 'asylum': 337, 'colleen': 1055, 'argument': 285, 'miserli': 3514, 'cavali': 850, 'disbelief': 1553, 'sticki': 5417, 'boombox': 639, 'steven': 5414, 'tyler': 6000, 'drafti': 1666, 'horrend': 2682, 'tripstarr': 5960, 'grandmoth': 2428, 'attic': 355, 'closest': 1017, 'hundr': 2723, 'webin': 6390, 'indespir': 2831, 'ahould': 125, 'chicqgo': 932, 'webwhen': 6443, 'craptast': 1274, 'buttnak': 765, 'dribbl': 1687, 'rustic': 4822, 'gotta': 2403, 'webmov': 6399, 'unbear': 6030, 'thrown': 5766, 'soundproof': 5280, 'reli': 4607, 'freuent': 2240, 'renown': 4636, 'torn': 5827, 'refiger': 4571, 'sideay': 5078, 'armoir': 291, 'untru': 6140, 'availabl': 380, 'hardrock': 2547, 'syat': 5611, 'subtract': 5509, 'approxim': 272, 'al': 137, 'gracious': 2415, 'hitman': 2644, 'unresolv': 6122, 'webgo': 6377, 'retail': 4696, 'snipe': 5211, 'albiet': 141, 'oldi': 3913, 'hype': 2737, 'yelp': 6592, 'sp': 5288, 'locker': 3233, 'horn': 2681, 'bench': 532, 'watt': 6335, 'recod': 4537, 'succeed': 5512, 'steam': 5399, 'diamet': 1502, 'wakeup': 6293, 'triathlon': 5885, 'mop': 3568, 'pennisula': 4123, 'disappoit': 1551, 'adventist': 86, 'aforement': 106, 'target': 5644, 'deskperson': 1478, 'unidentifi': 6082, 'gender': 2323, 'webexcel': 6370, 'scrub': 4925, 'sugar': 5524, 'infront': 2857, 'vertic': 6240, 'eb': 1753, 'chestnut': 922, 'hail': 2508, 'accost': 36, 'jerk': 2980, 'permiss': 4143, 'seek': 4949, 'viva': 6268, 'doesnt': 1621, 'parlor': 4064, 'webattend': 6357, 'youth': 6607, 'cockroach': 1036, 'caution': 849, 'edit': 1761, 'revis': 4715, 'huf': 2713, 'disconnect': 1558, 'guard': 2479, 'receipt': 4527, 'irrit': 2947, 'athlet': 340, 'lane': 3089, 'consign': 1160, 'stirrer': 5426, 'rundown': 4814, 'slight': 5160, 'neglect': 3752, 'formalwear': 2193, 'sutton': 5581, 'alleyway': 153, 'piss': 4194, 'prevent': 4330, 'shoddi': 5037, 'fist': 2109, 'expos': 1965, 'rack': 4468, 'adher': 67, 'matthew': 3389, 'caravan': 814, 'enthusiast': 1848, 'hairi': 2513, 'lettuc': 3165, 'leaf': 3128, 'hostag': 2690, 'submerg': 5500, 'thigh': 5734, 'dexter': 1499, 'inexplic': 2846, 'franc': 2219, 'hide': 2619, 'carlton': 824, 'teeni': 5668, 'overr': 4006, 'explicitli': 1963, 'inattent': 2798, 'blowout': 614, 'stringer': 5467, 'inhospit': 2860, 'cleverli': 1002, 'vintag': 6255, 'loui': 3262, 'vuitton': 6278, 'hm': 2647, 'rub': 4803, 'down': 1651, 'silk': 5093, 'durabl': 1722, 'yuck': 6610, 'scenario': 4893, 'ash': 311, 'spontan': 5334, 'combust': 1063, 'mia': 3450, 'proper': 4396, 'stink': 5424, 'ledg': 3143, 'distraught': 1602, 'ditto': 1608, 'fatten': 2030, 'meager': 3397, 'unseemli': 6129, 'tube': 5977, 'mainteni': 3321, 'motor': 3579, 'lexu': 3168, 'smash': 5185, 'stroller': 5472, 'portabl': 4270, 'helicopt': 2601, 'hoover': 2675, 'unsympathet': 6136, 'glee': 2366, 'parit': 4061, 'relationship': 4605, 'reufund': 4707, 'webdidn': 6365, 'squeez': 5354, 'pile': 4183, 'unsatisfactori': 6126, 'nextspr': 3780, 'stifl': 5420, 'cooler': 1202, 'riducul': 4730, 'moron': 3572, 'lazi': 3123, 'phantom': 4157, 'dest': 1482, 'pompu': 4257, 'spaiggia': 5295, 'exclaim': 1934, 'tenni': 5688, 'defect': 1419, 'rational': 4500, 'discomfort': 1557, 'cigarett': 969, 'dorm': 1641, 'balck': 430, 'haunt': 2561, 'princess': 4347, 'webhad': 6381, 'misplac': 3520, 'faulti': 2033, 'depict': 1458, 'cash': 836, 'wallet': 6299, 'surli': 5569, 'silli': 5095, 'overcoat': 3990, 'usabl': 6177, 'monoco': 3560, 'primarili': 4343, 'accustom': 42, 'baffl': 419, 'webmonth': 6398, 'agenc': 112, 'telephon': 5671, 'chart': 901, 'cave': 851, 'quarter': 4452, 'brighten': 693, 'workday': 6552, 'survey': 5575, 'screech': 4922, 'dissatisf': 1590, 'chuckl': 963, 'ah': 123, 'yesterday': 6594, 'articl': 305, 'cyber': 1346, 'promo': 4389, 'expir': 1960, 'liber': 3172, 'predica': 4303, 'oversea': 4009, 'reciev': 4534, 'sympathet': 5614, 'luster': 3291, 'protect': 4403, 'levi': 3167, 'collaps': 1051, 'provoc': 4413, 'carous': 828, 'unsettl': 6130, 'sysndic': 5618, 'soho': 5243, 'yorker': 6602, 'webdon': 6367, 'bumper': 740, 'unblemish': 6033, 'mike': 3475, 'yunan': 6615, 'marco': 3349, 'scherer': 4900, 'insur': 2892, 'liabil': 3170, 'contradict': 1182, 'intouch': 2920, 'gigant': 2347, 'inconvenienc': 2820, 'limp': 3194, 'forthcom': 2197, 'audac': 363, 'flavorless': 2126, 'woefulli': 6532, 'fume': 2270, 'ding': 1531, 'brass': 670, 'severli': 4992, 'disappiont': 1548, 'webvisit': 6436, 'healthier': 2578, 'incandesc': 2801, 'motorcycl': 3580, 'manhood': 3338, 'stairwel': 5367, 'spank': 5299, 'abound': 7, 'undesir': 6059, 'dishonest': 1571, 'ban': 438, 'ip': 2937, 'guarente': 2480, 'woudl': 6564, 'hawaii': 2562, 'budapest': 723, 'doubletre': 1647, 'rattl': 4502, 'weboctob': 6404, 'furitur': 2280, 'tempo': 5680, 'privileg': 4358, 'notabl': 3837, 'michel': 3453, 'negoti': 3753, 'contract': 1181, 'occasion': 3877, 'thu': 5769, 'webeleg': 6368, 'monstrou': 3563, 'ohio': 3903, 'cot': 1228, 'tabletop': 5624, 'cale': 781, 'dad': 1349, 'chime': 941, 'comformt': 1067, 'deposit': 1462, 'leagu': 3130, 'gucci': 2481, 'sunglass': 5544, 'stolen': 5430, 'hideaway': 2620, 'rm': 4748, 'assig': 324, 'launder': 3113, 'inconvi': 2821, 'courteous': 1247, 'deadlin': 1386, 'overcom': 3991, 'dislik': 1576, 'flimsi': 2137, 'contemptu': 1176, 'pompou': 4256, 'porthol': 4272, 'gossip': 2400, 'ha': 2501, 'depit': 1459, 'litter': 3216, 'tran': 5860, 'webus': 6434, 'classifi': 988, 'jewish': 2984, 'hindi': 2634, 'forgett': 2184, 'ined': 2841, 'tut': 5988, 'moni': 3558, 'envelop': 1859, 'court': 1245, 'glorifi': 2372, 'desert': 1470, 'aven': 384, 'sheek': 5018, 'skit': 5137, 'pedest': 4106, 'toliet': 5810, 'pee': 4111, 'costruct': 1227, 'modest': 3541, 'cupboard': 1322, 'iot': 2935, 'variet': 6213, 'cabernet': 772, 'william': 6508, 'presum': 4325, 'webreserv': 6412, 'journal': 3001, 'thirtieth': 5742, 'barrier': 459, 'russian': 4819, 'upkeep': 6156, 'sax': 4874, 'mishap': 3516, 'undergon': 6045, 'renvat': 4639, 'webwher': 6444, 'anthoni': 228, 'nail': 3720, 'shadi': 5001, 'selman': 4960, 'comp': 1078, 'swindl': 5602, 'webimo': 6389, 'flor': 2150, 'nod': 3810, 'webwhat': 6442, 'disappointingli': 1550, 'waysid': 6340, 'resound': 4674, 'thud': 5770, 'conced': 1111, 'indefinit': 2826, 'michael': 3451, 'jordan': 2999, 'disast': 1552, 'nutshel': 3856, 'ps': 4416, 'argo': 283, 'sir': 5114, 'madam': 3302, 'vehicl': 6223, 'glove': 2376, 'chagrin': 879, 'webok': 6406, 'appeal': 255, 'potter': 4289, 'rec': 4523, 'fran': 2218, 'flophous': 2149, 'sleaz': 5149, 'webhow': 6385, 'redickula': 4560, 'inappropi': 2796, 'yesteryear': 6595, 'hovel': 2705, 'oversold': 4010, 'coctail': 1038, 'webto': 6429, 'chronolog': 962, 'overdrawn': 3995, 'symptom': 5616, 'reimburs': 4602, 'doorknob': 1635, 'sideway': 5080, 'reconnect': 4545, 'vibrant': 6244, 'unsual': 6132, 'diesel': 1511, 'modif': 3542, 'idl': 2753, 'turbo': 5982, 'gp': 2411, 'dakota': 1351, 'ferrari': 2058, 'ferri': 2059, 'bueller': 727, 'modifi': 3543, 'brett': 683, 'in': 2792, 'healthi': 2577, 'kink': 3040, 'congreg': 1149, 'episod': 1865, 'twilight': 5996, 'gather': 2313, 'lurv': 3289, 'coat': 1033, 'botiqu': 652, 'barefeet': 450, 'layer': 3120, 'flith': 2142, 'brush': 712, 'wad': 6282, 'gum': 2493, 'duct': 1709, 'umm': 6016, 'ripe': 4736, 'accus': 41, 'loss': 3255, 'bachelorett': 405, 'sunken': 5545, 'poke': 4246, 'urgent': 6173, 'irritatingli': 2948, 'tjhat': 5799, 'sung': 5543, 'ripoff': 4737, 'document': 1620, 'deceivingli': 1400, 'webso': 6418, 'giggl': 2348, 'courtesti': 1249, 'micro': 3458, 'counterspac': 1238, 'analyst': 201, 'muski': 3706, 'renaiss': 4630, 'splash': 5325, 'airplan': 131, 'sex': 4994, 'fifti': 2070, 'husand': 2729, 'commonli': 1075, 'sentenc': 4969, 'midwestern': 3470, 'patienc': 4087, 'instal': 2881, 'apper': 258, 'soffitel': 5234, 'ostentati': 3962, 'mcdonald': 3396, 'electrician': 1777, 'stripe': 5469, 'regul': 4596, 'underwear': 6056, 'ht': 2710, 'thebreakfast': 5715, 'refrigir': 4578, 'areusu': 282, 'norway': 3833, 'distant': 1596, 'unremark': 6121, 'sketchi': 5127, 'norwegian': 3834, 'sarita': 4857, 'hopeless': 2678, 'roadwork': 4753, 'truck': 5966, 'beep': 504, 'stool': 5435, 'smear': 5186, 'eeewwhh': 1762, 'ink': 2863, 'forgo': 2186, 'fugit': 2266, 'adapt': 59, 'ipad': 2938, 'yougurt': 6603, 'reaction': 4508, 'sour': 5282, 'punish': 4433, 'wasveri': 6326, 'illus': 2763, 'indescri': 2829, 'convien': 1193, 'minneapoli': 3503, 'weboften': 6405, 'certaintli': 873, 'economi': 1757, 'obvioulsi': 3874, 'yucki': 6611, 'cough': 1232, 'roadsid': 4751, 'pepto': 4128, 'bismol': 569, 'yellow': 6590, 'earplug': 1738, 'storey': 5440, 'outer': 3973, 'carolina': 827, 'northern': 3830, 'sneek': 5207, 'peak': 4102, 'snap': 5202, 'shoebox': 5039, 'gloriou': 2373, 'bam': 437, 'stylishli': 5494, 'webcheck': 6363, 'incedent': 2803, 'rudest': 4806, 'ss': 5355, 'code': 1039, 'smart': 5183, 'sake': 4836, 'webspent': 6419, 'orchestra': 3947, 'wing': 6516, 'skew': 5128, 'messi': 3438, 'descend': 1466, 'violent': 6256, 'adrenalin': 82, 'cure': 1327, 'mislead': 3518, 'ointment': 3905, 'benadryl': 531, 'curl': 1328, 'ghost': 2342, 'empathi': 1808, 'tux': 5989, 'webgood': 6378, 'disrepair': 1586, 'clog': 1013, 'hedg': 2595, 'hopkin': 2679, 'entitl': 1852, 'medic': 3408, 'plaza': 4220, 'weboverview': 6411, 'snobbi': 5215, 'deskman': 1477, 'waver': 6338, 'ethernet': 1893, 'inconst': 2817, 'login': 3238, 'vulner': 6279, 'threat': 5755, 'norton': 3832, 'anti': 229, 'viru': 6261, 'cacophoni': 775, 'distract': 1601, 'useless': 6181, 'inflat': 2850, 'fraction': 2215, 'bloat': 603, 'webarriv': 6355, 'flicker': 2135, 'latter': 3109, 'offens': 3892, 'mturkoverpr': 3652, 'dive': 1609, 'inclement': 2808, 'creativ': 1281, 'hideous': 2622, 'enlighten': 1835, 'almighti': 157, 'spake': 5296, 'defeat': 1418, 'slunk': 5178, 'pimp': 4187, 'thiev': 5733, 'mturkdon': 3608, 'reconsid': 4546, 'belliger': 524, 'hindsight': 2635, 'needlessli': 3750, 'mturkchicago': 3602, 'reliti': 4611, 'peviou': 4156, 'clump': 1026, 'blond': 605, 'deter': 1489, 'sassi': 4858, 'chaotic': 893, 'suitabl': 5527, 'thirti': 5741, 'repairman': 4642, 'remin': 4622, 'wound': 6567, 'wretch': 6571, 'fed': 2047, 'thicker': 5731, 'kool': 3063, 'awoken': 402, 'dnd': 1617, 'inconveniec': 2819, 'mturkhyatt': 3633, 'ole': 3914, 'sneez': 5208, 'scan': 4881, 'interatt': 2900, 'intercommun': 2901, 'em': 1794, 'fluoresc': 2156, 'dimmer': 1526, 'gideon': 2345, 'bibl': 554, 'geez': 2320, 'mutual': 3713, 'unkempt': 6095, 'baggag': 422, 'barley': 456, 'potpourri': 4288, 'incas': 2802, 'atleast': 343, 'forefeit': 2179, 'sam': 4843, 'leaki': 3133, 'diaper': 1504, 'unsavori': 6128, 'millemmium': 3485, 'fitful': 2111, 'haphazardli': 2535, 'exceedingli': 1926, 'fishi': 2108, 'soil': 5244, 'panti': 4049, 'febreez': 2045, 'freeli': 2230, 'roam': 4754, 'identif': 2750, 'licens': 3175, 'flag': 2118, 'illicit': 2761, 'imag': 2765, 'memo': 3419, 'snide': 5210, 'strength': 5460, 'scof': 4907, 'groan': 2459, 'reveal': 4711, 'preposter': 4316, 'menial': 3424, 'model': 3537, 'judgment': 3007, 'prevail': 4329, 'dude': 1710, 'terror': 5701, 'mud': 3686, 'luke': 3281, 'dilemma': 1521, 'michelin': 3454, 'announc': 219, 'threadbar': 5754, 'unsatisfi': 6127, 'dissatisfi': 1592, 'entireti': 1851, 'static': 5389, 'explan': 1962, 'bush': 755, 'flop': 2148, 'ohhhhh': 3902, 'noooooo': 3825, 'militari': 3482, 'bunk': 743, 'armi': 290, 'slimi': 5165, 'chunk': 964, 'goop': 2398, 'intoler': 2919, 'fur': 2278, 'dander': 1359, 'hawk': 2563, 'temper': 5677, 'pocket': 4239, 'flippantli': 2141, 'plop': 4229, 'wobbl': 6531, 'mad': 3301, 'angri': 212, 'ters': 5703, 'snub': 5223, 'imposit': 2785, 'condom': 1131, 'endlessli': 1823, 'uninterrupt': 6089, 'detect': 1487, 'hastili': 2559, 'threw': 5758, 'grudgingli': 2474, 'tout': 5839, 'unlock': 6101, 'chacago': 875, 'horrid': 2684, 'uncoop': 6042, 'vomit': 6272, 'deodor': 1454, 'eww': 1917, 'mturkdid': 3605, 'firstli': 2105, 'mturkadvertis': 3590, 'tenth': 5690, 'territori': 5700, 'autom': 375, 'ooh': 3929, 'aaah': 1, 'purs': 4444, 'adam': 58, 'haggard': 2504, 'unduli': 6061, 'amidst': 193, 'mturkimagin': 3636, 'sheen': 5019, 'overblown': 3987, 'mturkdissapoint': 3606, 'insight': 2873, 'mixup': 3529, 'mturkwhilst': 3680, 'blemish': 595, 'germifi': 2336, 'narcissist': 3725, 'identifi': 2751, 'meanwhil': 3403, 'hojo': 2651, 'chage': 878, 'drug': 1698, 'dealer': 1388, 'prostitut': 4402, 'devoid': 1498, 'misspel': 3523, 'spell': 5316, 'scour': 4912, 'spiderweb': 5321, 'pod': 4240, 'tender': 5686, 'horrifi': 2686, 'mutter': 3712, 'infus': 2858, 'nauseou': 3733, 'lung': 3285, 'congeal': 1145, 'photographi': 4168, 'rucku': 4804, 'wive': 6530, 'jersey': 2981, 'destroy': 1484, 'text': 5707, 'stayfittm': 5394, 'null': 3853, 'presenc': 4317, 'mturkwhenev': 3678, 'briefli': 691, 'backup': 413, 'noxiou': 3850, 'mous': 3582, 'critter': 1295, 'lurk': 3288, 'lipstick': 3205, 'knick': 3052, 'mercedez': 3428, 'dismay': 1578, 'haggl': 2505, 'whatnot': 6475, 'hadnt': 2503, 'cigarrett': 970, 'thoughout': 5749, 'ambien': 180, 'backach': 408, 'ex': 1919, 'chlorin': 946, 'twa': 5991, 'boot': 641, 'doc': 1618, 'marten': 3371, 'rod': 4770, 'desper': 1479, 'consciou': 1154, 'diappoint': 1505, 'substandard': 5505, 'mismatch': 3519, 'dumbbel': 1716, 'gangster': 2304, 'gambler': 2301, 'frighteningli': 2249, 'ensu': 1843, 'mask': 3376, 'mobil': 3534, 'stank': 5375, 'welt': 6463, 'reduct': 4565, 'godli': 2384, 'doorknock': 1636, 'mturkswissotel': 3662, 'shini': 5031, 'gadget': 2294, 'coars': 1030, 'stubborn': 5480, 'stinch': 5422, 'rural': 4817, 'sharon': 5012, 'vaccuum': 6197, 'iowa': 2936, 'getway': 2341, 'impati': 2776, 'accomond': 31, 'risen': 4739, 'unfold': 6070, 'fifteenth': 2068, 'eman': 1797, 'pend': 4118, 'nervous': 3764, 'downward': 1662, 'rescu': 4661, 'emot': 1807, 'murmer': 3700, 'admittedli': 77, 'mturksuperhigh': 3661, 'lobi': 3226, 'sinu': 5111, 'cynic': 1348, 'pulp': 4427, 'scowl': 4914, 'likewis': 3190, 'fluster': 2158, 'tedium': 5665, 'bust': 760, 'logo': 3239, 'marshmallow': 3369, 'prod': 4372, 'refuge': 4580, 'camp': 793, 'intrigu': 2922, 'frown': 2257, 'mumbl': 3696, 'agit': 117, 'fro': 2254, 'jackhamm': 2963, 'bulldoz': 736, 'frazzl': 2226, 'aris': 287, 'cider': 966, 'pattern': 4093, 'overrun': 4007, 'rowdi': 4799, 'cardboard': 819, 'akin': 135, 'angrili': 213, 'huff': 2714, 'therapist': 5724, 'uncertain': 6036, 'banker': 444, 'washrag': 6321, 'mturkatroci': 3599, 'californian': 784, 'univers': 6094, 'fingerprint': 2096, 'woope': 6547, 'gooey': 2396, 'decker': 1408, 'bisqu': 570, 'grumbl': 2475, 'pucker': 4422, 'pineappl': 4191, 'tart': 5647, 'emul': 1815, 'mturknot': 3646, 'unmad': 6103, 'arraing': 297, 'towl': 5843, 'relunct': 4615, 'traing': 5858, 'mturkgrant': 3623, 'washcloth': 6318, 'mistakenli': 3526, 'farthest': 2024, 'marijuana': 3355, 'embarras': 1799, 'arrest': 300, 'possess': 4279, 'planet': 4208, 'rung': 4815, 'coverlet': 1255, 'outfit': 3974, 'hah': 2506, 'submit': 5501, 'mturkworst': 3681, 'gallen': 2298, 'unruli': 6124, 'atroci': 348, 'awri': 403, 'realiti': 4516, 'fantasi': 2019, 'sinus': 5112, 'nasal': 3728, 'sardin': 4856, 'solut': 5251, 'unfortunatley': 6072, 'detroit': 1494, 'fond': 2167, 'balconi': 431, 'butt': 763, 'detour': 1492, 'frumpi': 2261, 'password': 4080, 'offeredd': 3894, 'anyhow': 236, 'se': 4932, 'lke': 3221, 'lackadais': 3072, 'spotti': 5340, 'mturkoh': 3648, 'turd': 5983, 'mturkwhatev': 3676, 'barest': 451, 'can': 796, 'goto': 2402, 'complemenatri': 1094, 'freshner': 2239, 'passabl': 4077, 'resolut': 4670, 'misfortun': 3515, 'vacanc': 6194, 'gain': 2296, 'urin': 6174, 'unattend': 6027, 'spici': 5320, 'cusin': 1339, 'roar': 4755, 'heck': 2593, 'tune': 5980, 'lobster': 3227, 'craw': 1276, 'velvet': 6225, 'unnecessarili': 6106, 'goal': 2382, 'starpoint': 5381, 'overstat': 4012, 'adject': 70, 'upcharg': 6148, 'swimsuit': 5601, 'disorgan': 1579, 'thrust': 5768, 'vagu': 6199, 'hazard': 2565, 'immens': 2772, 'databas': 1370, 'begrudgingli': 513, 'scam': 4879, 'rash': 4494, 'deplet': 1460, 'blous': 610, 'border': 644, 'clinic': 1009, 'smack': 5179, 'alloc': 154, 'extort': 1974, 'interf': 2908, 'preciou': 4301, 'facebook': 1992, 'pubic': 4418, 'fowl': 2211, 'rotten': 4790, 'handler': 2530, 'debri': 1396, 'opul': 3944, 'outdon': 3971, 'senil': 4963, 'landlord': 3087, 'carriag': 831, 'sulk': 5529, 'reclean': 4535, 'unheard': 6079, 'footprint': 2175, 'slid': 5158, 'hasti': 2558, 'henc': 2608, 'mustang': 3708, 'livid': 3220, 'revenu': 4712, 'superfici': 5552, 'gimmick': 2350, 'uunfortun': 6192, 'strictli': 5465, 'poof': 4261, 'particl': 4070, 'grit': 2458, 'pluge': 4232, 'cord': 1209, 'mturkterr': 3663, 'helpless': 2607, 'magnet': 3307, 'aunt': 369, 'disclos': 1555, 'heavili': 2592, 'wealth': 6343, 'redili': 4561, 'tint': 5794, 'tobacco': 5801, 'mturkextrem': 3616, 'finagl': 2085, 'urgenc': 6172, 'funritur': 2277, 'rearrang': 4520, 'poo': 4259, 'mturkaffinia': 3591, 'unaccommod': 6020, 'deactiv': 1384, 'detector': 1488, 'unev': 6064, 'polar': 4247, 'mturkhello': 3627, 'affnia': 103, 'untidi': 6138, 'racket': 4469, 'chigaco': 934, 'allud': 156, 'hob': 2650, 'kitchi': 3047, 'shard': 5010, 'rancid': 4487, 'dissatisfact': 1591, 'adopt': 79, 'mutt': 3711, 'energet': 1827, 'photogen': 4166, 'scar': 4885, 'terrier': 5697, 'mock': 3535, 'abassador': 3, 'sw': 5583, 'airshow': 133, 'luckli': 3278, 'steadi': 5395, 'knob': 3056, 'scrap': 4916, 'oldest': 3912, 'umcomfort': 6015, 'recommed': 4541, 'standoffish': 5374, 'dissappoint': 1589, 'turtl': 5987, 'smudg': 5198, 'cleanin': 994, 'uptight': 6167, 'noti': 3841, 'drope': 1695, 'terriabl': 5695, 'suppost': 5563, 'sack': 4825, 'drunken': 1700, 'dong': 1630, 'diminish': 1524, 'miniscul': 3502, 'bizarr': 578, 'simpler': 5102, 'mturkhi': 3628, 'terrifi': 5699, 'breakabl': 673, 'narrowli': 3727, 'vase': 6216, 'displeas': 1581, 'extremli': 1981, 'reservationist': 4665, 'scout': 4913, 'troop': 5963, 'cycl': 1347, 'jiggl': 2985, 'clip': 1011, 'sing': 5107, 'chaperon': 894, 'shoo': 5041, 'potenti': 4287, 'underneath': 6048, 'humili': 2722, 'refut': 4586, 'hairbal': 2510, 'streak': 5456, 'vaguest': 6200, 'throat': 5761, 'midweek': 3468, 'sightseer': 5084, 'retrospect': 4704, 'phrase': 4169, 'timet': 5790, 'spanish': 5298, 'compromis': 1106, 'mumbai': 3695, 'unappet': 6025, 'starv': 5384, 'mturkwarn': 3674, 'sexual': 4996, 'blindfold': 600, 'sworn': 5609, 'cat': 841, 'powder': 4292, 'classier': 986, 'fancier': 2017, 'dandi': 1360, 'verbal': 6234, 'pungent': 4432, 'excrement': 1938, 'fled': 2131, 'callou': 787, 'ethic': 1894, 'penetr': 4119, 'fender': 2057, 'awkwardli': 400, 'fresher': 2237, 'ressi': 4681, 'jammi': 2969, 'sacrific': 4826, 'stray': 5455, 'popul': 4267, 'erad': 1872, 'splinter': 5327, 'powerpoint': 4294, 'ungodli': 6076, 'dialup': 1501, 'fend': 2056, 'veneer': 6229, 'degener': 1432, 'enemi': 1825, 'whirl': 6489, 'swarm': 5588, 'straiten': 5447, 'lifeless': 3180, 'blunt': 620, 'ceo': 868, 'gut': 2497, 'publicli': 4420, 'flog': 2144, 'neo': 3761, 'amd': 183, 'dysfunct': 1730, 'crude': 1302, 'starch': 5378, 'jip': 2987, 'fought': 2203, 'facelift': 1993, 'command': 1069, 'battl': 477, 'indent': 2827, 'raucou': 4503, 'compensatori': 1088, 'contempt': 1175, 'acommod': 48, 'angonizingli': 211, 'prestig': 4324, 'spars': 5303, 'sued': 5519, 'deceiv': 1399, 'grandchildren': 2422, 'deploy': 1461, 'iraq': 2941, 'tarnish': 5645, 'dishevel': 1570, 'polyest': 4255, 'slang': 5146, 'adhes': 68, 'moncaco': 3555, 'upstiff': 6166, 'yappi': 6582, 'strict': 5464, 'gluten': 2379, 'diet': 1513, 'dietari': 1514, 'apnea': 249, 'cpap': 1260, 'benig': 537, 'lamb': 3082, 'potato': 4286, 'gratin': 2436, 'si': 5074, 'boardroom': 622, 'taint': 5630, 'impli': 2781, 'easiest': 1744, 'squeak': 5351, 'trite': 5961, 'modular': 3544, 'catalogu': 842, 'hunk': 2726, 'ugliest': 6008, 'cutesi': 1344, 'root': 4786, 'standbi': 5373, 'succul': 5514, 'mturkjam': 3638, 'rigor': 4733, 'fritter': 2253, 'pink': 4192, 'letharg': 3162, 'interfer': 2910, 'viabl': 6242, 'lebron': 3141, 'british': 699, 'unholi': 6081, 'australian': 371, 'belveder': 529, 'throb': 5762, 'conditin': 1128, 'dawn': 1376, 'bothersom': 651, 'sway': 5589, 'mturktravel': 3670, 'softiel': 5241, 'abrupt': 8, 'laquinta': 3094, 'clash': 982, 'canin': 804, 'howl': 2707, 'fancyp': 2018, 'wold': 6535, 'proven': 4411, 'nineteen': 3803, 'blatantli': 589, 'breast': 677, 'sweater': 5592, 'divert': 1611, 'atent': 339, 'clink': 1010, 'stomr': 5432, 'chest': 921, 'straw': 5453, 'symbol': 5613, 'indescrp': 2830, 'blunder': 619, 'louisiana': 3263, 'snappi': 5203, 'mill': 3484, 'twelveth': 5993, 'slimmi': 5166, 'shrivel': 5066, 'electrocut': 1778, 'walmart': 6302, 'auspici': 370, 'broadsid': 701, 'harder': 2544, 'undeserv': 6058, 'estat': 1889, 'prosaic': 4401, 'shunt': 5071, 'reminisc': 4624, 'coastal': 1032, 'headway': 2574, 'apathi': 248, 'clueless': 1025, 'conceal': 1110, 'flip': 2139, 'pushi': 4446, 'teeth': 5669, 'hassel': 2555, 'disench': 1566, 'accomed': 26, 'schicago': 4901, 'figuer': 2072, 'remnant': 4625, 'lip': 3204, 'sanitari': 4851, 'proof': 4394, 'chambermaid': 885, 'cavern': 852, 'migrain': 3474, 'induc': 2837, 'skeevi': 5125, 'preoccupi': 4312, 'distast': 1597, 'heap': 2579, 'chad': 876, 'montgomeri': 3564, 'colorless': 1059, 'undercook': 6043, 'sloppi': 5171, 'disgruntl': 1567, 'jojoba': 2996, 'hive': 2645, 'foulest': 2205, 'choke': 950, 'crow': 1298, 'spectacl': 5311, 'orderd': 3951, 'tenant': 5684, 'disappear': 1547, 'shallow': 5005, 'lakesid': 3080, 'gaudi': 2314, 'sculptur': 4929, 'meaningless': 3400, 'verdict': 6235, 'incess': 2804, 'magazin': 3305, 'briefcas': 690, 'usher': 6183, 'ruffl': 4807, 'lighter': 3186, 'honeycomb': 2667, 'android': 206, 'tablet': 5623, 'core': 1212, 'processor': 4371, 'brows': 710, 'infrequ': 2856, 'agreeabl': 121, 'workabl': 6551, 'immers': 2773, 'showroom': 5062, 'askew': 319, 'keen': 3021, 'distinctli': 1599, 'cologn': 1057, 'nose': 3835, 'snuberi': 5224, 'imediatli': 2768, 'lasi': 3100, 'stopper': 5437, 'minutia': 3510, 'politician': 4252, 'affair': 97, 'snot': 5220, 'shepherd': 5026, 'wateri': 6330, 'mturkeww': 3613, 'sicken': 5076, 'masterpiec': 3383, 'theori': 5722, 'amelior': 184, 'unnot': 6107, 'uneasi': 6063, 'unhealthi': 6078, 'shroud': 5067, 'translat': 5867, 'googl': 2397, 'precaut': 4300, 'offish': 3897, 'grasp': 2433, 'weari': 6347, 'tope': 5824, 'sandi': 4848, 'trudg': 5967, 'inconsider': 2815, 'barg': 452, 'bushi': 756, 'scrubber': 4926, 'curdl': 1326, 'shriek': 5064, 'partook': 4075, 'tasteless': 5650, 'refridger': 4576, 'craft': 1265, 'delic': 1439, 'etern': 1891, 'dote': 1645, 'towncar': 5845, 'approch': 269, 'wern': 6466, 'retaur': 4698, 'pricier': 4340, 'subpar': 5502, 'traine': 5856, 'planner': 4210, 'abruptli': 9, 'encod': 1818, 'finali': 2087, 'thoguh': 5744, 'bull': 735, 'bold': 630, 'variat': 6212, 'bait': 426, 'retali': 4697, 'ornat': 3959, 'nerv': 3762, 'flair': 2119, 'designi': 1474, 'mturksinc': 3658, 'lurch': 3286, 'yike': 6598, 'mturkthough': 3668, 'repetit': 4645, 'bs': 713, 'unapp': 6024, 'cattl': 846, 'teller': 5675, 'audrey': 366, 'booz': 643, 'waist': 6285, 'markup': 3363, 'nina': 3801, 'echilon': 1754, 'hitch': 2643, 'erin': 1876, 'tonight': 5818, 'snoop': 5217, 'dimwit': 1527, 'overpow': 4004, 'fragranc': 2216, 'irreplac': 2946, 'teribl': 5691, 'inbuild': 2799, 'resturaunt': 4694, 'untast': 6137, 'richer': 4724, 'mturkyour': 3684, 'envis': 1863, 'mar': 3345, 'vacant': 6195, 'hut': 2732, 'dictionari': 1507, 'forgiv': 2185, 'companion': 1081, 'fals': 2011, 'propeti': 4399, 'apperd': 259, 'vice': 6246, 'aroung': 296, 'affel': 99, 'cheepest': 912, 'securati': 4946, 'purpous': 4443, 'oder': 3887, 'cretan': 1286, 'cocin': 1035, 'watter': 6336, 'scatebord': 4890, 'biz': 577, 'gloomi': 2370, 'dank': 1364, 'baseboard': 463, 'glasswar': 2365, 'silverwar': 5097, 'liquid': 3206, 'slot': 5172, 'laugh': 3110, 'allego': 146, 'nighttim': 3799, 'sag': 4833, 'dilapid': 1520, 'gush': 2495, 'eleph': 1783, 'tade': 5627, 'snarl': 5205, 'beast': 482, 'aggress': 116, 'brenda': 682, 'puf': 4424, 'smirk': 5190, 'shred': 5063, 'smoother': 5196, 'vise': 6262, 'versa': 6238, 'suspicion': 5580, 'segreg': 4954, 'attir': 356, 'where': 6481, 'prolem': 4384, 'strain': 5446, 'mturkproblem': 3654, 'salvador': 4842, 'dali': 1352, 'filthiest': 2083, 'latenc': 3105, 'cork': 1213, 'chicagoan': 928, 'ed': 1758, 'messili': 3439}\n",
            "[6.29894217 7.68523653 7.68523653 ... 7.68523653 6.7689458  7.27977142]\n"
          ]
        }
      ]
    },
    {
      "cell_type": "code",
      "source": [
        "vectorizer.get_feature_names_out()"
      ],
      "metadata": {
        "id": "Lh-hZwlvYeOl",
        "colab": {
          "base_uri": "https://localhost:8080/"
        },
        "outputId": "3016076e-a81e-40fa-e578-75df6703ec31"
      },
      "execution_count": null,
      "outputs": [
        {
          "output_type": "execute_result",
          "data": {
            "text/plain": [
              "array(['aaa', 'aaah', 'aback', ..., 'zip', 'zone', 'zoo'], dtype=object)"
            ]
          },
          "metadata": {},
          "execution_count": 29
        }
      ]
    },
    {
      "cell_type": "code",
      "source": [
        "x=df['complete_text']\n",
        "y=df['deceptive']"
      ],
      "metadata": {
        "id": "8ZlGFUzoba4l"
      },
      "execution_count": null,
      "outputs": []
    },
    {
      "cell_type": "code",
      "source": [
        "x.head()"
      ],
      "metadata": {
        "colab": {
          "base_uri": "https://localhost:8080/"
        },
        "id": "vSSGMKrKQQd_",
        "outputId": "c1ca2e66-211c-40dc-abaa-8fcb1386a005"
      },
      "execution_count": null,
      "outputs": [
        {
          "output_type": "execute_result",
          "data": {
            "text/plain": [
              "0    tripadvisorw stay one night getaway famili thu...\n",
              "1    tripadvisortripl rate upgrad view room less al...\n",
              "2    tripadvisorthi come littl late final catch rev...\n",
              "3    tripadvisorth omni chicago realli deliv front ...\n",
              "4    tripadvisori ask high floor away elev got room...\n",
              "Name: complete_text, dtype: object"
            ]
          },
          "metadata": {},
          "execution_count": 31
        }
      ]
    },
    {
      "cell_type": "code",
      "source": [
        "# prompt: in x.head() i want to drop the sr no field and only keep text\n",
        "\n",
        "x.head()[1:]\n"
      ],
      "metadata": {
        "colab": {
          "base_uri": "https://localhost:8080/"
        },
        "id": "ySjVglOFQU8r",
        "outputId": "aa32ccd4-0bc5-45bb-c4a6-56302e46de13"
      },
      "execution_count": null,
      "outputs": [
        {
          "output_type": "execute_result",
          "data": {
            "text/plain": [
              "1    tripadvisortripl rate upgrad view room less al...\n",
              "2    tripadvisorthi come littl late final catch rev...\n",
              "3    tripadvisorth omni chicago realli deliv front ...\n",
              "4    tripadvisori ask high floor away elev got room...\n",
              "Name: complete_text, dtype: object"
            ]
          },
          "metadata": {},
          "execution_count": 32
        }
      ]
    },
    {
      "cell_type": "code",
      "source": [
        "print(x)"
      ],
      "metadata": {
        "colab": {
          "base_uri": "https://localhost:8080/"
        },
        "id": "ux6udc_qO813",
        "outputId": "b0c2a13d-ab24-4a88-e407-8de34d587495"
      },
      "execution_count": null,
      "outputs": [
        {
          "output_type": "stream",
          "name": "stdout",
          "text": [
            "0       tripadvisorw stay one night getaway famili thu...\n",
            "1       tripadvisortripl rate upgrad view room less al...\n",
            "2       tripadvisorthi come littl late final catch rev...\n",
            "3       tripadvisorth omni chicago realli deliv front ...\n",
            "4       tripadvisori ask high floor away elev got room...\n",
            "                              ...                        \n",
            "1595    mturkproblem start book intercontinent chicago...\n",
            "1596    mturkth amalfi hotel beauti websit interior de...\n",
            "1597    mturkth intercontinent chicago magnific mile o...\n",
            "1598    mturkth palmer hous hilton look good pictur ou...\n",
            "1599    mturka former chicagoan appal amalfi hotel chi...\n",
            "Name: complete_text, Length: 1600, dtype: object\n"
          ]
        }
      ]
    },
    {
      "cell_type": "code",
      "source": [
        "# Assuming your DataFrame is named 'df' and the column containing text is named 'text_column'\n",
        "print(x.iloc[1595])\n"
      ],
      "metadata": {
        "colab": {
          "base_uri": "https://localhost:8080/"
        },
        "id": "1-UzWEFNAtfI",
        "outputId": "12af9b47-49b0-4ff6-a3b8-3254337f7e78"
      },
      "execution_count": null,
      "outputs": [
        {
          "output_type": "stream",
          "name": "stdout",
          "text": [
            "mturkproblem start book intercontinent chicago onlin hotel site got server error somehow manag get reserv wish look elsewher great chicago street fill plenti option server error continu check let holiday weekend far mani other must pushi convention troubl get serv hotel enorm give sens comfort health facil also big noisi crowd internet access day kind surpris go around corner starbuck next time pick intim place nearbi without mani server error\n"
          ]
        }
      ]
    },
    {
      "cell_type": "code",
      "source": [
        "from sklearn.preprocessing import LabelEncoder\n",
        "from sklearn.model_selection import train_test_split\n",
        "le=LabelEncoder()\n",
        "y=le.fit_transform(y)"
      ],
      "metadata": {
        "id": "kdKITMQCbf_g"
      },
      "execution_count": null,
      "outputs": []
    },
    {
      "cell_type": "code",
      "source": [
        "x_train,x_test,y_train,y_test=train_test_split(x,y,random_state=0,test_size=0.2)"
      ],
      "metadata": {
        "id": "MuisQFYBbigE"
      },
      "execution_count": null,
      "outputs": []
    },
    {
      "cell_type": "code",
      "source": [
        "# from sklearn.feature_extraction.text import CountVectorizer\n",
        "# cv=CountVectorizer(ngram_range=(1,3))"
      ],
      "metadata": {
        "id": "uHp86niKbk_g"
      },
      "execution_count": null,
      "outputs": []
    },
    {
      "cell_type": "code",
      "source": [
        "print(x_train)"
      ],
      "metadata": {
        "colab": {
          "base_uri": "https://localhost:8080/"
        },
        "id": "vBEqVIKHOsW3",
        "outputId": "1572ea5f-0c0c-4991-c948-654067fe9506"
      },
      "execution_count": null,
      "outputs": [
        {
          "output_type": "stream",
          "name": "stdout",
          "text": [
            "728     mturkif money amalfi hotel place way thread co...\n",
            "48      tripadvisorfor price marriott spent night tax ...\n",
            "644     mturki travel chicago husband romant weekend a...\n",
            "615     mturki recent stay talbott hotel chicago famil...\n",
            "757     mturkamalfi hotel chicago sever factor make on...\n",
            "                              ...                        \n",
            "763     mturkth intercontinent chicago conveni locat n...\n",
            "835     webseri overpr room clean comfort stand mid pr...\n",
            "1216    mturka friend stay hyatt regenc chicago weeken...\n",
            "559     mturki stay hotel weekend thought realli nice ...\n",
            "684     mturki heard friend talk hotel monaco chicago ...\n",
            "Name: complete_text, Length: 1280, dtype: object\n"
          ]
        }
      ]
    },
    {
      "cell_type": "code",
      "source": [
        "x_train=vectorizer.fit_transform(x_train)"
      ],
      "metadata": {
        "id": "-mJGrLGobnP1"
      },
      "execution_count": null,
      "outputs": []
    },
    {
      "cell_type": "code",
      "source": [
        "print(x_train)"
      ],
      "metadata": {
        "colab": {
          "base_uri": "https://localhost:8080/"
        },
        "id": "HtUZM46HM-g1",
        "outputId": "242f4a27-3eef-4265-fa08-50110fdcfb04"
      },
      "execution_count": null,
      "outputs": [
        {
          "output_type": "stream",
          "name": "stdout",
          "text": [
            "  (0, 4800)\t0.13141591855050475\n",
            "  (0, 375)\t0.07379904252559519\n",
            "  (0, 969)\t0.09080923463938924\n",
            "  (0, 3823)\t0.11202489054097463\n",
            "  (0, 5279)\t0.06343614429441352\n",
            "  (0, 2179)\t0.07423688064876577\n",
            "  (0, 2955)\t0.07061578996582625\n",
            "  (0, 4659)\t0.1446803768326414\n",
            "  (0, 6026)\t0.1575928588553512\n",
            "  (0, 3974)\t0.12982837801797814\n",
            "  (0, 3568)\t0.06035822611954917\n",
            "  (0, 4127)\t0.07200964583547428\n",
            "  (0, 5895)\t0.07689363289436409\n",
            "  (0, 2225)\t0.059820452530198895\n",
            "  (0, 4545)\t0.056433393171762256\n",
            "  (0, 1950)\t0.08415987571710298\n",
            "  (0, 621)\t0.08677366351428883\n",
            "  (0, 1003)\t0.11956164559164616\n",
            "  (0, 2127)\t0.06475075357136646\n",
            "  (0, 412)\t0.08853770394244846\n",
            "  (0, 3444)\t0.05864624430848177\n",
            "  (0, 2951)\t0.09597848834572935\n",
            "  (0, 5641)\t0.08400418934625674\n",
            "  (0, 693)\t0.16072924191709578\n",
            "  (0, 1008)\t0.27981582507484704\n",
            "  :\t:\n",
            "  (1279, 5718)\t0.07235879610067888\n",
            "  (1279, 1828)\t0.17244494600617377\n",
            "  (1279, 455)\t0.05136787892563693\n",
            "  (1279, 3042)\t0.23334666988406505\n",
            "  (1279, 1729)\t0.07813221568852916\n",
            "  (1279, 847)\t0.036253614859316975\n",
            "  (1279, 3305)\t0.07484154796277356\n",
            "  (1279, 2939)\t0.05079287432091691\n",
            "  (1279, 4891)\t0.045644005487000885\n",
            "  (1279, 3605)\t0.11178682788479592\n",
            "  (1279, 4922)\t0.06238148993604126\n",
            "  (1279, 375)\t0.062382853121833004\n",
            "  (1279, 3823)\t0.18939086615340012\n",
            "  (1279, 5279)\t0.10724604376164669\n",
            "  (1279, 2179)\t0.1882588823613326\n",
            "  (1279, 3568)\t0.051021235856878795\n",
            "  (1279, 5895)\t0.12999746453863834\n",
            "  (1279, 2225)\t0.05056665203452631\n",
            "  (1279, 4545)\t0.09540709355896365\n",
            "  (1279, 3444)\t0.04957408551166901\n",
            "  (1279, 2951)\t0.16226259139474944\n",
            "  (1279, 2345)\t0.11562808954200493\n",
            "  (1279, 4353)\t0.1399093241886732\n",
            "  (1279, 3820)\t0.2349037450872323\n",
            "  (1279, 2461)\t0.11043661217458993\n"
          ]
        }
      ]
    },
    {
      "cell_type": "code",
      "source": [
        "from sklearn.linear_model import LogisticRegression\n",
        "lr=LogisticRegression(max_iter=100000)\n",
        "lr.fit(x_train,y_train)\n",
        "pred_1=lr.predict(vectorizer.transform(x_test))"
      ],
      "metadata": {
        "id": "85gczGNQbqZq"
      },
      "execution_count": null,
      "outputs": []
    },
    {
      "cell_type": "code",
      "source": [
        "from sklearn.preprocessing import LabelEncoder\n",
        "\n",
        "# Assuming 'y' contains the class labels (truthful and deceptive)\n",
        "y = ['truthful', 'deceptive', 'truthful', 'deceptive', 'truthful']\n",
        "\n",
        "# Initialize and fit the LabelEncoder\n",
        "le = LabelEncoder()\n",
        "y_encoded = le.fit_transform(y)\n",
        "\n",
        "# Check the mapping of classes to labels\n",
        "print(\"Classes:\", le.classes_)\n",
        "# Output: Classes: ['deceptive' 'truthful']\n",
        "\n",
        "# Now, y_encoded contains the encoded labels\n",
        "print(\"Encoded labels:\", y_encoded)\n",
        "# Output: Encoded labels: [1 0 1 0 1]\n"
      ],
      "metadata": {
        "colab": {
          "base_uri": "https://localhost:8080/"
        },
        "id": "g8AsVE2GpJmW",
        "outputId": "735056f9-a2a7-473f-bec5-feccec92717c"
      },
      "execution_count": null,
      "outputs": [
        {
          "output_type": "stream",
          "name": "stdout",
          "text": [
            "Classes: ['deceptive' 'truthful']\n",
            "Encoded labels: [1 0 1 0 1]\n"
          ]
        }
      ]
    },
    {
      "cell_type": "code",
      "source": [
        "from sklearn.metrics import accuracy_score\n",
        "score_1=accuracy_score(y_test,pred_1)"
      ],
      "metadata": {
        "id": "LzhwTFTNbtsW"
      },
      "execution_count": null,
      "outputs": []
    },
    {
      "cell_type": "code",
      "source": [
        "print(x_test)"
      ],
      "metadata": {
        "colab": {
          "base_uri": "https://localhost:8080/"
        },
        "id": "ZhdnAdAQv0Xa",
        "outputId": "981cd574-ebd2-4ece-b5fb-15e1402af1be"
      },
      "execution_count": null,
      "outputs": [
        {
          "output_type": "stream",
          "name": "stdout",
          "text": [
            "1073    webi never write review felt import state hote...\n",
            "326     tripadvisorw stay palmer hous hilton earli dec...\n",
            "1557    mturkmi experi amalfi hotel chicago pleasant f...\n",
            "918     webthi review two part advis read chapter one ...\n",
            "974     webw chose stay small hotel look hotel less cr...\n",
            "                              ...                        \n",
            "583     mturk classi decent seren word clearli defin t...\n",
            "1       tripadvisortripl rate upgrad view room less al...\n",
            "1566    mturkth pictur websit sure deceiv real life pa...\n",
            "554     mturki spent week millennium knickerbock hotel...\n",
            "1323    mturki want stay hotel sinc heard histor highl...\n",
            "Name: complete_text, Length: 320, dtype: object\n"
          ]
        }
      ]
    },
    {
      "cell_type": "code",
      "source": [
        "print(y_test)"
      ],
      "metadata": {
        "colab": {
          "base_uri": "https://localhost:8080/"
        },
        "id": "LlAvRBy_v52H",
        "outputId": "1b9d1e89-337c-4dee-b47c-ed75de788b5e"
      },
      "execution_count": null,
      "outputs": [
        {
          "output_type": "stream",
          "name": "stdout",
          "text": [
            "[1 1 0 1 1 0 1 0 0 1 0 0 0 1 1 1 1 1 0 1 1 1 1 1 1 0 1 1 0 0 0 0 1 1 0 1 0\n",
            " 0 1 1 0 0 0 0 1 0 0 0 0 0 1 0 0 1 1 0 0 0 1 0 1 0 0 0 1 1 0 0 0 0 0 1 1 1\n",
            " 1 0 0 1 0 1 0 1 1 1 0 1 1 0 0 1 0 1 1 0 0 1 0 1 1 0 0 0 1 0 1 0 1 0 1 0 0\n",
            " 0 0 0 0 0 1 1 1 0 0 0 0 1 1 0 0 1 1 0 1 1 1 0 0 1 1 0 0 0 0 1 0 0 1 0 1 1\n",
            " 0 1 1 1 0 0 1 0 1 0 0 0 0 1 1 1 0 0 1 0 1 0 0 1 1 1 1 1 1 1 1 0 1 0 0 1 1\n",
            " 1 0 0 1 0 0 1 0 0 1 1 0 0 0 1 1 1 1 0 1 1 0 1 0 1 0 0 0 0 1 0 1 1 0 0 1 1\n",
            " 1 0 1 0 1 0 1 1 0 1 1 0 1 1 0 1 0 0 0 0 0 1 1 1 0 0 1 0 0 1 0 0 1 0 1 1 1\n",
            " 1 0 0 1 1 0 0 1 1 1 0 0 1 0 1 0 1 0 0 0 0 0 0 1 0 1 1 0 1 0 1 1 1 1 0 0 1\n",
            " 1 0 1 0 1 0 0 1 0 0 0 1 1 1 1 0 1 0 0 0 1 0 0 0]\n"
          ]
        }
      ]
    },
    {
      "cell_type": "code",
      "source": [
        "score_1"
      ],
      "metadata": {
        "colab": {
          "base_uri": "https://localhost:8080/"
        },
        "id": "X8EpMaOYb0l7",
        "outputId": "18dce047-11c1-45ce-a80f-c60e38781a54"
      },
      "execution_count": null,
      "outputs": [
        {
          "output_type": "execute_result",
          "data": {
            "text/plain": [
              "0.921875"
            ]
          },
          "metadata": {},
          "execution_count": 46
        }
      ]
    },
    {
      "cell_type": "code",
      "source": [
        "from sklearn.metrics import confusion_matrix\n",
        "import matplotlib.pyplot as plt\n",
        "import seaborn as sns\n",
        "from sklearn.metrics import classification_report\n",
        "\n",
        "pred_1 = lr.predict(vectorizer.transform(x_test))\n",
        "print(classification_report(y_test, pred_1))\n",
        "\n",
        "# Generate the confusion matrix\n",
        "cm = confusion_matrix(y_test, pred_1)\n",
        "\n",
        "# Plot the confusion matrix\n",
        "sns.heatmap(cm, annot=True, fmt=\"d\", cmap=\"Blues\")\n",
        "plt.xlabel(\"Predicted label\")\n",
        "plt.ylabel(\"True label\")\n",
        "plt.title(\"Confusion Matrix\")\n",
        "plt.show()\n"
      ],
      "metadata": {
        "colab": {
          "base_uri": "https://localhost:8080/",
          "height": 636
        },
        "id": "fFINNPK_ncqf",
        "outputId": "cd950da7-fe3c-4b2f-dde0-ca600e9b89a9"
      },
      "execution_count": null,
      "outputs": [
        {
          "output_type": "stream",
          "name": "stdout",
          "text": [
            "              precision    recall  f1-score   support\n",
            "\n",
            "           0       0.92      0.93      0.92       165\n",
            "           1       0.92      0.92      0.92       155\n",
            "\n",
            "    accuracy                           0.92       320\n",
            "   macro avg       0.92      0.92      0.92       320\n",
            "weighted avg       0.92      0.92      0.92       320\n",
            "\n"
          ]
        },
        {
          "output_type": "display_data",
          "data": {
            "text/plain": [
              "<Figure size 640x480 with 2 Axes>"
            ],
            "image/png": "[encoded data removed]"
          },
          "metadata": {}
        }
      ]
    },
    {
      "cell_type": "code",
      "source": [
        "from sklearn.svm import SVC\n",
        "svm=SVC()\n",
        "svm.fit(x_train,y_train)\n",
        "pred_2=svm.predict(vectorizer.transform(x_test))\n",
        "score_2=accuracy_score(y_test,pred_2)"
      ],
      "metadata": {
        "id": "jo2VUzvob1kq"
      },
      "execution_count": null,
      "outputs": []
    },
    {
      "cell_type": "code",
      "source": [
        "score_2"
      ],
      "metadata": {
        "id": "VXH5uEXPb476",
        "colab": {
          "base_uri": "https://localhost:8080/"
        },
        "outputId": "4fa3bbd2-89a3-4ade-b1d6-466888dcc1ec"
      },
      "execution_count": null,
      "outputs": [
        {
          "output_type": "execute_result",
          "data": {
            "text/plain": [
              "0.93125"
            ]
          },
          "metadata": {},
          "execution_count": 49
        }
      ]
    },
    {
      "cell_type": "code",
      "source": [
        "from sklearn.metrics import classification_report, confusion_matrix\n",
        "import seaborn as sns\n",
        "import matplotlib.pyplot as plt\n",
        "\n",
        "# Generate the classification report\n",
        "print(classification_report(y_test, pred_2))\n",
        "\n",
        "# Generate the confusion matrix\n",
        "cm = confusion_matrix(y_test, pred_2)\n",
        "\n",
        "# Plot the confusion matrix\n",
        "sns.heatmap(cm, annot=True, fmt=\"d\", cmap=\"Blues\")\n",
        "plt.xlabel(\"Predicted label\")\n",
        "plt.ylabel(\"True label\")\n",
        "plt.title(\"Confusion Matrix\")\n",
        "plt.show()\n"
      ],
      "metadata": {
        "colab": {
          "base_uri": "https://localhost:8080/",
          "height": 636
        },
        "id": "eCOt0KCNoAml",
        "outputId": "e2d1c8d5-4ada-4e8e-ac8c-4a2eb95ad733"
      },
      "execution_count": null,
      "outputs": [
        {
          "output_type": "stream",
          "name": "stdout",
          "text": [
            "              precision    recall  f1-score   support\n",
            "\n",
            "           0       0.93      0.94      0.93       165\n",
            "           1       0.93      0.92      0.93       155\n",
            "\n",
            "    accuracy                           0.93       320\n",
            "   macro avg       0.93      0.93      0.93       320\n",
            "weighted avg       0.93      0.93      0.93       320\n",
            "\n"
          ]
        },
        {
          "output_type": "display_data",
          "data": {
            "text/plain": [
              "<Figure size 640x480 with 2 Axes>"
            ],
            "image/png": "[encoded data removed]"
          },
          "metadata": {}
        }
      ]
    },
    {
      "cell_type": "code",
      "source": [
        "from sklearn.naive_bayes import MultinomialNB\n",
        "nb=MultinomialNB()\n",
        "nb.fit(x_train,y_train)\n",
        "pred_3=nb.predict(vectorizer.transform(x_test))\n",
        "score_3=accuracy_score(y_test,pred_3)"
      ],
      "metadata": {
        "id": "g2kQL4MLb73u"
      },
      "execution_count": null,
      "outputs": []
    },
    {
      "cell_type": "code",
      "source": [
        "score_3"
      ],
      "metadata": {
        "id": "ia_lYBt4b9xo",
        "colab": {
          "base_uri": "https://localhost:8080/"
        },
        "outputId": "ca73b00d-2361-452f-f714-1266e515821e"
      },
      "execution_count": null,
      "outputs": [
        {
          "output_type": "execute_result",
          "data": {
            "text/plain": [
              "0.9125"
            ]
          },
          "metadata": {},
          "execution_count": 52
        }
      ]
    },
    {
      "cell_type": "code",
      "source": [
        "from sklearn.metrics import classification_report, confusion_matrix\n",
        "import seaborn as sns\n",
        "import matplotlib.pyplot as plt\n",
        "\n",
        "# Generate the classification report\n",
        "print(classification_report(y_test, pred_3))\n",
        "\n",
        "# Generate the confusion matrix\n",
        "cm = confusion_matrix(y_test, pred_3)\n",
        "\n",
        "# Plot the confusion matrix\n",
        "sns.heatmap(cm, annot=True, fmt=\"d\", cmap=\"Blues\")\n",
        "plt.xlabel(\"Predicted label\")\n",
        "plt.ylabel(\"True label\")\n",
        "plt.title(\"Confusion Matrix\")\n",
        "plt.show()"
      ],
      "metadata": {
        "colab": {
          "base_uri": "https://localhost:8080/",
          "height": 636
        },
        "id": "4H6dRN_roqTC",
        "outputId": "a901bc9c-6f54-4a0f-ed88-dd0ad7410768"
      },
      "execution_count": null,
      "outputs": [
        {
          "output_type": "stream",
          "name": "stdout",
          "text": [
            "              precision    recall  f1-score   support\n",
            "\n",
            "           0       0.88      0.96      0.92       165\n",
            "           1       0.95      0.86      0.91       155\n",
            "\n",
            "    accuracy                           0.91       320\n",
            "   macro avg       0.92      0.91      0.91       320\n",
            "weighted avg       0.92      0.91      0.91       320\n",
            "\n"
          ]
        },
        {
          "output_type": "display_data",
          "data": {
            "text/plain": [
              "<Figure size 640x480 with 2 Axes>"
            ],
            "image/png": "[encoded data removed]"
          },
          "metadata": {}
        }
      ]
    },
    {
      "cell_type": "markdown",
      "source": [
        "# **Save the model**"
      ],
      "metadata": {
        "id": "ocUPoMN5HzHH"
      }
    },
    {
      "cell_type": "code",
      "source": [
        "filename = \"Deceptive_Opinion_model.sav\"\n",
        "countvectorizer = \"Count_Vectorizer_model.sav\""
      ],
      "metadata": {
        "id": "YJgvY9zYz-WK"
      },
      "execution_count": null,
      "outputs": []
    },
    {
      "cell_type": "code",
      "source": [
        "import pickle"
      ],
      "metadata": {
        "id": "Giy9gBRNIfbK"
      },
      "execution_count": null,
      "outputs": []
    },
    {
      "cell_type": "code",
      "source": [
        " pickle.dump(lr, open(filename, \"wb\"))\n",
        "pickle.dump(cv, open(countvectorizer, \"wb\"))"
      ],
      "metadata": {
        "id": "Z_XZTiQTI5ct",
        "colab": {
          "base_uri": "https://localhost:8080/",
          "height": 165
        },
        "outputId": "e50c9d58-7a68-4a8e-ca45-cb0f912957e9"
      },
      "execution_count": null,
      "outputs": [
        {
          "output_type": "error",
          "ename": "NameError",
          "evalue": "name 'cv' is not defined",
          "traceback": [
            "\u001b[0;31m---------------------------------------------------------------------------\u001b[0m",
            "\u001b[0;31mNameError\u001b[0m                                 Traceback (most recent call last)",
            "\u001b[0;32m<ipython-input-56-b6ab3fbfb6fc>\u001b[0m in \u001b[0;36m<cell line: 2>\u001b[0;34m()\u001b[0m\n\u001b[1;32m      1\u001b[0m \u001b[0mpickle\u001b[0m\u001b[0;34m.\u001b[0m\u001b[0mdump\u001b[0m\u001b[0;34m(\u001b[0m\u001b[0mlr\u001b[0m\u001b[0;34m,\u001b[0m \u001b[0mopen\u001b[0m\u001b[0;34m(\u001b[0m\u001b[0mfilename\u001b[0m\u001b[0;34m,\u001b[0m \u001b[0;34m\"wb\"\u001b[0m\u001b[0;34m)\u001b[0m\u001b[0;34m)\u001b[0m\u001b[0;34m\u001b[0m\u001b[0;34m\u001b[0m\u001b[0m\n\u001b[0;32m----> 2\u001b[0;31m \u001b[0mpickle\u001b[0m\u001b[0;34m.\u001b[0m\u001b[0mdump\u001b[0m\u001b[0;34m(\u001b[0m\u001b[0mcv\u001b[0m\u001b[0;34m,\u001b[0m \u001b[0mopen\u001b[0m\u001b[0;34m(\u001b[0m\u001b[0mcountvectorizer\u001b[0m\u001b[0;34m,\u001b[0m \u001b[0;34m\"wb\"\u001b[0m\u001b[0;34m)\u001b[0m\u001b[0;34m)\u001b[0m\u001b[0;34m\u001b[0m\u001b[0;34m\u001b[0m\u001b[0m\n\u001b[0m",
            "\u001b[0;31mNameError\u001b[0m: name 'cv' is not defined"
          ]
        }
      ]
    },
    {
      "cell_type": "code",
      "source": [
        "from sklearn.feature_extraction.text import CountVectorizer\n",
        "\n",
        "# Load the models\n",
        "loaded_model = pickle.load(open('Deceptive_Opinion_model.sav', 'rb'))\n",
        "cv_model = pickle.load(open('Count_Vectorizer_model.sav', 'rb'))\n",
        "\n",
        "# Define the input data\n",
        "input_data = [\"triple a rate with upgrade to view room was\"]\n",
        "\n",
        "# Transform the input data using the Count Vectorizer\n",
        "input_data_transformed = cv_model.transform(input_data)\n",
        "\n",
        "# Make predictions using the loaded model\n",
        "predictions = loaded_model.predict(input_data_transformed)\n",
        "print(predictions)\n",
        "# Output the predic\n",
        "\n",
        "if(predictions == 1):\n",
        "  print(\"The review is Truthful\")\n",
        "else:\n",
        "  print(\"The review is Deceptive\")\n"
      ],
      "metadata": {
        "id": "Mu_QW8POogQ2",
        "colab": {
          "base_uri": "https://localhost:8080/",
          "height": 219
        },
        "outputId": "6a145576-b502-4115-d536-bb579de5992c"
      },
      "execution_count": null,
      "outputs": [
        {
          "output_type": "error",
          "ename": "FileNotFoundError",
          "evalue": "[Errno 2] No such file or directory: 'Count_Vectorizer_model.sav'",
          "traceback": [
            "\u001b[0;31m---------------------------------------------------------------------------\u001b[0m",
            "\u001b[0;31mFileNotFoundError\u001b[0m                         Traceback (most recent call last)",
            "\u001b[0;32m<ipython-input-57-5d404d9d25e4>\u001b[0m in \u001b[0;36m<cell line: 5>\u001b[0;34m()\u001b[0m\n\u001b[1;32m      3\u001b[0m \u001b[0;31m# Load the models\u001b[0m\u001b[0;34m\u001b[0m\u001b[0;34m\u001b[0m\u001b[0m\n\u001b[1;32m      4\u001b[0m \u001b[0mloaded_model\u001b[0m \u001b[0;34m=\u001b[0m \u001b[0mpickle\u001b[0m\u001b[0;34m.\u001b[0m\u001b[0mload\u001b[0m\u001b[0;34m(\u001b[0m\u001b[0mopen\u001b[0m\u001b[0;34m(\u001b[0m\u001b[0;34m'Deceptive_Opinion_model.sav'\u001b[0m\u001b[0;34m,\u001b[0m \u001b[0;34m'rb'\u001b[0m\u001b[0;34m)\u001b[0m\u001b[0;34m)\u001b[0m\u001b[0;34m\u001b[0m\u001b[0;34m\u001b[0m\u001b[0m\n\u001b[0;32m----> 5\u001b[0;31m \u001b[0mcv_model\u001b[0m \u001b[0;34m=\u001b[0m \u001b[0mpickle\u001b[0m\u001b[0;34m.\u001b[0m\u001b[0mload\u001b[0m\u001b[0;34m(\u001b[0m\u001b[0mopen\u001b[0m\u001b[0;34m(\u001b[0m\u001b[0;34m'Count_Vectorizer_model.sav'\u001b[0m\u001b[0;34m,\u001b[0m \u001b[0;34m'rb'\u001b[0m\u001b[0;34m)\u001b[0m\u001b[0;34m)\u001b[0m\u001b[0;34m\u001b[0m\u001b[0;34m\u001b[0m\u001b[0m\n\u001b[0m\u001b[1;32m      6\u001b[0m \u001b[0;34m\u001b[0m\u001b[0m\n\u001b[1;32m      7\u001b[0m \u001b[0;31m# Define the input data\u001b[0m\u001b[0;34m\u001b[0m\u001b[0;34m\u001b[0m\u001b[0m\n",
            "\u001b[0;31mFileNotFoundError\u001b[0m: [Errno 2] No such file or directory: 'Count_Vectorizer_model.sav'"
          ]
        }
      ]
    },
    {
      "cell_type": "code",
      "source": [
        "from sklearn.ensemble import VotingClassifier\n",
        "\n",
        "# Create a list of base models\n",
        "estimators = list()\n",
        "\n",
        "estimators.append(('Logistic', lr))\n",
        "estimators.append(('SVM', svm))\n",
        "estimators.append(('Naive Bayes', nb))\n",
        "\n",
        "# Create the ensemble model\n",
        "ensemble = VotingClassifier(estimators)\n",
        "\n",
        "# Train the ensemble model\n",
        "ensemble.fit(x_train, y_train)\n",
        "\n",
        "x_test_transformed = vectorizer.transform(x_test)\n",
        "\n",
        "# Make predictions on the test set\n",
        "predictions = ensemble.predict(x_test_transformed)\n",
        "\n",
        "# Evaluate the ensemble model\n",
        "accuracy = accuracy_score(y_test, predictions)\n",
        "print('Ensemble Accuracy:', accuracy)\n",
        "\n",
        "# Generate the classification report\n",
        "print(classification_report(y_test, predictions))\n",
        "\n",
        "# Generate the confusion matrix\n",
        "cm = confusion_matrix(y_test, predictions)\n",
        "\n",
        "# Plot the confusion matrix\n",
        "sns.heatmap(cm, annot=True, fmt=\"d\", cmap=\"Blues\")\n",
        "plt.xlabel(\"Predicted label\")\n",
        "plt.ylabel(\"True label\")\n",
        "plt.title(\"Confusion Matrix\")\n",
        "plt.show()"
      ],
      "metadata": {
        "colab": {
          "base_uri": "https://localhost:8080/",
          "height": 654
        },
        "id": "akQAJaJFxnqZ",
        "outputId": "287f9bee-c793-49da-aaec-5f6b10689a65"
      },
      "execution_count": null,
      "outputs": [
        {
          "output_type": "stream",
          "name": "stdout",
          "text": [
            "Ensemble Accuracy: 0.93125\n",
            "              precision    recall  f1-score   support\n",
            "\n",
            "           0       0.93      0.94      0.93       165\n",
            "           1       0.93      0.92      0.93       155\n",
            "\n",
            "    accuracy                           0.93       320\n",
            "   macro avg       0.93      0.93      0.93       320\n",
            "weighted avg       0.93      0.93      0.93       320\n",
            "\n"
          ]
        },
        {
          "output_type": "display_data",
          "data": {
            "text/plain": [
              "<Figure size 640x480 with 2 Axes>"
            ],
            "image/png": "[encoded data removed]"
          },
          "metadata": {}
        }
      ]
    },
    {
      "cell_type": "code",
      "source": [],
      "metadata": {
        "id": "5lFfs2EzE5gQ"
      },
      "execution_count": null,
      "outputs": []
    }
  ]
}